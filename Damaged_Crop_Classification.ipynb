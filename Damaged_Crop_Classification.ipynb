{
  "nbformat": 4,
  "nbformat_minor": 0,
  "metadata": {
    "colab": {
      "name": "Damaged_Crop_Classification.ipynb",
      "provenance": [],
      "collapsed_sections": [
        "ZP3iwfqy3RpP",
        "GWbzgWus4SiN",
        "eKLNxAo12VJJ",
        "J9zJcX1o4LPK",
        "sgYD4HC-3WkM",
        "do-OSn-sXHem",
        "dIHKpsglILnN",
        "4IrTR6JNGH1w",
        "dsKlwW7qzwlF",
        "66DF_g5Ez931",
        "1F-itVNz0GHq",
        "KSs7rPeMao-s",
        "xEMFV92RFskg",
        "63u8YiL2uY_x",
        "qaWIkJtenyoc",
        "oR9rA4NEjFWS",
        "ZCV0oLbUuq1q",
        "SkXAe2aulhkW",
        "SQkI-ODOCQFZ",
        "1mCZXrKku7X0",
        "QiBv1DzLvA8L",
        "FSZgkTFUiPNW"
      ],
      "include_colab_link": true
    },
    "kernelspec": {
      "name": "python3",
      "display_name": "Python 3"
    },
    "language_info": {
      "name": "python"
    }
  },
  "cells": [
    {
      "cell_type": "markdown",
      "metadata": {
        "id": "view-in-github",
        "colab_type": "text"
      },
      "source": [
        "<a href=\"https://colab.research.google.com/github/ArunitaYen/Classification_Hyperparameter/blob/main/Damaged_Crop_Classification.ipynb\" target=\"_parent\"><img src=\"https://colab.research.google.com/assets/colab-badge.svg\" alt=\"Open In Colab\"/></a>"
      ]
    },
    {
      "cell_type": "code",
      "source": [
        "# It is observed that the accuracy and prediction are better without oversampling (i.e. balacing) the data"
      ],
      "metadata": {
        "id": "W2ggcf7uhGCl"
      },
      "execution_count": null,
      "outputs": []
    },
    {
      "cell_type": "markdown",
      "source": [
        "# Observations"
      ],
      "metadata": {
        "id": "ZP3iwfqy3RpP"
      }
    },
    {
      "cell_type": "markdown",
      "source": [
        "## ***Grid Search CV***  "
      ],
      "metadata": {
        "id": "GWbzgWus4SiN"
      }
    },
    {
      "cell_type": "markdown",
      "source": [
        "\n",
        "*with oversapmling*\n",
        "\n",
        "> **Random Forest**  \n",
        " Accuracy: 67.9045689849201  \n",
        " F1 Score: 0.731365248874125  \n",
        "\n",
        " \n",
        "\n",
        ">**Decision Tree**  \n",
        " Accuracy: 63.23992797659239  \n",
        " F1 Score: 0.7001263141291102   \n",
        "\n",
        "\n",
        "\n",
        "*Without oversampling*   \n",
        "\n",
        "\n",
        "> **Random Forest**  \n",
        " Accuracy: 84.28989421562008  \n",
        " f1 score: 0.7880623936672897  \n",
        "\n",
        "\n",
        "> **Decision Tree**  \n",
        " Accuracy: 84.05919423812739  \n",
        " F1 Score: 0.7934636286673246 "
      ],
      "metadata": {
        "id": "HnPj3oNLzP6Y"
      }
    },
    {
      "cell_type": "markdown",
      "source": [
        "## ***Random Search CV***  "
      ],
      "metadata": {
        "id": "eKLNxAo12VJJ"
      }
    },
    {
      "cell_type": "markdown",
      "source": [
        "\n",
        "*with oversapmling*\n",
        "\n",
        "> **Random Forest**  \n",
        "Accuracy: 68.02835921674544  \n",
        "f1 score: 0.7319591218626418   \n",
        "\n",
        ">**Decision Tree**  \n",
        "Accuracy: 66.21089354040063  \n",
        "f1 score: 0.7182499927132402  \n",
        "\n",
        "\n",
        "\n",
        "*Without oversampling*   \n",
        "\n",
        "\n",
        "> **Random Forest**  \n",
        "Accuracy: 84.28989421562008  \n",
        "f1 score: 0.7880623936672897    \n",
        "\n",
        "\n",
        "> **Decision Tree**  \n",
        "Accuracy: 84.2111186135494  \n",
        "f1 score: 0.7944785090782224"
      ],
      "metadata": {
        "id": "0nirOOQK2Vvv"
      }
    },
    {
      "cell_type": "markdown",
      "source": [
        "## Analysis"
      ],
      "metadata": {
        "id": "J9zJcX1o4LPK"
      }
    },
    {
      "cell_type": "markdown",
      "source": [
        "The models are giving better results without oversampling, so it can be suggested not to use any oversampling technique, also there is no overfitting occuring without oversampling, as it is being taken care by hyper parameter."
      ],
      "metadata": {
        "id": "H9hd32Jt3h3Z"
      }
    },
    {
      "cell_type": "markdown",
      "source": [
        "# Calling Libraries"
      ],
      "metadata": {
        "id": "sgYD4HC-3WkM"
      }
    },
    {
      "cell_type": "code",
      "source": [
        "# 1.1 Call libraries\n",
        "\n",
        "## A. Data manipulation\n",
        "import numpy as np\n",
        "import pandas as pd\n",
        "\n",
        "# 1.2 for data splitting\n",
        "from sklearn.model_selection import train_test_split\n",
        "\n",
        "## B. Transformers for predictors:\n",
        "\n",
        "# 1.3 Class for imputing missing values\n",
        "# https://scikit-learn.org/stable/modules/generated/sklearn.impute.SimpleImputer.html\n",
        "from sklearn.impute import SimpleImputer\n",
        "\n",
        "# 1.4 One hot encode categorical data--Convert to dummy\n",
        "# https://scikit-learn.org/stable/modules/generated/sklearn.preprocessing.OneHotEncoder.html\n",
        "from sklearn.preprocessing import OneHotEncoder as onehot\n",
        "\n",
        "# 1.5 Scale numeric data\n",
        "from sklearn.preprocessing import StandardScaler\n",
        "\n",
        "## C. Transformer for target:\n",
        "\n",
        "# 1.6 Label encode target column\n",
        "from sklearn.preprocessing import LabelEncoder\n",
        "\n",
        "## D. Composite Transformers:\n",
        "\n",
        "# 1.7 Class for applying multiple data transformation\n",
        "#     jobs parallely\n",
        "from sklearn.compose import ColumnTransformer\n",
        "\n",
        "# 1.8 Pipeline class: Class for applying multiple\n",
        "#     data transformations sequentially\n",
        "from sklearn.pipeline import Pipeline\n",
        "\n",
        "## E. Estimator\n",
        "\n",
        "# 1.9 Estimator\n",
        "# Ref: https://scikit-learn.org/stable/modules/generated/sklearn.tree.DecisionTreeClassifier.html\n",
        "# User guide: https://scikit-learn.org/stable/modules/tree.html\n",
        "from sklearn.tree import DecisionTreeClassifier \n",
        "\n",
        "# 1.10 To plot graphs and pipeline diagram\n",
        "import matplotlib.pyplot as plt\n",
        "import plotly.express as px\n",
        "import seaborn as sns\n",
        "from sklearn import set_config"
      ],
      "metadata": {
        "id": "aJOmMm7hw-rH"
      },
      "execution_count": 1,
      "outputs": []
    },
    {
      "cell_type": "code",
      "metadata": {
        "id": "JVR_x1sr2aTC"
      },
      "source": [
        "# Display outputs of all commands from a cell--not just of the last command\n",
        "from IPython.core.interactiveshell import InteractiveShell\n",
        "InteractiveShell.ast_node_interactivity = \"all\""
      ],
      "execution_count": 2,
      "outputs": []
    },
    {
      "cell_type": "code",
      "source": [
        "# Mount google drive:\n",
        "from google.colab import drive\n",
        "drive.mount('/gdrive')"
      ],
      "metadata": {
        "colab": {
          "base_uri": "https://localhost:8080/"
        },
        "id": "T8fawoYcw_CR",
        "outputId": "48344392-3224-4a9f-c5fb-b1050e084124"
      },
      "execution_count": 4,
      "outputs": [
        {
          "output_type": "stream",
          "name": "stdout",
          "text": [
            "Mounted at /gdrive\n"
          ]
        }
      ]
    },
    {
      "cell_type": "code",
      "source": [
        "path = \"/gdrive/MyDrive/crop classification/agriculture.csv\""
      ],
      "metadata": {
        "id": "pQ91On5Mw_-t"
      },
      "execution_count": 5,
      "outputs": []
    },
    {
      "cell_type": "code",
      "source": [
        "crop = pd.read_csv(path)"
      ],
      "metadata": {
        "id": "oQ7WLxElxAaP"
      },
      "execution_count": 6,
      "outputs": []
    },
    {
      "cell_type": "markdown",
      "source": [
        "# Data exploration"
      ],
      "metadata": {
        "id": "do-OSn-sXHem"
      }
    },
    {
      "cell_type": "code",
      "source": [
        "#ID: UniqueID Estimated_Insects_Count: Estimated insects count per square meter Crop_Type: Category of Crop(0,1) \n",
        "#Soil_Type: Category of Soil (0,1) Pesticide_Use_Category: Type of pesticides uses (1- Never, 2-Previously Used, 3-Currently Using) \n",
        "#Number_Doses_Week: Number of doses per week Number_Weeks_Used: Number of weeks used \n",
        "#Number_Weeks_Quit: Number of weeks quit Season: Season Category (1,2,3) \n",
        "#Crop_Damage: Crop Damage Category (0=alive, 1=Damage due to other causes, 2=Damage due to Pesticides)\n",
        "\n",
        "\n",
        "crop.head()"
      ],
      "metadata": {
        "colab": {
          "base_uri": "https://localhost:8080/",
          "height": 206
        },
        "id": "pcT0dVKixAom",
        "outputId": "eaf871dc-9151-4654-e462-fab7ab455eaf"
      },
      "execution_count": null,
      "outputs": [
        {
          "output_type": "execute_result",
          "data": {
            "text/plain": [
              "          ID  Estimated_Insects_Count  Crop_Type  Soil_Type  \\\n",
              "0  F00000001                      188          1          0   \n",
              "1  F00000003                      209          1          0   \n",
              "2  F00000004                      257          1          0   \n",
              "3  F00000005                      257          1          1   \n",
              "4  F00000006                      342          1          0   \n",
              "\n",
              "   Pesticide_Use_Category  Number_Doses_Week  Number_Weeks_Used  \\\n",
              "0                       1                  0                0.0   \n",
              "1                       1                  0                0.0   \n",
              "2                       1                  0                0.0   \n",
              "3                       1                  0                0.0   \n",
              "4                       1                  0                0.0   \n",
              "\n",
              "   Number_Weeks_Quit  Season  Crop_Damage  \n",
              "0                  0       1            0  \n",
              "1                  0       2            1  \n",
              "2                  0       2            1  \n",
              "3                  0       2            1  \n",
              "4                  0       2            1  "
            ],
            "text/html": [
              "\n",
              "  <div id=\"df-02f9a066-6664-4033-8dfc-360f783cccfb\">\n",
              "    <div class=\"colab-df-container\">\n",
              "      <div>\n",
              "<style scoped>\n",
              "    .dataframe tbody tr th:only-of-type {\n",
              "        vertical-align: middle;\n",
              "    }\n",
              "\n",
              "    .dataframe tbody tr th {\n",
              "        vertical-align: top;\n",
              "    }\n",
              "\n",
              "    .dataframe thead th {\n",
              "        text-align: right;\n",
              "    }\n",
              "</style>\n",
              "<table border=\"1\" class=\"dataframe\">\n",
              "  <thead>\n",
              "    <tr style=\"text-align: right;\">\n",
              "      <th></th>\n",
              "      <th>ID</th>\n",
              "      <th>Estimated_Insects_Count</th>\n",
              "      <th>Crop_Type</th>\n",
              "      <th>Soil_Type</th>\n",
              "      <th>Pesticide_Use_Category</th>\n",
              "      <th>Number_Doses_Week</th>\n",
              "      <th>Number_Weeks_Used</th>\n",
              "      <th>Number_Weeks_Quit</th>\n",
              "      <th>Season</th>\n",
              "      <th>Crop_Damage</th>\n",
              "    </tr>\n",
              "  </thead>\n",
              "  <tbody>\n",
              "    <tr>\n",
              "      <th>0</th>\n",
              "      <td>F00000001</td>\n",
              "      <td>188</td>\n",
              "      <td>1</td>\n",
              "      <td>0</td>\n",
              "      <td>1</td>\n",
              "      <td>0</td>\n",
              "      <td>0.0</td>\n",
              "      <td>0</td>\n",
              "      <td>1</td>\n",
              "      <td>0</td>\n",
              "    </tr>\n",
              "    <tr>\n",
              "      <th>1</th>\n",
              "      <td>F00000003</td>\n",
              "      <td>209</td>\n",
              "      <td>1</td>\n",
              "      <td>0</td>\n",
              "      <td>1</td>\n",
              "      <td>0</td>\n",
              "      <td>0.0</td>\n",
              "      <td>0</td>\n",
              "      <td>2</td>\n",
              "      <td>1</td>\n",
              "    </tr>\n",
              "    <tr>\n",
              "      <th>2</th>\n",
              "      <td>F00000004</td>\n",
              "      <td>257</td>\n",
              "      <td>1</td>\n",
              "      <td>0</td>\n",
              "      <td>1</td>\n",
              "      <td>0</td>\n",
              "      <td>0.0</td>\n",
              "      <td>0</td>\n",
              "      <td>2</td>\n",
              "      <td>1</td>\n",
              "    </tr>\n",
              "    <tr>\n",
              "      <th>3</th>\n",
              "      <td>F00000005</td>\n",
              "      <td>257</td>\n",
              "      <td>1</td>\n",
              "      <td>1</td>\n",
              "      <td>1</td>\n",
              "      <td>0</td>\n",
              "      <td>0.0</td>\n",
              "      <td>0</td>\n",
              "      <td>2</td>\n",
              "      <td>1</td>\n",
              "    </tr>\n",
              "    <tr>\n",
              "      <th>4</th>\n",
              "      <td>F00000006</td>\n",
              "      <td>342</td>\n",
              "      <td>1</td>\n",
              "      <td>0</td>\n",
              "      <td>1</td>\n",
              "      <td>0</td>\n",
              "      <td>0.0</td>\n",
              "      <td>0</td>\n",
              "      <td>2</td>\n",
              "      <td>1</td>\n",
              "    </tr>\n",
              "  </tbody>\n",
              "</table>\n",
              "</div>\n",
              "      <button class=\"colab-df-convert\" onclick=\"convertToInteractive('df-02f9a066-6664-4033-8dfc-360f783cccfb')\"\n",
              "              title=\"Convert this dataframe to an interactive table.\"\n",
              "              style=\"display:none;\">\n",
              "        \n",
              "  <svg xmlns=\"http://www.w3.org/2000/svg\" height=\"24px\"viewBox=\"0 0 24 24\"\n",
              "       width=\"24px\">\n",
              "    <path d=\"M0 0h24v24H0V0z\" fill=\"none\"/>\n",
              "    <path d=\"M18.56 5.44l.94 2.06.94-2.06 2.06-.94-2.06-.94-.94-2.06-.94 2.06-2.06.94zm-11 1L8.5 8.5l.94-2.06 2.06-.94-2.06-.94L8.5 2.5l-.94 2.06-2.06.94zm10 10l.94 2.06.94-2.06 2.06-.94-2.06-.94-.94-2.06-.94 2.06-2.06.94z\"/><path d=\"M17.41 7.96l-1.37-1.37c-.4-.4-.92-.59-1.43-.59-.52 0-1.04.2-1.43.59L10.3 9.45l-7.72 7.72c-.78.78-.78 2.05 0 2.83L4 21.41c.39.39.9.59 1.41.59.51 0 1.02-.2 1.41-.59l7.78-7.78 2.81-2.81c.8-.78.8-2.07 0-2.86zM5.41 20L4 18.59l7.72-7.72 1.47 1.35L5.41 20z\"/>\n",
              "  </svg>\n",
              "      </button>\n",
              "      \n",
              "  <style>\n",
              "    .colab-df-container {\n",
              "      display:flex;\n",
              "      flex-wrap:wrap;\n",
              "      gap: 12px;\n",
              "    }\n",
              "\n",
              "    .colab-df-convert {\n",
              "      background-color: #E8F0FE;\n",
              "      border: none;\n",
              "      border-radius: 50%;\n",
              "      cursor: pointer;\n",
              "      display: none;\n",
              "      fill: #1967D2;\n",
              "      height: 32px;\n",
              "      padding: 0 0 0 0;\n",
              "      width: 32px;\n",
              "    }\n",
              "\n",
              "    .colab-df-convert:hover {\n",
              "      background-color: #E2EBFA;\n",
              "      box-shadow: 0px 1px 2px rgba(60, 64, 67, 0.3), 0px 1px 3px 1px rgba(60, 64, 67, 0.15);\n",
              "      fill: #174EA6;\n",
              "    }\n",
              "\n",
              "    [theme=dark] .colab-df-convert {\n",
              "      background-color: #3B4455;\n",
              "      fill: #D2E3FC;\n",
              "    }\n",
              "\n",
              "    [theme=dark] .colab-df-convert:hover {\n",
              "      background-color: #434B5C;\n",
              "      box-shadow: 0px 1px 3px 1px rgba(0, 0, 0, 0.15);\n",
              "      filter: drop-shadow(0px 1px 2px rgba(0, 0, 0, 0.3));\n",
              "      fill: #FFFFFF;\n",
              "    }\n",
              "  </style>\n",
              "\n",
              "      <script>\n",
              "        const buttonEl =\n",
              "          document.querySelector('#df-02f9a066-6664-4033-8dfc-360f783cccfb button.colab-df-convert');\n",
              "        buttonEl.style.display =\n",
              "          google.colab.kernel.accessAllowed ? 'block' : 'none';\n",
              "\n",
              "        async function convertToInteractive(key) {\n",
              "          const element = document.querySelector('#df-02f9a066-6664-4033-8dfc-360f783cccfb');\n",
              "          const dataTable =\n",
              "            await google.colab.kernel.invokeFunction('convertToInteractive',\n",
              "                                                     [key], {});\n",
              "          if (!dataTable) return;\n",
              "\n",
              "          const docLinkHtml = 'Like what you see? Visit the ' +\n",
              "            '<a target=\"_blank\" href=https://colab.research.google.com/notebooks/data_table.ipynb>data table notebook</a>'\n",
              "            + ' to learn more about interactive tables.';\n",
              "          element.innerHTML = '';\n",
              "          dataTable['output_type'] = 'display_data';\n",
              "          await google.colab.output.renderOutput(dataTable, element);\n",
              "          const docLink = document.createElement('div');\n",
              "          docLink.innerHTML = docLinkHtml;\n",
              "          element.appendChild(docLink);\n",
              "        }\n",
              "      </script>\n",
              "    </div>\n",
              "  </div>\n",
              "  "
            ]
          },
          "metadata": {},
          "execution_count": 6
        }
      ]
    },
    {
      "cell_type": "code",
      "source": [
        "#checking the shape of the dataset\n",
        "crop.shape  #(rows = 89000, cols = 10)"
      ],
      "metadata": {
        "colab": {
          "base_uri": "https://localhost:8080/"
        },
        "id": "BBpLbpvJ27do",
        "outputId": "89f5b31f-241b-4f7f-e6d6-605566de55b3"
      },
      "execution_count": null,
      "outputs": [
        {
          "output_type": "execute_result",
          "data": {
            "text/plain": [
              "(88858, 10)"
            ]
          },
          "metadata": {},
          "execution_count": 7
        }
      ]
    },
    {
      "cell_type": "code",
      "source": [
        "#checking null values in the dataset\n",
        "crop.isna().sum()"
      ],
      "metadata": {
        "colab": {
          "base_uri": "https://localhost:8080/"
        },
        "id": "SujP978Z3o2p",
        "outputId": "b8836d14-62b5-4482-de51-ae8949e951d3"
      },
      "execution_count": null,
      "outputs": [
        {
          "output_type": "execute_result",
          "data": {
            "text/plain": [
              "ID                            0\n",
              "Estimated_Insects_Count       0\n",
              "Crop_Type                     0\n",
              "Soil_Type                     0\n",
              "Pesticide_Use_Category        0\n",
              "Number_Doses_Week             0\n",
              "Number_Weeks_Used          9000\n",
              "Number_Weeks_Quit             0\n",
              "Season                        0\n",
              "Crop_Damage                   0\n",
              "dtype: int64"
            ]
          },
          "metadata": {},
          "execution_count": 8
        }
      ]
    },
    {
      "cell_type": "code",
      "source": [
        "#checking the rows having null values to check the pattern if any\n",
        "df = crop[crop.isna().any(axis=1)]\n",
        "df.tail()"
      ],
      "metadata": {
        "colab": {
          "base_uri": "https://localhost:8080/",
          "height": 206
        },
        "id": "ByyLgZpR3o09",
        "outputId": "949b9e1d-e90a-4f29-fca7-a3ca1aa2c939"
      },
      "execution_count": null,
      "outputs": [
        {
          "output_type": "execute_result",
          "data": {
            "text/plain": [
              "              ID  Estimated_Insects_Count  Crop_Type  Soil_Type  \\\n",
              "88786  F00155793                     1785          1          0   \n",
              "88788  F00155801                     1898          1          0   \n",
              "88825  F00155882                     2542          1          0   \n",
              "88833  F00155899                     2687          1          0   \n",
              "88838  F00155906                     2840          1          0   \n",
              "\n",
              "       Pesticide_Use_Category  Number_Doses_Week  Number_Weeks_Used  \\\n",
              "88786                       2                 60                NaN   \n",
              "88788                       2                 15                NaN   \n",
              "88825                       2                 10                NaN   \n",
              "88833                       2                 10                NaN   \n",
              "88838                       2                 20                NaN   \n",
              "\n",
              "       Number_Weeks_Quit  Season  Crop_Damage  \n",
              "88786                 16       2            0  \n",
              "88788                  3       1            0  \n",
              "88825                 21       2            0  \n",
              "88833                 21       2            0  \n",
              "88838                 13       1            0  "
            ],
            "text/html": [
              "\n",
              "  <div id=\"df-85d50424-7015-4fc9-aa1f-6b7b9352c91c\">\n",
              "    <div class=\"colab-df-container\">\n",
              "      <div>\n",
              "<style scoped>\n",
              "    .dataframe tbody tr th:only-of-type {\n",
              "        vertical-align: middle;\n",
              "    }\n",
              "\n",
              "    .dataframe tbody tr th {\n",
              "        vertical-align: top;\n",
              "    }\n",
              "\n",
              "    .dataframe thead th {\n",
              "        text-align: right;\n",
              "    }\n",
              "</style>\n",
              "<table border=\"1\" class=\"dataframe\">\n",
              "  <thead>\n",
              "    <tr style=\"text-align: right;\">\n",
              "      <th></th>\n",
              "      <th>ID</th>\n",
              "      <th>Estimated_Insects_Count</th>\n",
              "      <th>Crop_Type</th>\n",
              "      <th>Soil_Type</th>\n",
              "      <th>Pesticide_Use_Category</th>\n",
              "      <th>Number_Doses_Week</th>\n",
              "      <th>Number_Weeks_Used</th>\n",
              "      <th>Number_Weeks_Quit</th>\n",
              "      <th>Season</th>\n",
              "      <th>Crop_Damage</th>\n",
              "    </tr>\n",
              "  </thead>\n",
              "  <tbody>\n",
              "    <tr>\n",
              "      <th>88786</th>\n",
              "      <td>F00155793</td>\n",
              "      <td>1785</td>\n",
              "      <td>1</td>\n",
              "      <td>0</td>\n",
              "      <td>2</td>\n",
              "      <td>60</td>\n",
              "      <td>NaN</td>\n",
              "      <td>16</td>\n",
              "      <td>2</td>\n",
              "      <td>0</td>\n",
              "    </tr>\n",
              "    <tr>\n",
              "      <th>88788</th>\n",
              "      <td>F00155801</td>\n",
              "      <td>1898</td>\n",
              "      <td>1</td>\n",
              "      <td>0</td>\n",
              "      <td>2</td>\n",
              "      <td>15</td>\n",
              "      <td>NaN</td>\n",
              "      <td>3</td>\n",
              "      <td>1</td>\n",
              "      <td>0</td>\n",
              "    </tr>\n",
              "    <tr>\n",
              "      <th>88825</th>\n",
              "      <td>F00155882</td>\n",
              "      <td>2542</td>\n",
              "      <td>1</td>\n",
              "      <td>0</td>\n",
              "      <td>2</td>\n",
              "      <td>10</td>\n",
              "      <td>NaN</td>\n",
              "      <td>21</td>\n",
              "      <td>2</td>\n",
              "      <td>0</td>\n",
              "    </tr>\n",
              "    <tr>\n",
              "      <th>88833</th>\n",
              "      <td>F00155899</td>\n",
              "      <td>2687</td>\n",
              "      <td>1</td>\n",
              "      <td>0</td>\n",
              "      <td>2</td>\n",
              "      <td>10</td>\n",
              "      <td>NaN</td>\n",
              "      <td>21</td>\n",
              "      <td>2</td>\n",
              "      <td>0</td>\n",
              "    </tr>\n",
              "    <tr>\n",
              "      <th>88838</th>\n",
              "      <td>F00155906</td>\n",
              "      <td>2840</td>\n",
              "      <td>1</td>\n",
              "      <td>0</td>\n",
              "      <td>2</td>\n",
              "      <td>20</td>\n",
              "      <td>NaN</td>\n",
              "      <td>13</td>\n",
              "      <td>1</td>\n",
              "      <td>0</td>\n",
              "    </tr>\n",
              "  </tbody>\n",
              "</table>\n",
              "</div>\n",
              "      <button class=\"colab-df-convert\" onclick=\"convertToInteractive('df-85d50424-7015-4fc9-aa1f-6b7b9352c91c')\"\n",
              "              title=\"Convert this dataframe to an interactive table.\"\n",
              "              style=\"display:none;\">\n",
              "        \n",
              "  <svg xmlns=\"http://www.w3.org/2000/svg\" height=\"24px\"viewBox=\"0 0 24 24\"\n",
              "       width=\"24px\">\n",
              "    <path d=\"M0 0h24v24H0V0z\" fill=\"none\"/>\n",
              "    <path d=\"M18.56 5.44l.94 2.06.94-2.06 2.06-.94-2.06-.94-.94-2.06-.94 2.06-2.06.94zm-11 1L8.5 8.5l.94-2.06 2.06-.94-2.06-.94L8.5 2.5l-.94 2.06-2.06.94zm10 10l.94 2.06.94-2.06 2.06-.94-2.06-.94-.94-2.06-.94 2.06-2.06.94z\"/><path d=\"M17.41 7.96l-1.37-1.37c-.4-.4-.92-.59-1.43-.59-.52 0-1.04.2-1.43.59L10.3 9.45l-7.72 7.72c-.78.78-.78 2.05 0 2.83L4 21.41c.39.39.9.59 1.41.59.51 0 1.02-.2 1.41-.59l7.78-7.78 2.81-2.81c.8-.78.8-2.07 0-2.86zM5.41 20L4 18.59l7.72-7.72 1.47 1.35L5.41 20z\"/>\n",
              "  </svg>\n",
              "      </button>\n",
              "      \n",
              "  <style>\n",
              "    .colab-df-container {\n",
              "      display:flex;\n",
              "      flex-wrap:wrap;\n",
              "      gap: 12px;\n",
              "    }\n",
              "\n",
              "    .colab-df-convert {\n",
              "      background-color: #E8F0FE;\n",
              "      border: none;\n",
              "      border-radius: 50%;\n",
              "      cursor: pointer;\n",
              "      display: none;\n",
              "      fill: #1967D2;\n",
              "      height: 32px;\n",
              "      padding: 0 0 0 0;\n",
              "      width: 32px;\n",
              "    }\n",
              "\n",
              "    .colab-df-convert:hover {\n",
              "      background-color: #E2EBFA;\n",
              "      box-shadow: 0px 1px 2px rgba(60, 64, 67, 0.3), 0px 1px 3px 1px rgba(60, 64, 67, 0.15);\n",
              "      fill: #174EA6;\n",
              "    }\n",
              "\n",
              "    [theme=dark] .colab-df-convert {\n",
              "      background-color: #3B4455;\n",
              "      fill: #D2E3FC;\n",
              "    }\n",
              "\n",
              "    [theme=dark] .colab-df-convert:hover {\n",
              "      background-color: #434B5C;\n",
              "      box-shadow: 0px 1px 3px 1px rgba(0, 0, 0, 0.15);\n",
              "      filter: drop-shadow(0px 1px 2px rgba(0, 0, 0, 0.3));\n",
              "      fill: #FFFFFF;\n",
              "    }\n",
              "  </style>\n",
              "\n",
              "      <script>\n",
              "        const buttonEl =\n",
              "          document.querySelector('#df-85d50424-7015-4fc9-aa1f-6b7b9352c91c button.colab-df-convert');\n",
              "        buttonEl.style.display =\n",
              "          google.colab.kernel.accessAllowed ? 'block' : 'none';\n",
              "\n",
              "        async function convertToInteractive(key) {\n",
              "          const element = document.querySelector('#df-85d50424-7015-4fc9-aa1f-6b7b9352c91c');\n",
              "          const dataTable =\n",
              "            await google.colab.kernel.invokeFunction('convertToInteractive',\n",
              "                                                     [key], {});\n",
              "          if (!dataTable) return;\n",
              "\n",
              "          const docLinkHtml = 'Like what you see? Visit the ' +\n",
              "            '<a target=\"_blank\" href=https://colab.research.google.com/notebooks/data_table.ipynb>data table notebook</a>'\n",
              "            + ' to learn more about interactive tables.';\n",
              "          element.innerHTML = '';\n",
              "          dataTable['output_type'] = 'display_data';\n",
              "          await google.colab.output.renderOutput(dataTable, element);\n",
              "          const docLink = document.createElement('div');\n",
              "          docLink.innerHTML = docLinkHtml;\n",
              "          element.appendChild(docLink);\n",
              "        }\n",
              "      </script>\n",
              "    </div>\n",
              "  </div>\n",
              "  "
            ]
          },
          "metadata": {},
          "execution_count": 9
        }
      ]
    },
    {
      "cell_type": "code",
      "source": [],
      "metadata": {
        "id": "7FadPW8mXzcH"
      },
      "execution_count": null,
      "outputs": []
    },
    {
      "cell_type": "code",
      "source": [
        "#Crop_Type is categorical\n",
        "crop[\"Crop_Type\"].unique()"
      ],
      "metadata": {
        "colab": {
          "base_uri": "https://localhost:8080/"
        },
        "id": "YD5kEoRszlvw",
        "outputId": "64cc81d2-88fa-437b-d60d-af0816314dcb"
      },
      "execution_count": null,
      "outputs": [
        {
          "output_type": "execute_result",
          "data": {
            "text/plain": [
              "array([1, 0])"
            ]
          },
          "metadata": {},
          "execution_count": 10
        }
      ]
    },
    {
      "cell_type": "code",
      "source": [
        "crop.info()"
      ],
      "metadata": {
        "colab": {
          "base_uri": "https://localhost:8080/"
        },
        "id": "F0XE30yTWBla",
        "outputId": "100b3faa-0070-4e22-dd9d-f8265f0509f2"
      },
      "execution_count": null,
      "outputs": [
        {
          "output_type": "stream",
          "name": "stdout",
          "text": [
            "<class 'pandas.core.frame.DataFrame'>\n",
            "RangeIndex: 88858 entries, 0 to 88857\n",
            "Data columns (total 10 columns):\n",
            " #   Column                   Non-Null Count  Dtype  \n",
            "---  ------                   --------------  -----  \n",
            " 0   ID                       88858 non-null  object \n",
            " 1   Estimated_Insects_Count  88858 non-null  int64  \n",
            " 2   Crop_Type                88858 non-null  int64  \n",
            " 3   Soil_Type                88858 non-null  int64  \n",
            " 4   Pesticide_Use_Category   88858 non-null  int64  \n",
            " 5   Number_Doses_Week        88858 non-null  int64  \n",
            " 6   Number_Weeks_Used        79858 non-null  float64\n",
            " 7   Number_Weeks_Quit        88858 non-null  int64  \n",
            " 8   Season                   88858 non-null  int64  \n",
            " 9   Crop_Damage              88858 non-null  int64  \n",
            "dtypes: float64(1), int64(8), object(1)\n",
            "memory usage: 6.8+ MB\n"
          ]
        }
      ]
    },
    {
      "cell_type": "code",
      "source": [
        "num_columns=['Estimated_Insects_Count','Number_Doses_Week', 'Number_Weeks_Used', 'Number_Weeks_Quit']\n",
        "cat_columns=[ 'Crop_Type', 'Soil_Type', 'Pesticide_Use_Category', 'Season']"
      ],
      "metadata": {
        "id": "LWdRFjQgYbcL"
      },
      "execution_count": 15,
      "outputs": []
    },
    {
      "cell_type": "code",
      "source": [
        "df_crop=crop.drop('ID', axis=1)"
      ],
      "metadata": {
        "id": "koEtY8d4Zf84"
      },
      "execution_count": null,
      "outputs": []
    },
    {
      "cell_type": "code",
      "source": [
        "df_crop[num_columns].describe()"
      ],
      "metadata": {
        "colab": {
          "base_uri": "https://localhost:8080/",
          "height": 300
        },
        "id": "uup72E1m0sa3",
        "outputId": "f1898d2c-fd3c-4516-a063-3c7f25ffc8ad"
      },
      "execution_count": null,
      "outputs": [
        {
          "output_type": "execute_result",
          "data": {
            "text/plain": [
              "       Estimated_Insects_Count  Number_Doses_Week  Number_Weeks_Used  \\\n",
              "count             88858.000000       88858.000000       79858.000000   \n",
              "mean               1399.012210          25.849952          28.623970   \n",
              "std                 849.048781          15.554428          12.391881   \n",
              "min                 150.000000           0.000000           0.000000   \n",
              "25%                 731.000000          15.000000          20.000000   \n",
              "50%                1212.000000          20.000000          28.000000   \n",
              "75%                1898.000000          40.000000          37.000000   \n",
              "max                4097.000000          95.000000          67.000000   \n",
              "\n",
              "       Number_Weeks_Quit  \n",
              "count       88858.000000  \n",
              "mean            9.589986  \n",
              "std             9.900631  \n",
              "min             0.000000  \n",
              "25%             0.000000  \n",
              "50%             7.000000  \n",
              "75%            16.000000  \n",
              "max            50.000000  "
            ],
            "text/html": [
              "\n",
              "  <div id=\"df-eda92770-2495-42a9-9549-8deb66a3c892\">\n",
              "    <div class=\"colab-df-container\">\n",
              "      <div>\n",
              "<style scoped>\n",
              "    .dataframe tbody tr th:only-of-type {\n",
              "        vertical-align: middle;\n",
              "    }\n",
              "\n",
              "    .dataframe tbody tr th {\n",
              "        vertical-align: top;\n",
              "    }\n",
              "\n",
              "    .dataframe thead th {\n",
              "        text-align: right;\n",
              "    }\n",
              "</style>\n",
              "<table border=\"1\" class=\"dataframe\">\n",
              "  <thead>\n",
              "    <tr style=\"text-align: right;\">\n",
              "      <th></th>\n",
              "      <th>Estimated_Insects_Count</th>\n",
              "      <th>Number_Doses_Week</th>\n",
              "      <th>Number_Weeks_Used</th>\n",
              "      <th>Number_Weeks_Quit</th>\n",
              "    </tr>\n",
              "  </thead>\n",
              "  <tbody>\n",
              "    <tr>\n",
              "      <th>count</th>\n",
              "      <td>88858.000000</td>\n",
              "      <td>88858.000000</td>\n",
              "      <td>79858.000000</td>\n",
              "      <td>88858.000000</td>\n",
              "    </tr>\n",
              "    <tr>\n",
              "      <th>mean</th>\n",
              "      <td>1399.012210</td>\n",
              "      <td>25.849952</td>\n",
              "      <td>28.623970</td>\n",
              "      <td>9.589986</td>\n",
              "    </tr>\n",
              "    <tr>\n",
              "      <th>std</th>\n",
              "      <td>849.048781</td>\n",
              "      <td>15.554428</td>\n",
              "      <td>12.391881</td>\n",
              "      <td>9.900631</td>\n",
              "    </tr>\n",
              "    <tr>\n",
              "      <th>min</th>\n",
              "      <td>150.000000</td>\n",
              "      <td>0.000000</td>\n",
              "      <td>0.000000</td>\n",
              "      <td>0.000000</td>\n",
              "    </tr>\n",
              "    <tr>\n",
              "      <th>25%</th>\n",
              "      <td>731.000000</td>\n",
              "      <td>15.000000</td>\n",
              "      <td>20.000000</td>\n",
              "      <td>0.000000</td>\n",
              "    </tr>\n",
              "    <tr>\n",
              "      <th>50%</th>\n",
              "      <td>1212.000000</td>\n",
              "      <td>20.000000</td>\n",
              "      <td>28.000000</td>\n",
              "      <td>7.000000</td>\n",
              "    </tr>\n",
              "    <tr>\n",
              "      <th>75%</th>\n",
              "      <td>1898.000000</td>\n",
              "      <td>40.000000</td>\n",
              "      <td>37.000000</td>\n",
              "      <td>16.000000</td>\n",
              "    </tr>\n",
              "    <tr>\n",
              "      <th>max</th>\n",
              "      <td>4097.000000</td>\n",
              "      <td>95.000000</td>\n",
              "      <td>67.000000</td>\n",
              "      <td>50.000000</td>\n",
              "    </tr>\n",
              "  </tbody>\n",
              "</table>\n",
              "</div>\n",
              "      <button class=\"colab-df-convert\" onclick=\"convertToInteractive('df-eda92770-2495-42a9-9549-8deb66a3c892')\"\n",
              "              title=\"Convert this dataframe to an interactive table.\"\n",
              "              style=\"display:none;\">\n",
              "        \n",
              "  <svg xmlns=\"http://www.w3.org/2000/svg\" height=\"24px\"viewBox=\"0 0 24 24\"\n",
              "       width=\"24px\">\n",
              "    <path d=\"M0 0h24v24H0V0z\" fill=\"none\"/>\n",
              "    <path d=\"M18.56 5.44l.94 2.06.94-2.06 2.06-.94-2.06-.94-.94-2.06-.94 2.06-2.06.94zm-11 1L8.5 8.5l.94-2.06 2.06-.94-2.06-.94L8.5 2.5l-.94 2.06-2.06.94zm10 10l.94 2.06.94-2.06 2.06-.94-2.06-.94-.94-2.06-.94 2.06-2.06.94z\"/><path d=\"M17.41 7.96l-1.37-1.37c-.4-.4-.92-.59-1.43-.59-.52 0-1.04.2-1.43.59L10.3 9.45l-7.72 7.72c-.78.78-.78 2.05 0 2.83L4 21.41c.39.39.9.59 1.41.59.51 0 1.02-.2 1.41-.59l7.78-7.78 2.81-2.81c.8-.78.8-2.07 0-2.86zM5.41 20L4 18.59l7.72-7.72 1.47 1.35L5.41 20z\"/>\n",
              "  </svg>\n",
              "      </button>\n",
              "      \n",
              "  <style>\n",
              "    .colab-df-container {\n",
              "      display:flex;\n",
              "      flex-wrap:wrap;\n",
              "      gap: 12px;\n",
              "    }\n",
              "\n",
              "    .colab-df-convert {\n",
              "      background-color: #E8F0FE;\n",
              "      border: none;\n",
              "      border-radius: 50%;\n",
              "      cursor: pointer;\n",
              "      display: none;\n",
              "      fill: #1967D2;\n",
              "      height: 32px;\n",
              "      padding: 0 0 0 0;\n",
              "      width: 32px;\n",
              "    }\n",
              "\n",
              "    .colab-df-convert:hover {\n",
              "      background-color: #E2EBFA;\n",
              "      box-shadow: 0px 1px 2px rgba(60, 64, 67, 0.3), 0px 1px 3px 1px rgba(60, 64, 67, 0.15);\n",
              "      fill: #174EA6;\n",
              "    }\n",
              "\n",
              "    [theme=dark] .colab-df-convert {\n",
              "      background-color: #3B4455;\n",
              "      fill: #D2E3FC;\n",
              "    }\n",
              "\n",
              "    [theme=dark] .colab-df-convert:hover {\n",
              "      background-color: #434B5C;\n",
              "      box-shadow: 0px 1px 3px 1px rgba(0, 0, 0, 0.15);\n",
              "      filter: drop-shadow(0px 1px 2px rgba(0, 0, 0, 0.3));\n",
              "      fill: #FFFFFF;\n",
              "    }\n",
              "  </style>\n",
              "\n",
              "      <script>\n",
              "        const buttonEl =\n",
              "          document.querySelector('#df-eda92770-2495-42a9-9549-8deb66a3c892 button.colab-df-convert');\n",
              "        buttonEl.style.display =\n",
              "          google.colab.kernel.accessAllowed ? 'block' : 'none';\n",
              "\n",
              "        async function convertToInteractive(key) {\n",
              "          const element = document.querySelector('#df-eda92770-2495-42a9-9549-8deb66a3c892');\n",
              "          const dataTable =\n",
              "            await google.colab.kernel.invokeFunction('convertToInteractive',\n",
              "                                                     [key], {});\n",
              "          if (!dataTable) return;\n",
              "\n",
              "          const docLinkHtml = 'Like what you see? Visit the ' +\n",
              "            '<a target=\"_blank\" href=https://colab.research.google.com/notebooks/data_table.ipynb>data table notebook</a>'\n",
              "            + ' to learn more about interactive tables.';\n",
              "          element.innerHTML = '';\n",
              "          dataTable['output_type'] = 'display_data';\n",
              "          await google.colab.output.renderOutput(dataTable, element);\n",
              "          const docLink = document.createElement('div');\n",
              "          docLink.innerHTML = docLinkHtml;\n",
              "          element.appendChild(docLink);\n",
              "        }\n",
              "      </script>\n",
              "    </div>\n",
              "  </div>\n",
              "  "
            ]
          },
          "metadata": {},
          "execution_count": 14
        }
      ]
    },
    {
      "cell_type": "markdown",
      "source": [
        "#Visualization"
      ],
      "metadata": {
        "id": "dIHKpsglILnN"
      }
    },
    {
      "cell_type": "code",
      "source": [
        "#Line Plot\n",
        "sns.lineplot( crop['Pesticide_Use_Category'], crop['Estimated_Insects_Count'],hue =crop[\"Crop_Type\"])"
      ],
      "metadata": {
        "colab": {
          "base_uri": "https://localhost:8080/",
          "height": 351
        },
        "id": "QBTEFQFNvh15",
        "outputId": "595d71da-99e5-4239-84d7-d91bf8d0402a"
      },
      "execution_count": null,
      "outputs": [
        {
          "output_type": "stream",
          "name": "stderr",
          "text": [
            "/usr/local/lib/python3.7/dist-packages/seaborn/_decorators.py:43: FutureWarning: Pass the following variables as keyword args: x, y. From version 0.12, the only valid positional argument will be `data`, and passing other arguments without an explicit keyword will result in an error or misinterpretation.\n",
            "  FutureWarning\n"
          ]
        },
        {
          "output_type": "execute_result",
          "data": {
            "text/plain": [
              "<matplotlib.axes._subplots.AxesSubplot at 0x7f6e8fe9fd10>"
            ]
          },
          "metadata": {},
          "execution_count": 123
        },
        {
          "output_type": "display_data",
          "data": {
            "text/plain": [
              "<Figure size 432x288 with 1 Axes>"
            ],
            "image/png": "[encoded data removed]"
          },
          "metadata": {
            "needs_background": "light"
          }
        }
      ]
    },
    {
      "cell_type": "markdown",
      "source": [
        "This plot explains that as pesticide category varies from 1,2 to 3 , the estimated insects count also decreases for both the crop types."
      ],
      "metadata": {
        "id": "jxNLaMDzAjV3"
      }
    },
    {
      "cell_type": "code",
      "source": [
        "#Scatterplot\n",
        "sns.scatterplot(crop['Pesticide_Use_Category'], crop['Estimated_Insects_Count'],hue =crop[\"Crop_Type\"])"
      ],
      "metadata": {
        "colab": {
          "base_uri": "https://localhost:8080/",
          "height": 351
        },
        "id": "WjYZV7tLz1g7",
        "outputId": "7a4e760c-ff7a-4e59-b6fe-a92386eb656b"
      },
      "execution_count": null,
      "outputs": [
        {
          "output_type": "stream",
          "name": "stderr",
          "text": [
            "/usr/local/lib/python3.7/dist-packages/seaborn/_decorators.py:43: FutureWarning: Pass the following variables as keyword args: x, y. From version 0.12, the only valid positional argument will be `data`, and passing other arguments without an explicit keyword will result in an error or misinterpretation.\n",
            "  FutureWarning\n"
          ]
        },
        {
          "output_type": "execute_result",
          "data": {
            "text/plain": [
              "<matplotlib.axes._subplots.AxesSubplot at 0x7f6e8fdc20d0>"
            ]
          },
          "metadata": {},
          "execution_count": 125
        },
        {
          "output_type": "display_data",
          "data": {
            "text/plain": [
              "<Figure size 432x288 with 1 Axes>"
            ],
            "image/png": "[encoded data removed]"
          },
          "metadata": {
            "needs_background": "light"
          }
        }
      ]
    },
    {
      "cell_type": "markdown",
      "source": [
        "This plot clearly tells that the pesticide category works absolutely fine with crop type\"0\" in reducing the insects count."
      ],
      "metadata": {
        "id": "wLR6yYYm_NTE"
      }
    },
    {
      "cell_type": "code",
      "source": [
        "#Boxplot\n",
        "sns.boxplot( crop['Season'], crop['Estimated_Insects_Count'] )"
      ],
      "metadata": {
        "colab": {
          "base_uri": "https://localhost:8080/",
          "height": 350
        },
        "id": "LvWYsSZZ1EzA",
        "outputId": "0233e31f-66ea-449f-bf2d-95a3bc037181"
      },
      "execution_count": null,
      "outputs": [
        {
          "output_type": "stream",
          "name": "stderr",
          "text": [
            "/usr/local/lib/python3.7/dist-packages/seaborn/_decorators.py:43: FutureWarning: Pass the following variables as keyword args: x, y. From version 0.12, the only valid positional argument will be `data`, and passing other arguments without an explicit keyword will result in an error or misinterpretation.\n",
            "  FutureWarning\n"
          ]
        },
        {
          "output_type": "execute_result",
          "data": {
            "text/plain": [
              "<matplotlib.axes._subplots.AxesSubplot at 0x7f6e8f41f550>"
            ]
          },
          "metadata": {},
          "execution_count": 129
        },
        {
          "output_type": "display_data",
          "data": {
            "text/plain": [
              "<Figure size 432x288 with 1 Axes>"
            ],
            "image/png": "[encoded data removed]"
          },
          "metadata": {
            "needs_background": "light"
          }
        }
      ]
    },
    {
      "cell_type": "markdown",
      "source": [
        "Estimated insect count does not vary on the basis of season."
      ],
      "metadata": {
        "id": "BQSekEA0Avcc"
      }
    },
    {
      "cell_type": "code",
      "source": [
        "#Barplot\n",
        "sns.barplot(x =\"Crop_Type\", y =\"Number_Doses_Week\", data = crop)"
      ],
      "metadata": {
        "colab": {
          "base_uri": "https://localhost:8080/",
          "height": 297
        },
        "id": "eRW3C-rg1urX",
        "outputId": "2dcb2f4f-3da2-44cc-97fb-5ab4ef53aaa1"
      },
      "execution_count": null,
      "outputs": [
        {
          "output_type": "execute_result",
          "data": {
            "text/plain": [
              "<matplotlib.axes._subplots.AxesSubplot at 0x7f6e8f5b8550>"
            ]
          },
          "metadata": {},
          "execution_count": 141
        },
        {
          "output_type": "display_data",
          "data": {
            "text/plain": [
              "<Figure size 432x288 with 1 Axes>"
            ],
            "image/png": "[encoded data removed]"
          },
          "metadata": {
            "needs_background": "light"
          }
        }
      ]
    },
    {
      "cell_type": "markdown",
      "source": [
        "Crop type 0 is given pesticides for more no of weeks"
      ],
      "metadata": {
        "id": "u7PogLHUHp8U"
      }
    },
    {
      "cell_type": "markdown",
      "source": [
        "# **Structure in Data**"
      ],
      "metadata": {
        "id": "4IrTR6JNGH1w"
      }
    },
    {
      "cell_type": "code",
      "source": [
        "ss= StandardScaler()"
      ],
      "metadata": {
        "id": "RzDq0GwKGYT4"
      },
      "execution_count": null,
      "outputs": []
    },
    {
      "cell_type": "code",
      "source": [
        "num_data = crop[num_columns]\n",
        "num_data.head()\n",
        "num_data.shape       # (1000, 11)\n",
        "num_data.columns\n",
        "crop.info()"
      ],
      "metadata": {
        "colab": {
          "base_uri": "https://localhost:8080/",
          "height": 551
        },
        "id": "8Zf4JBNmvpkz",
        "outputId": "7458f597-f7b3-4bf9-eaac-5d398522378e"
      },
      "execution_count": null,
      "outputs": [
        {
          "output_type": "execute_result",
          "data": {
            "text/plain": [
              "   Estimated_Insects_Count  Number_Doses_Week  Number_Weeks_Used  \\\n",
              "0                      188                  0                0.0   \n",
              "1                      209                  0                0.0   \n",
              "2                      257                  0                0.0   \n",
              "3                      257                  0                0.0   \n",
              "4                      342                  0                0.0   \n",
              "\n",
              "   Number_Weeks_Quit  \n",
              "0                  0  \n",
              "1                  0  \n",
              "2                  0  \n",
              "3                  0  \n",
              "4                  0  "
            ],
            "text/html": [
              "\n",
              "  <div id=\"df-3125a9f4-89ca-4f95-aeaa-980e4407e43b\">\n",
              "    <div class=\"colab-df-container\">\n",
              "      <div>\n",
              "<style scoped>\n",
              "    .dataframe tbody tr th:only-of-type {\n",
              "        vertical-align: middle;\n",
              "    }\n",
              "\n",
              "    .dataframe tbody tr th {\n",
              "        vertical-align: top;\n",
              "    }\n",
              "\n",
              "    .dataframe thead th {\n",
              "        text-align: right;\n",
              "    }\n",
              "</style>\n",
              "<table border=\"1\" class=\"dataframe\">\n",
              "  <thead>\n",
              "    <tr style=\"text-align: right;\">\n",
              "      <th></th>\n",
              "      <th>Estimated_Insects_Count</th>\n",
              "      <th>Number_Doses_Week</th>\n",
              "      <th>Number_Weeks_Used</th>\n",
              "      <th>Number_Weeks_Quit</th>\n",
              "    </tr>\n",
              "  </thead>\n",
              "  <tbody>\n",
              "    <tr>\n",
              "      <th>0</th>\n",
              "      <td>188</td>\n",
              "      <td>0</td>\n",
              "      <td>0.0</td>\n",
              "      <td>0</td>\n",
              "    </tr>\n",
              "    <tr>\n",
              "      <th>1</th>\n",
              "      <td>209</td>\n",
              "      <td>0</td>\n",
              "      <td>0.0</td>\n",
              "      <td>0</td>\n",
              "    </tr>\n",
              "    <tr>\n",
              "      <th>2</th>\n",
              "      <td>257</td>\n",
              "      <td>0</td>\n",
              "      <td>0.0</td>\n",
              "      <td>0</td>\n",
              "    </tr>\n",
              "    <tr>\n",
              "      <th>3</th>\n",
              "      <td>257</td>\n",
              "      <td>0</td>\n",
              "      <td>0.0</td>\n",
              "      <td>0</td>\n",
              "    </tr>\n",
              "    <tr>\n",
              "      <th>4</th>\n",
              "      <td>342</td>\n",
              "      <td>0</td>\n",
              "      <td>0.0</td>\n",
              "      <td>0</td>\n",
              "    </tr>\n",
              "  </tbody>\n",
              "</table>\n",
              "</div>\n",
              "      <button class=\"colab-df-convert\" onclick=\"convertToInteractive('df-3125a9f4-89ca-4f95-aeaa-980e4407e43b')\"\n",
              "              title=\"Convert this dataframe to an interactive table.\"\n",
              "              style=\"display:none;\">\n",
              "        \n",
              "  <svg xmlns=\"http://www.w3.org/2000/svg\" height=\"24px\"viewBox=\"0 0 24 24\"\n",
              "       width=\"24px\">\n",
              "    <path d=\"M0 0h24v24H0V0z\" fill=\"none\"/>\n",
              "    <path d=\"M18.56 5.44l.94 2.06.94-2.06 2.06-.94-2.06-.94-.94-2.06-.94 2.06-2.06.94zm-11 1L8.5 8.5l.94-2.06 2.06-.94-2.06-.94L8.5 2.5l-.94 2.06-2.06.94zm10 10l.94 2.06.94-2.06 2.06-.94-2.06-.94-.94-2.06-.94 2.06-2.06.94z\"/><path d=\"M17.41 7.96l-1.37-1.37c-.4-.4-.92-.59-1.43-.59-.52 0-1.04.2-1.43.59L10.3 9.45l-7.72 7.72c-.78.78-.78 2.05 0 2.83L4 21.41c.39.39.9.59 1.41.59.51 0 1.02-.2 1.41-.59l7.78-7.78 2.81-2.81c.8-.78.8-2.07 0-2.86zM5.41 20L4 18.59l7.72-7.72 1.47 1.35L5.41 20z\"/>\n",
              "  </svg>\n",
              "      </button>\n",
              "      \n",
              "  <style>\n",
              "    .colab-df-container {\n",
              "      display:flex;\n",
              "      flex-wrap:wrap;\n",
              "      gap: 12px;\n",
              "    }\n",
              "\n",
              "    .colab-df-convert {\n",
              "      background-color: #E8F0FE;\n",
              "      border: none;\n",
              "      border-radius: 50%;\n",
              "      cursor: pointer;\n",
              "      display: none;\n",
              "      fill: #1967D2;\n",
              "      height: 32px;\n",
              "      padding: 0 0 0 0;\n",
              "      width: 32px;\n",
              "    }\n",
              "\n",
              "    .colab-df-convert:hover {\n",
              "      background-color: #E2EBFA;\n",
              "      box-shadow: 0px 1px 2px rgba(60, 64, 67, 0.3), 0px 1px 3px 1px rgba(60, 64, 67, 0.15);\n",
              "      fill: #174EA6;\n",
              "    }\n",
              "\n",
              "    [theme=dark] .colab-df-convert {\n",
              "      background-color: #3B4455;\n",
              "      fill: #D2E3FC;\n",
              "    }\n",
              "\n",
              "    [theme=dark] .colab-df-convert:hover {\n",
              "      background-color: #434B5C;\n",
              "      box-shadow: 0px 1px 3px 1px rgba(0, 0, 0, 0.15);\n",
              "      filter: drop-shadow(0px 1px 2px rgba(0, 0, 0, 0.3));\n",
              "      fill: #FFFFFF;\n",
              "    }\n",
              "  </style>\n",
              "\n",
              "      <script>\n",
              "        const buttonEl =\n",
              "          document.querySelector('#df-3125a9f4-89ca-4f95-aeaa-980e4407e43b button.colab-df-convert');\n",
              "        buttonEl.style.display =\n",
              "          google.colab.kernel.accessAllowed ? 'block' : 'none';\n",
              "\n",
              "        async function convertToInteractive(key) {\n",
              "          const element = document.querySelector('#df-3125a9f4-89ca-4f95-aeaa-980e4407e43b');\n",
              "          const dataTable =\n",
              "            await google.colab.kernel.invokeFunction('convertToInteractive',\n",
              "                                                     [key], {});\n",
              "          if (!dataTable) return;\n",
              "\n",
              "          const docLinkHtml = 'Like what you see? Visit the ' +\n",
              "            '<a target=\"_blank\" href=https://colab.research.google.com/notebooks/data_table.ipynb>data table notebook</a>'\n",
              "            + ' to learn more about interactive tables.';\n",
              "          element.innerHTML = '';\n",
              "          dataTable['output_type'] = 'display_data';\n",
              "          await google.colab.output.renderOutput(dataTable, element);\n",
              "          const docLink = document.createElement('div');\n",
              "          docLink.innerHTML = docLinkHtml;\n",
              "          element.appendChild(docLink);\n",
              "        }\n",
              "      </script>\n",
              "    </div>\n",
              "  </div>\n",
              "  "
            ]
          },
          "metadata": {},
          "execution_count": 29
        },
        {
          "output_type": "execute_result",
          "data": {
            "text/plain": [
              "(88858, 4)"
            ]
          },
          "metadata": {},
          "execution_count": 29
        },
        {
          "output_type": "execute_result",
          "data": {
            "text/plain": [
              "Index(['Estimated_Insects_Count', 'Number_Doses_Week', 'Number_Weeks_Used',\n",
              "       'Number_Weeks_Quit'],\n",
              "      dtype='object')"
            ]
          },
          "metadata": {},
          "execution_count": 29
        },
        {
          "output_type": "stream",
          "name": "stdout",
          "text": [
            "<class 'pandas.core.frame.DataFrame'>\n",
            "RangeIndex: 88858 entries, 0 to 88857\n",
            "Data columns (total 10 columns):\n",
            " #   Column                   Non-Null Count  Dtype  \n",
            "---  ------                   --------------  -----  \n",
            " 0   ID                       88858 non-null  object \n",
            " 1   Estimated_Insects_Count  88858 non-null  int64  \n",
            " 2   Crop_Type                88858 non-null  int64  \n",
            " 3   Soil_Type                88858 non-null  int64  \n",
            " 4   Pesticide_Use_Category   88858 non-null  int64  \n",
            " 5   Number_Doses_Week        88858 non-null  int64  \n",
            " 6   Number_Weeks_Used        79858 non-null  float64\n",
            " 7   Number_Weeks_Quit        88858 non-null  int64  \n",
            " 8   Season                   88858 non-null  int64  \n",
            " 9   Crop_Damage              88858 non-null  int64  \n",
            "dtypes: float64(1), int64(8), object(1)\n",
            "memory usage: 6.8+ MB\n"
          ]
        }
      ]
    },
    {
      "cell_type": "code",
      "source": [
        "cols=num_columns"
      ],
      "metadata": {
        "id": "uiYBtqtyvpaO"
      },
      "execution_count": null,
      "outputs": []
    },
    {
      "cell_type": "code",
      "source": [
        "nc = ss.fit_transform(num_data.loc[:,cols])"
      ],
      "metadata": {
        "id": "MytGAlAyvpMD"
      },
      "execution_count": null,
      "outputs": []
    },
    {
      "cell_type": "code",
      "source": [
        "nc.shape\n",
        "nc = pd.DataFrame(nc, columns = cols)\n",
        "nc.head(2)"
      ],
      "metadata": {
        "colab": {
          "base_uri": "https://localhost:8080/",
          "height": 130
        },
        "id": "zf5KMNCYwota",
        "outputId": "2d1f9055-438e-481e-f602-64fca81d3128"
      },
      "execution_count": null,
      "outputs": [
        {
          "output_type": "execute_result",
          "data": {
            "text/plain": [
              "(88858, 4)"
            ]
          },
          "metadata": {},
          "execution_count": 32
        },
        {
          "output_type": "execute_result",
          "data": {
            "text/plain": [
              "   Estimated_Insects_Count  Number_Doses_Week  Number_Weeks_Used  \\\n",
              "0                -1.426324          -1.661912          -2.309911   \n",
              "1                -1.401591          -1.661912          -2.309911   \n",
              "\n",
              "   Number_Weeks_Quit  \n",
              "0          -0.968629  \n",
              "1          -0.968629  "
            ],
            "text/html": [
              "\n",
              "  <div id=\"df-b7e8ca6f-d7fe-4baa-819a-3620c3d88310\">\n",
              "    <div class=\"colab-df-container\">\n",
              "      <div>\n",
              "<style scoped>\n",
              "    .dataframe tbody tr th:only-of-type {\n",
              "        vertical-align: middle;\n",
              "    }\n",
              "\n",
              "    .dataframe tbody tr th {\n",
              "        vertical-align: top;\n",
              "    }\n",
              "\n",
              "    .dataframe thead th {\n",
              "        text-align: right;\n",
              "    }\n",
              "</style>\n",
              "<table border=\"1\" class=\"dataframe\">\n",
              "  <thead>\n",
              "    <tr style=\"text-align: right;\">\n",
              "      <th></th>\n",
              "      <th>Estimated_Insects_Count</th>\n",
              "      <th>Number_Doses_Week</th>\n",
              "      <th>Number_Weeks_Used</th>\n",
              "      <th>Number_Weeks_Quit</th>\n",
              "    </tr>\n",
              "  </thead>\n",
              "  <tbody>\n",
              "    <tr>\n",
              "      <th>0</th>\n",
              "      <td>-1.426324</td>\n",
              "      <td>-1.661912</td>\n",
              "      <td>-2.309911</td>\n",
              "      <td>-0.968629</td>\n",
              "    </tr>\n",
              "    <tr>\n",
              "      <th>1</th>\n",
              "      <td>-1.401591</td>\n",
              "      <td>-1.661912</td>\n",
              "      <td>-2.309911</td>\n",
              "      <td>-0.968629</td>\n",
              "    </tr>\n",
              "  </tbody>\n",
              "</table>\n",
              "</div>\n",
              "      <button class=\"colab-df-convert\" onclick=\"convertToInteractive('df-b7e8ca6f-d7fe-4baa-819a-3620c3d88310')\"\n",
              "              title=\"Convert this dataframe to an interactive table.\"\n",
              "              style=\"display:none;\">\n",
              "        \n",
              "  <svg xmlns=\"http://www.w3.org/2000/svg\" height=\"24px\"viewBox=\"0 0 24 24\"\n",
              "       width=\"24px\">\n",
              "    <path d=\"M0 0h24v24H0V0z\" fill=\"none\"/>\n",
              "    <path d=\"M18.56 5.44l.94 2.06.94-2.06 2.06-.94-2.06-.94-.94-2.06-.94 2.06-2.06.94zm-11 1L8.5 8.5l.94-2.06 2.06-.94-2.06-.94L8.5 2.5l-.94 2.06-2.06.94zm10 10l.94 2.06.94-2.06 2.06-.94-2.06-.94-.94-2.06-.94 2.06-2.06.94z\"/><path d=\"M17.41 7.96l-1.37-1.37c-.4-.4-.92-.59-1.43-.59-.52 0-1.04.2-1.43.59L10.3 9.45l-7.72 7.72c-.78.78-.78 2.05 0 2.83L4 21.41c.39.39.9.59 1.41.59.51 0 1.02-.2 1.41-.59l7.78-7.78 2.81-2.81c.8-.78.8-2.07 0-2.86zM5.41 20L4 18.59l7.72-7.72 1.47 1.35L5.41 20z\"/>\n",
              "  </svg>\n",
              "      </button>\n",
              "      \n",
              "  <style>\n",
              "    .colab-df-container {\n",
              "      display:flex;\n",
              "      flex-wrap:wrap;\n",
              "      gap: 12px;\n",
              "    }\n",
              "\n",
              "    .colab-df-convert {\n",
              "      background-color: #E8F0FE;\n",
              "      border: none;\n",
              "      border-radius: 50%;\n",
              "      cursor: pointer;\n",
              "      display: none;\n",
              "      fill: #1967D2;\n",
              "      height: 32px;\n",
              "      padding: 0 0 0 0;\n",
              "      width: 32px;\n",
              "    }\n",
              "\n",
              "    .colab-df-convert:hover {\n",
              "      background-color: #E2EBFA;\n",
              "      box-shadow: 0px 1px 2px rgba(60, 64, 67, 0.3), 0px 1px 3px 1px rgba(60, 64, 67, 0.15);\n",
              "      fill: #174EA6;\n",
              "    }\n",
              "\n",
              "    [theme=dark] .colab-df-convert {\n",
              "      background-color: #3B4455;\n",
              "      fill: #D2E3FC;\n",
              "    }\n",
              "\n",
              "    [theme=dark] .colab-df-convert:hover {\n",
              "      background-color: #434B5C;\n",
              "      box-shadow: 0px 1px 3px 1px rgba(0, 0, 0, 0.15);\n",
              "      filter: drop-shadow(0px 1px 2px rgba(0, 0, 0, 0.3));\n",
              "      fill: #FFFFFF;\n",
              "    }\n",
              "  </style>\n",
              "\n",
              "      <script>\n",
              "        const buttonEl =\n",
              "          document.querySelector('#df-b7e8ca6f-d7fe-4baa-819a-3620c3d88310 button.colab-df-convert');\n",
              "        buttonEl.style.display =\n",
              "          google.colab.kernel.accessAllowed ? 'block' : 'none';\n",
              "\n",
              "        async function convertToInteractive(key) {\n",
              "          const element = document.querySelector('#df-b7e8ca6f-d7fe-4baa-819a-3620c3d88310');\n",
              "          const dataTable =\n",
              "            await google.colab.kernel.invokeFunction('convertToInteractive',\n",
              "                                                     [key], {});\n",
              "          if (!dataTable) return;\n",
              "\n",
              "          const docLinkHtml = 'Like what you see? Visit the ' +\n",
              "            '<a target=\"_blank\" href=https://colab.research.google.com/notebooks/data_table.ipynb>data table notebook</a>'\n",
              "            + ' to learn more about interactive tables.';\n",
              "          element.innerHTML = '';\n",
              "          dataTable['output_type'] = 'display_data';\n",
              "          await google.colab.output.renderOutput(dataTable, element);\n",
              "          const docLink = document.createElement('div');\n",
              "          docLink.innerHTML = docLinkHtml;\n",
              "          element.appendChild(docLink);\n",
              "        }\n",
              "      </script>\n",
              "    </div>\n",
              "  </div>\n",
              "  "
            ]
          },
          "metadata": {},
          "execution_count": 32
        }
      ]
    },
    {
      "cell_type": "code",
      "source": [
        "nc['Crop_Type'] = crop['Crop_Type']\n",
        "nc['Soil_Type'] = crop['Soil_Type']\n",
        "nc['Pesticide_Use_Category'] = crop['Pesticide_Use_Category']\n",
        "nc['Season'] = crop['Season']\n",
        "nc['Crop_Damage'] = crop['Crop_Damage']\n",
        "nc.shape    "
      ],
      "metadata": {
        "colab": {
          "base_uri": "https://localhost:8080/"
        },
        "id": "TTsSUGgPwolL",
        "outputId": "4cad4bbe-9204-4012-940d-a8880c662be6"
      },
      "execution_count": null,
      "outputs": [
        {
          "output_type": "execute_result",
          "data": {
            "text/plain": [
              "(88858, 9)"
            ]
          },
          "metadata": {},
          "execution_count": 33
        }
      ]
    },
    {
      "cell_type": "markdown",
      "source": [
        "## Parallel coordinates plot"
      ],
      "metadata": {
        "id": "dsKlwW7qzwlF"
      }
    },
    {
      "cell_type": "code",
      "source": [
        "#Parallel coordinates with 'crop' data\n",
        "fig2 = plt.figure()\n",
        "ax = pd.plotting.parallel_coordinates(nc,\n",
        "                                 'Crop_Damage',\n",
        "                                  colormap= plt.cm.winter\n",
        "                                  )\n",
        "\n",
        "plt.xticks(rotation=90)\n",
        "plt.title(\"Parallel chart with crop data\")\n",
        "\n",
        "\n",
        "# All the crop damage have least variation for by season, soil type, pesticide_use_category and crop type\n",
        "# and mostly affected by variation in Number_Doses _Week, and Number_Weeks_Quit"
      ],
      "metadata": {
        "colab": {
          "base_uri": "https://localhost:8080/",
          "height": 414
        },
        "id": "41_kICfCwoba",
        "outputId": "b7560d59-72a5-4b43-fb0e-8f8df4f0d92a"
      },
      "execution_count": null,
      "outputs": [
        {
          "output_type": "execute_result",
          "data": {
            "text/plain": [
              "(array([0, 1, 2, 3, 4, 5, 6, 7]), <a list of 8 Text major ticklabel objects>)"
            ]
          },
          "metadata": {},
          "execution_count": 38
        },
        {
          "output_type": "execute_result",
          "data": {
            "text/plain": [
              "Text(0.5, 1.0, 'Parallel chart with crop data')"
            ]
          },
          "metadata": {},
          "execution_count": 38
        },
        {
          "output_type": "display_data",
          "data": {
            "text/plain": [
              "<Figure size 432x288 with 1 Axes>"
            ],
            "image/png": "[encoded data removed]"
          },
          "metadata": {
            "needs_background": "light"
          }
        }
      ]
    },
    {
      "cell_type": "markdown",
      "source": [
        "All the crop damage have least variation for by season, soil type, pesticide_use_category and crop type\n",
        "and mostly affected by variation in Number_Doses _Week, and Number_Weeks_Quit"
      ],
      "metadata": {
        "id": "PMMX04dbPs2q"
      }
    },
    {
      "cell_type": "markdown",
      "source": [
        "## Andrews plot"
      ],
      "metadata": {
        "id": "66DF_g5Ez931"
      }
    },
    {
      "cell_type": "code",
      "source": [
        "#Andrews plots with crop data\n",
        "fig4 = plt.figure()\n",
        "pd.plotting.andrews_curves(nc,\n",
        "                           'Crop_Damage',\n",
        "                            colormap = plt.cm.winter\n",
        "                           )\n",
        "plt.xticks(rotation=90)\n",
        "plt.title(\"Andrews curve with crop data\")\n",
        "\n",
        "#the andrews plot is telling us that data is well structed, and has variation"
      ],
      "metadata": {
        "colab": {
          "base_uri": "https://localhost:8080/",
          "height": 322
        },
        "id": "DqBQuYB_z3Rb",
        "outputId": "aef657eb-fd83-4ac0-8d0d-d6f33d59341a"
      },
      "execution_count": null,
      "outputs": [
        {
          "output_type": "execute_result",
          "data": {
            "text/plain": [
              "<matplotlib.axes._subplots.AxesSubplot at 0x7f152e301290>"
            ]
          },
          "metadata": {},
          "execution_count": 35
        },
        {
          "output_type": "execute_result",
          "data": {
            "text/plain": [
              "(array([-4., -3., -2., -1.,  0.,  1.,  2.,  3.,  4.]),\n",
              " <a list of 9 Text major ticklabel objects>)"
            ]
          },
          "metadata": {},
          "execution_count": 35
        },
        {
          "output_type": "execute_result",
          "data": {
            "text/plain": [
              "Text(0.5, 1.0, 'Andrews curve with crop data')"
            ]
          },
          "metadata": {},
          "execution_count": 35
        },
        {
          "output_type": "display_data",
          "data": {
            "text/plain": [
              "<Figure size 432x288 with 1 Axes>"
            ],
            "image/png": "[encoded data removed]"
          },
          "metadata": {
            "needs_background": "light"
          }
        }
      ]
    },
    {
      "cell_type": "markdown",
      "source": [
        "the andrews plot is telling us that data is well structed, and has variation"
      ],
      "metadata": {
        "id": "dTk4unocOiyT"
      }
    },
    {
      "cell_type": "markdown",
      "source": [
        "## Radvizplot"
      ],
      "metadata": {
        "id": "1F-itVNz0GHq"
      }
    },
    {
      "cell_type": "code",
      "source": [
        "# PLOT FOR CROP DATA\n",
        "fig5 = plt.figure()\n",
        "pd.plotting.radviz(nc,\n",
        "                   class_column ='Crop_Damage',\n",
        "                   colormap= plt.cm.winter,\n",
        "                   alpha = 0.4\n",
        "                   )\n",
        "\n",
        "# the alive(0) crops are centraly located and are least affected by any one feature, but are equally affected by all \n",
        "# of them giving a balanced/ required output, more like combined effort\n",
        "# while the crops damaged due to pesticides have high influence of soil type, and number of doses per week"
      ],
      "metadata": {
        "colab": {
          "base_uri": "https://localhost:8080/",
          "height": 283
        },
        "id": "whKcKsP9z3Fb",
        "outputId": "5bbce420-720a-40f0-c1fd-b53a7ecd7eec"
      },
      "execution_count": null,
      "outputs": [
        {
          "output_type": "execute_result",
          "data": {
            "text/plain": [
              "<matplotlib.axes._subplots.AxesSubplot at 0x7f152e301b10>"
            ]
          },
          "metadata": {},
          "execution_count": 36
        },
        {
          "output_type": "display_data",
          "data": {
            "text/plain": [
              "<Figure size 432x288 with 1 Axes>"
            ],
            "image/png": "[encoded data removed]"
          },
          "metadata": {
            "needs_background": "light"
          }
        }
      ]
    },
    {
      "cell_type": "markdown",
      "source": [
        "the alive(0) crops are centraly located and are least affected by any one feature, but are equally affected by all \n",
        "of them giving a balanced/ required output, more like combined effort\n",
        "while the crops damaged due to pesticides have high influence of soil type, and number of doses per week"
      ],
      "metadata": {
        "id": "DGJGmyZoOsV8"
      }
    },
    {
      "cell_type": "code",
      "source": [
        "#checking if target is balanced\n",
        "df_crop.Crop_Damage.value_counts() #the Target is imbalanced"
      ],
      "metadata": {
        "colab": {
          "base_uri": "https://localhost:8080/"
        },
        "id": "KEWxbjb821-p",
        "outputId": "206d679d-cb97-41a2-f9f2-7ebae0d1c27e"
      },
      "execution_count": null,
      "outputs": [
        {
          "output_type": "execute_result",
          "data": {
            "text/plain": [
              "0    74238\n",
              "1    12307\n",
              "2     2313\n",
              "Name: Crop_Damage, dtype: int64"
            ]
          },
          "metadata": {},
          "execution_count": 15
        }
      ]
    },
    {
      "cell_type": "code",
      "source": [
        "#plotting the target\n",
        "sns.countplot(df_crop['Crop_Damage']) #the target is imbalaced"
      ],
      "metadata": {
        "colab": {
          "base_uri": "https://localhost:8080/",
          "height": 352
        },
        "id": "IkavF9L-Ffm6",
        "outputId": "494548f0-da83-480a-ca62-c861d486d48d"
      },
      "execution_count": null,
      "outputs": [
        {
          "output_type": "stream",
          "name": "stderr",
          "text": [
            "/usr/local/lib/python3.7/dist-packages/seaborn/_decorators.py:43: FutureWarning: Pass the following variable as a keyword arg: x. From version 0.12, the only valid positional argument will be `data`, and passing other arguments without an explicit keyword will result in an error or misinterpretation.\n",
            "  FutureWarning\n"
          ]
        },
        {
          "output_type": "execute_result",
          "data": {
            "text/plain": [
              "<matplotlib.axes._subplots.AxesSubplot at 0x7f1578ab2a90>"
            ]
          },
          "metadata": {},
          "execution_count": 16
        },
        {
          "output_type": "display_data",
          "data": {
            "text/plain": [
              "<Figure size 432x288 with 1 Axes>"
            ],
            "image/png": "[encoded data removed]"
          },
          "metadata": {
            "needs_background": "light"
          }
        }
      ]
    },
    {
      "cell_type": "markdown",
      "source": [
        "##using SMOTE to oversample the data\n",
        "\n",
        "\n",
        "> \n",
        "Synthetic Minority Oversampling Technique\n",
        "Working of SMOTE"
      ],
      "metadata": {
        "id": "TnO3nh5vT1fF"
      }
    },
    {
      "cell_type": "code",
      "source": [
        "#Replacing missing values with mode of the data .\n",
        "df_crop['Number_Weeks_Used'].fillna(df_crop['Number_Weeks_Used'].mean(),inplace=True)"
      ],
      "metadata": {
        "id": "94KRleHhczD3"
      },
      "execution_count": null,
      "outputs": []
    },
    {
      "cell_type": "code",
      "source": [
        "from imblearn.over_sampling import SMOTE"
      ],
      "metadata": {
        "id": "v6BY0nhhQ9MN"
      },
      "execution_count": 14,
      "outputs": []
    },
    {
      "cell_type": "code",
      "source": [
        "\n",
        "# Resampling the minority class. The strategy can be changed as required.\n",
        "sm = SMOTE( random_state=42)\n",
        "# Fit the model to generate the data.\n",
        "oversampled_X, oversampled_Y = sm.fit_resample(df_crop.drop('Crop_Damage', axis=1), df_crop['Crop_Damage'])\n",
        "df_crop_os = pd.concat([pd.DataFrame(oversampled_Y), pd.DataFrame(oversampled_X)], axis=1)"
      ],
      "metadata": {
        "id": "NOjECQAcX79C"
      },
      "execution_count": null,
      "outputs": []
    },
    {
      "cell_type": "code",
      "source": [
        "#checking if target is balanced\n",
        "df_crop_os.Crop_Damage.value_counts()"
      ],
      "metadata": {
        "colab": {
          "base_uri": "https://localhost:8080/"
        },
        "id": "S6nFQPGDd8Y2",
        "outputId": "92a3b6ef-1b1a-4e4e-e25d-c10fd4fb7cb6"
      },
      "execution_count": null,
      "outputs": [
        {
          "output_type": "execute_result",
          "data": {
            "text/plain": [
              "0    74238\n",
              "1    74238\n",
              "2    74238\n",
              "Name: Crop_Damage, dtype: int64"
            ]
          },
          "metadata": {},
          "execution_count": 19
        }
      ]
    },
    {
      "cell_type": "code",
      "source": [
        "#plotting the target\n",
        "sns.countplot(df_crop_os['Crop_Damage']) #the target is now balaced"
      ],
      "metadata": {
        "colab": {
          "base_uri": "https://localhost:8080/",
          "height": 352
        },
        "id": "wGRgiWMGeIz8",
        "outputId": "50e8fc98-f05f-420b-86ad-7d213a20800a"
      },
      "execution_count": null,
      "outputs": [
        {
          "output_type": "stream",
          "name": "stderr",
          "text": [
            "/usr/local/lib/python3.7/dist-packages/seaborn/_decorators.py:43: FutureWarning: Pass the following variable as a keyword arg: x. From version 0.12, the only valid positional argument will be `data`, and passing other arguments without an explicit keyword will result in an error or misinterpretation.\n",
            "  FutureWarning\n"
          ]
        },
        {
          "output_type": "execute_result",
          "data": {
            "text/plain": [
              "<matplotlib.axes._subplots.AxesSubplot at 0x7f1577ed2b50>"
            ]
          },
          "metadata": {},
          "execution_count": 20
        },
        {
          "output_type": "display_data",
          "data": {
            "text/plain": [
              "<Figure size 432x288 with 1 Axes>"
            ],
            "image/png": "[encoded data removed]"
          },
          "metadata": {
            "needs_background": "light"
          }
        }
      ]
    },
    {
      "cell_type": "code",
      "source": [
        "df_crop_os.shape"
      ],
      "metadata": {
        "colab": {
          "base_uri": "https://localhost:8080/"
        },
        "id": "Z-ZaYJDoexcD",
        "outputId": "ec5541a5-d72c-49e0-bb2e-4ae146523fcd"
      },
      "execution_count": null,
      "outputs": [
        {
          "output_type": "execute_result",
          "data": {
            "text/plain": [
              "(222714, 9)"
            ]
          },
          "metadata": {},
          "execution_count": 21
        }
      ]
    },
    {
      "cell_type": "markdown",
      "source": [
        "#Pipelining\n",
        "\n",
        "\n",
        "> Data pre-processing and oversampling with pipeline\n",
        "\n"
      ],
      "metadata": {
        "id": "KSs7rPeMao-s"
      }
    },
    {
      "cell_type": "code",
      "source": [
        "from sklearn.preprocessing import StandardScaler, OrdinalEncoder\n",
        "from sklearn.impute import SimpleImputer\n",
        "from sklearn.compose import ColumnTransformer\n",
        "from sklearn.pipeline import Pipeline\n",
        "from sklearn.preprocessing import OneHotEncoder"
      ],
      "metadata": {
        "id": "IG_t_nnsb0vE"
      },
      "execution_count": 7,
      "outputs": []
    },
    {
      "cell_type": "code",
      "source": [
        "from imblearn.pipeline import Pipeline as imbpipeline"
      ],
      "metadata": {
        "id": "uNsMoNKwoDui"
      },
      "execution_count": 8,
      "outputs": []
    },
    {
      "cell_type": "code",
      "source": [
        "df_crop_n= crop\n",
        "df_crop_n.drop('ID', axis=1, inplace=True)"
      ],
      "metadata": {
        "id": "VR5lqi4tlEBM"
      },
      "execution_count": 9,
      "outputs": []
    },
    {
      "cell_type": "code",
      "source": [
        "df_crop_n.info()"
      ],
      "metadata": {
        "colab": {
          "base_uri": "https://localhost:8080/"
        },
        "id": "GEUvbgbAlD_X",
        "outputId": "89fcec5a-7e77-4c4d-a74b-7c6af209f603"
      },
      "execution_count": 10,
      "outputs": [
        {
          "output_type": "stream",
          "name": "stdout",
          "text": [
            "<class 'pandas.core.frame.DataFrame'>\n",
            "RangeIndex: 88858 entries, 0 to 88857\n",
            "Data columns (total 9 columns):\n",
            " #   Column                   Non-Null Count  Dtype  \n",
            "---  ------                   --------------  -----  \n",
            " 0   Estimated_Insects_Count  88858 non-null  int64  \n",
            " 1   Crop_Type                88858 non-null  int64  \n",
            " 2   Soil_Type                88858 non-null  int64  \n",
            " 3   Pesticide_Use_Category   88858 non-null  int64  \n",
            " 4   Number_Doses_Week        88858 non-null  int64  \n",
            " 5   Number_Weeks_Used        79858 non-null  float64\n",
            " 6   Number_Weeks_Quit        88858 non-null  int64  \n",
            " 7   Season                   88858 non-null  int64  \n",
            " 8   Crop_Damage              88858 non-null  int64  \n",
            "dtypes: float64(1), int64(8)\n",
            "memory usage: 6.1 MB\n"
          ]
        }
      ]
    },
    {
      "cell_type": "code",
      "source": [
        "df_crop_n.Crop_Damage.value_counts()"
      ],
      "metadata": {
        "colab": {
          "base_uri": "https://localhost:8080/"
        },
        "id": "bpRdFZLilmRs",
        "outputId": "6fe30769-4efe-4fdf-b70f-c5f036b88c6d"
      },
      "execution_count": 11,
      "outputs": [
        {
          "output_type": "execute_result",
          "data": {
            "text/plain": [
              "0    74238\n",
              "1    12307\n",
              "2     2313\n",
              "Name: Crop_Damage, dtype: int64"
            ]
          },
          "metadata": {},
          "execution_count": 11
        }
      ]
    },
    {
      "cell_type": "code",
      "source": [
        "#numeric pipeline, for the numeric column and imputation strategy is 'mean'\n",
        "numeric_pipeline = imbpipeline(steps=[\n",
        "    ('impute', SimpleImputer(strategy='mean')),\n",
        "    (\"polynomial\", PolynomialFeatures(degree=4)), # feature engineering using Polynomial Feature\n",
        "    ('scale', StandardScaler())\n",
        "])\n",
        "\n",
        "#categorical pipeline for category column and imputation strategy is 'most frequent' (if any)\n",
        "categorical_pipeline = imbpipeline(steps=[\n",
        "    ('impute', SimpleImputer(strategy='most_frequent')),\n",
        "    ('one-hot', OneHotEncoder())\n",
        "])"
      ],
      "metadata": {
        "id": "15qhct_3aocd"
      },
      "execution_count": 36,
      "outputs": []
    },
    {
      "cell_type": "code",
      "source": [
        "#fit transform categorical columns to categorical pipeline\n",
        "categorical_pipeline.fit_transform(df_crop_n[cat_columns]).toarray()"
      ],
      "metadata": {
        "colab": {
          "base_uri": "https://localhost:8080/"
        },
        "id": "BhwPQYmCbKrB",
        "outputId": "c6c42d23-815a-437b-836d-2123e7c0989f"
      },
      "execution_count": 16,
      "outputs": [
        {
          "output_type": "execute_result",
          "data": {
            "text/plain": [
              "array([[0., 1., 1., ..., 1., 0., 0.],\n",
              "       [0., 1., 1., ..., 0., 1., 0.],\n",
              "       [0., 1., 1., ..., 0., 1., 0.],\n",
              "       ...,\n",
              "       [0., 1., 1., ..., 0., 1., 0.],\n",
              "       [0., 1., 1., ..., 0., 0., 1.],\n",
              "       [0., 1., 1., ..., 0., 0., 1.]])"
            ]
          },
          "metadata": {},
          "execution_count": 16
        }
      ]
    },
    {
      "cell_type": "code",
      "source": [
        "#fit transform numeric columns to numeric pipeline\n",
        "numeric_pipeline.fit_transform(df_crop_n[num_columns])"
      ],
      "metadata": {
        "colab": {
          "base_uri": "https://localhost:8080/"
        },
        "id": "sm-OteLubKfy",
        "outputId": "b3e10e0a-de5a-456d-ef5b-a96117e1fd04"
      },
      "execution_count": 37,
      "outputs": [
        {
          "output_type": "execute_result",
          "data": {
            "text/plain": [
              "array([[ 0.00000000e+00, -1.42632444e+00, -1.66191244e+00, ...,\n",
              "        -6.35588653e-01, -4.88775996e-01, -3.41073882e-01],\n",
              "       [ 0.00000000e+00, -1.40159074e+00, -1.66191244e+00, ...,\n",
              "        -6.35588653e-01, -4.88775996e-01, -3.41073882e-01],\n",
              "       [ 0.00000000e+00, -1.34505657e+00, -1.66191244e+00, ...,\n",
              "        -6.35588653e-01, -4.88775996e-01, -3.41073882e-01],\n",
              "       ...,\n",
              "       [ 0.00000000e+00,  2.49337818e+00, -6.97551387e-01, ...,\n",
              "         9.22248505e-04, -3.79491611e-01, -3.29899012e-01],\n",
              "       [ 0.00000000e+00,  2.71244810e+00, -1.01900507e+00, ...,\n",
              "         6.23136518e-01,  2.89234910e-01, -5.46741984e-02],\n",
              "       [ 0.00000000e+00,  2.93976258e+00, -3.76097701e-01, ...,\n",
              "        -2.18618069e-01, -4.21054896e-01, -3.34523378e-01]])"
            ]
          },
          "metadata": {},
          "execution_count": 37
        }
      ]
    },
    {
      "cell_type": "code",
      "source": [
        "#parallel pipes for categorical and numerical columns\n",
        "ct= ColumnTransformer(\n",
        "    [\n",
        "        (\"num\", numeric_pipeline, num_columns),\n",
        "        (\"cat\", categorical_pipeline, cat_columns)\n",
        "    ]\n",
        ")"
      ],
      "metadata": {
        "id": "4ZXryyZ6bKeH"
      },
      "execution_count": 17,
      "outputs": []
    },
    {
      "cell_type": "code",
      "source": [
        "#fit transform the dataframe\n",
        "ct.fit_transform(df_crop_n)"
      ],
      "metadata": {
        "colab": {
          "base_uri": "https://localhost:8080/"
        },
        "id": "muGBeiNptTJa",
        "outputId": "4af22d0a-b361-43d7-bdb9-22cb7bd9f305"
      },
      "execution_count": 18,
      "outputs": [
        {
          "output_type": "execute_result",
          "data": {
            "text/plain": [
              "array([[-1.42632444, -1.66191244, -2.43660084, ...,  1.        ,\n",
              "         0.        ,  0.        ],\n",
              "       [-1.40159074, -1.66191244, -2.43660084, ...,  0.        ,\n",
              "         1.        ,  0.        ],\n",
              "       [-1.34505657, -1.66191244, -2.43660084, ...,  0.        ,\n",
              "         1.        ,  0.        ],\n",
              "       ...,\n",
              "       [ 2.49337818, -0.69755139,  0.96837874, ...,  0.        ,\n",
              "         1.        ,  0.        ],\n",
              "       [ 2.7124481 , -1.01900507, -0.3084886 , ...,  0.        ,\n",
              "         0.        ,  1.        ],\n",
              "       [ 2.93976258, -0.3760977 ,  0.71300527, ...,  0.        ,\n",
              "         0.        ,  1.        ]])"
            ]
          },
          "metadata": {},
          "execution_count": 18
        }
      ]
    },
    {
      "cell_type": "code",
      "source": [
        "from sklearn.ensemble import RandomForestClassifier\n",
        "from sklearn.preprocessing import PolynomialFeatures"
      ],
      "metadata": {
        "id": "qTPm_UJWfIif"
      },
      "execution_count": 19,
      "outputs": []
    },
    {
      "cell_type": "code",
      "source": [
        "#creating the final pipeline to oversample the data and then apply random forest classification\n",
        "pt= imbpipeline([\n",
        "              (\"ct\",ct),\n",
        "              ('sm',SMOTE( random_state=42)),\n",
        "              (\"rf\", RandomForestClassifier())\n",
        "])"
      ],
      "metadata": {
        "id": "0PEBvgftWT-Y"
      },
      "execution_count": 38,
      "outputs": []
    },
    {
      "cell_type": "code",
      "source": [
        "#creating the final pipeline to oversample the data and then apply random forest classification\n",
        "pt_wos= imbpipeline([\n",
        "              (\"ct\",ct),\n",
        "              \n",
        "              (\"rf\", RandomForestClassifier())\n",
        "])"
      ],
      "metadata": {
        "id": "Udd1wTuVm5e3"
      },
      "execution_count": 75,
      "outputs": []
    },
    {
      "cell_type": "code",
      "source": [
        "#creating the final pipeline to oversample the data and then decision tree classification\n",
        "pt_dt= imbpipeline([\n",
        "              (\"ct\",ct),\n",
        "              ('sm',SMOTE( random_state=42)),\n",
        "              ('dt', DecisionTreeClassifier())\n",
        "])"
      ],
      "metadata": {
        "id": "zvjtypvN0huL"
      },
      "execution_count": 39,
      "outputs": []
    },
    {
      "cell_type": "code",
      "source": [
        "#creating the final pipeline without oversampling for decision tree classification\n",
        "pt_dt_wos= imbpipeline([\n",
        "              (\"ct\",ct),\n",
        "              ('dt', DecisionTreeClassifier())\n",
        "])"
      ],
      "metadata": {
        "id": "eVnArxqRlFmZ"
      },
      "execution_count": 67,
      "outputs": []
    },
    {
      "cell_type": "code",
      "source": [
        "y=df_crop_n.pop('Crop_Damage')\n",
        "X=df_crop_n"
      ],
      "metadata": {
        "id": "s8UWFJA6WT36"
      },
      "execution_count": 23,
      "outputs": []
    },
    {
      "cell_type": "code",
      "source": [
        "# Split dataset. We will preprocess X_train and apply that\n",
        "#     processing to X_test later\n",
        "X_train,X_test, y_train, y_test = train_test_split(\n",
        "                                                    X,                   # Data features\n",
        "                                                    y,                   # Target column\n",
        "                                                    test_size = 0.2,      # split-ratio\n",
        "                                                    random_state=11)\n"
      ],
      "metadata": {
        "id": "ZRzegv1sWTx2"
      },
      "execution_count": 24,
      "outputs": []
    },
    {
      "cell_type": "code",
      "source": [
        "f\"X_train shape: {X_train.shape}\"    \n",
        "print()\n",
        "f\"X_test.shape : {X_test.shape}\"     \n",
        "print()\n",
        "f\"y_train shape: {y_train.shape}\"    \n",
        "print()\n",
        "f\"y_test shape : {y_test.shape}\""
      ],
      "metadata": {
        "id": "0C6Wqcz1WTgY",
        "colab": {
          "base_uri": "https://localhost:8080/",
          "height": 91
        },
        "outputId": "5de0ad9c-360d-4b1c-f0b8-3675d1159bec"
      },
      "execution_count": 25,
      "outputs": [
        {
          "output_type": "execute_result",
          "data": {
            "text/plain": [
              "'X_train shape: (71086, 8)'"
            ],
            "application/vnd.google.colaboratory.intrinsic+json": {
              "type": "string"
            }
          },
          "metadata": {},
          "execution_count": 25
        },
        {
          "output_type": "stream",
          "name": "stdout",
          "text": [
            "\n"
          ]
        },
        {
          "output_type": "execute_result",
          "data": {
            "text/plain": [
              "'X_test.shape : (17772, 8)'"
            ],
            "application/vnd.google.colaboratory.intrinsic+json": {
              "type": "string"
            }
          },
          "metadata": {},
          "execution_count": 25
        },
        {
          "output_type": "stream",
          "name": "stdout",
          "text": [
            "\n"
          ]
        },
        {
          "output_type": "execute_result",
          "data": {
            "text/plain": [
              "'y_train shape: (71086,)'"
            ],
            "application/vnd.google.colaboratory.intrinsic+json": {
              "type": "string"
            }
          },
          "metadata": {},
          "execution_count": 25
        },
        {
          "output_type": "stream",
          "name": "stdout",
          "text": [
            "\n"
          ]
        },
        {
          "output_type": "execute_result",
          "data": {
            "text/plain": [
              "'y_test shape : (17772,)'"
            ],
            "application/vnd.google.colaboratory.intrinsic+json": {
              "type": "string"
            }
          },
          "metadata": {},
          "execution_count": 25
        }
      ]
    },
    {
      "cell_type": "code",
      "source": [
        "#fitting the training model for random forest\n",
        "pt.fit(X_train, y_train)"
      ],
      "metadata": {
        "colab": {
          "base_uri": "https://localhost:8080/"
        },
        "id": "VvvIN1VRq5Nf",
        "outputId": "87c30eac-68c1-4416-c4c8-a6d46a931e64"
      },
      "execution_count": 52,
      "outputs": [
        {
          "output_type": "execute_result",
          "data": {
            "text/plain": [
              "Pipeline(steps=[('ct',\n",
              "                 ColumnTransformer(transformers=[('num',\n",
              "                                                  Pipeline(steps=[('impute',\n",
              "                                                                   SimpleImputer()),\n",
              "                                                                  ('scale',\n",
              "                                                                   StandardScaler())]),\n",
              "                                                  ['Estimated_Insects_Count',\n",
              "                                                   'Number_Doses_Week',\n",
              "                                                   'Number_Weeks_Used',\n",
              "                                                   'Number_Weeks_Quit']),\n",
              "                                                 ('cat',\n",
              "                                                  Pipeline(steps=[('impute',\n",
              "                                                                   SimpleImputer(strategy='most_frequent')),\n",
              "                                                                  ('one-hot',\n",
              "                                                                   OneHotEncoder())]),\n",
              "                                                  ['Crop_Type', 'Soil_Type',\n",
              "                                                   'Pesticide_Use_Category',\n",
              "                                                   'Season'])])),\n",
              "                ('sm', SMOTE(random_state=42)),\n",
              "                ('rf', RandomForestClassifier())])"
            ]
          },
          "metadata": {},
          "execution_count": 52
        }
      ]
    },
    {
      "cell_type": "code",
      "source": [
        "#fitting the training model for random forest\n",
        "pt_wos.fit(X_train, y_train)"
      ],
      "metadata": {
        "colab": {
          "base_uri": "https://localhost:8080/"
        },
        "outputId": "f2e428de-7f59-4322-a457-ae9e09eb2731",
        "id": "9lCyV8pknDVj"
      },
      "execution_count": 76,
      "outputs": [
        {
          "output_type": "execute_result",
          "data": {
            "text/plain": [
              "Pipeline(steps=[('ct',\n",
              "                 ColumnTransformer(transformers=[('num',\n",
              "                                                  Pipeline(steps=[('impute',\n",
              "                                                                   SimpleImputer()),\n",
              "                                                                  ('scale',\n",
              "                                                                   StandardScaler())]),\n",
              "                                                  ['Estimated_Insects_Count',\n",
              "                                                   'Number_Doses_Week',\n",
              "                                                   'Number_Weeks_Used',\n",
              "                                                   'Number_Weeks_Quit']),\n",
              "                                                 ('cat',\n",
              "                                                  Pipeline(steps=[('impute',\n",
              "                                                                   SimpleImputer(strategy='most_frequent')),\n",
              "                                                                  ('one-hot',\n",
              "                                                                   OneHotEncoder())]),\n",
              "                                                  ['Crop_Type', 'Soil_Type',\n",
              "                                                   'Pesticide_Use_Category',\n",
              "                                                   'Season'])])),\n",
              "                ('rf', RandomForestClassifier())])"
            ]
          },
          "metadata": {},
          "execution_count": 76
        }
      ]
    },
    {
      "cell_type": "code",
      "source": [
        "#fitting the training model\n",
        "pt_dt.fit(X_train, y_train)"
      ],
      "metadata": {
        "colab": {
          "base_uri": "https://localhost:8080/"
        },
        "id": "NyFBwwc_zmfw",
        "outputId": "e13b17eb-2ed3-4dec-f577-fe800b11e337"
      },
      "execution_count": 41,
      "outputs": [
        {
          "output_type": "execute_result",
          "data": {
            "text/plain": [
              "Pipeline(steps=[('ct',\n",
              "                 ColumnTransformer(transformers=[('num',\n",
              "                                                  Pipeline(steps=[('impute',\n",
              "                                                                   SimpleImputer()),\n",
              "                                                                  ('scale',\n",
              "                                                                   StandardScaler())]),\n",
              "                                                  ['Estimated_Insects_Count',\n",
              "                                                   'Number_Doses_Week',\n",
              "                                                   'Number_Weeks_Used',\n",
              "                                                   'Number_Weeks_Quit']),\n",
              "                                                 ('cat',\n",
              "                                                  Pipeline(steps=[('impute',\n",
              "                                                                   SimpleImputer(strategy='most_frequent')),\n",
              "                                                                  ('one-hot',\n",
              "                                                                   OneHotEncoder())]),\n",
              "                                                  ['Crop_Type', 'Soil_Type',\n",
              "                                                   'Pesticide_Use_Category',\n",
              "                                                   'Season'])])),\n",
              "                ('sm', SMOTE(random_state=42)),\n",
              "                ('dt', DecisionTreeClassifier())])"
            ]
          },
          "metadata": {},
          "execution_count": 41
        }
      ]
    },
    {
      "cell_type": "code",
      "source": [
        "#fitting the training model without oversampling\n",
        "pt_dt_wos.fit(X_train, y_train)"
      ],
      "metadata": {
        "colab": {
          "base_uri": "https://localhost:8080/"
        },
        "outputId": "734ddc64-f57f-4738-9cfe-eb62af72c012",
        "id": "k3NaqxmFlQ7X"
      },
      "execution_count": 68,
      "outputs": [
        {
          "output_type": "execute_result",
          "data": {
            "text/plain": [
              "Pipeline(steps=[('ct',\n",
              "                 ColumnTransformer(transformers=[('num',\n",
              "                                                  Pipeline(steps=[('impute',\n",
              "                                                                   SimpleImputer()),\n",
              "                                                                  ('scale',\n",
              "                                                                   StandardScaler())]),\n",
              "                                                  ['Estimated_Insects_Count',\n",
              "                                                   'Number_Doses_Week',\n",
              "                                                   'Number_Weeks_Used',\n",
              "                                                   'Number_Weeks_Quit']),\n",
              "                                                 ('cat',\n",
              "                                                  Pipeline(steps=[('impute',\n",
              "                                                                   SimpleImputer(strategy='most_frequent')),\n",
              "                                                                  ('one-hot',\n",
              "                                                                   OneHotEncoder())]),\n",
              "                                                  ['Crop_Type', 'Soil_Type',\n",
              "                                                   'Pesticide_Use_Category',\n",
              "                                                   'Season'])])),\n",
              "                ('dt', DecisionTreeClassifier())])"
            ]
          },
          "metadata": {},
          "execution_count": 68
        }
      ]
    },
    {
      "cell_type": "code",
      "source": [
        "#predicting the crop damage\n",
        "pt.predict(X_test)"
      ],
      "metadata": {
        "colab": {
          "base_uri": "https://localhost:8080/"
        },
        "id": "sxH9InpxpkV-",
        "outputId": "2b6c42cd-f55e-4a87-beea-3a5e1c4bfdd4"
      },
      "execution_count": 53,
      "outputs": [
        {
          "output_type": "execute_result",
          "data": {
            "text/plain": [
              "array([0, 0, 0, ..., 0, 0, 0])"
            ]
          },
          "metadata": {},
          "execution_count": 53
        }
      ]
    },
    {
      "cell_type": "code",
      "source": [
        "#predicting the crop damage\n",
        "pt_wos.predict(X_test)"
      ],
      "metadata": {
        "colab": {
          "base_uri": "https://localhost:8080/"
        },
        "outputId": "b2131fb2-5812-4aa4-825d-e70f7d0367c1",
        "id": "RwoN35epnObv"
      },
      "execution_count": 78,
      "outputs": [
        {
          "output_type": "execute_result",
          "data": {
            "text/plain": [
              "array([0, 0, 0, ..., 0, 0, 0])"
            ]
          },
          "metadata": {},
          "execution_count": 78
        }
      ]
    },
    {
      "cell_type": "code",
      "source": [
        "#predicting the crop damage\n",
        "pt_dt.predict(X_test)"
      ],
      "metadata": {
        "colab": {
          "base_uri": "https://localhost:8080/"
        },
        "outputId": "f8185b0a-bbc1-4fd2-eba6-77d9b6f27987",
        "id": "L9MVCh9y0jae"
      },
      "execution_count": 42,
      "outputs": [
        {
          "output_type": "execute_result",
          "data": {
            "text/plain": [
              "array([0, 0, 0, ..., 0, 0, 2])"
            ]
          },
          "metadata": {},
          "execution_count": 42
        }
      ]
    },
    {
      "cell_type": "code",
      "source": [
        "#predicting the crop damage without oversampling\n",
        "pt_dt_wos.predict(X_test)"
      ],
      "metadata": {
        "colab": {
          "base_uri": "https://localhost:8080/"
        },
        "outputId": "7920e25a-3845-4f1f-bc6b-88eeb068d868",
        "id": "Lx1A70QFlX9m"
      },
      "execution_count": 77,
      "outputs": [
        {
          "output_type": "execute_result",
          "data": {
            "text/plain": [
              "array([0, 0, 0, ..., 0, 0, 0])"
            ]
          },
          "metadata": {},
          "execution_count": 77
        }
      ]
    },
    {
      "cell_type": "code",
      "source": [
        "#plot predicted result\n",
        "sns.countplot(pt.predict(X_test))"
      ],
      "metadata": {
        "colab": {
          "base_uri": "https://localhost:8080/",
          "height": 339
        },
        "id": "djcsE7zskPEo",
        "outputId": "9f6ca299-9250-4b83-c952-a4b811ee20ba"
      },
      "execution_count": null,
      "outputs": [
        {
          "output_type": "stream",
          "name": "stderr",
          "text": [
            "/usr/local/lib/python3.7/dist-packages/seaborn/_decorators.py:43: FutureWarning: Pass the following variable as a keyword arg: x. From version 0.12, the only valid positional argument will be `data`, and passing other arguments without an explicit keyword will result in an error or misinterpretation.\n",
            "  FutureWarning\n"
          ]
        },
        {
          "output_type": "execute_result",
          "data": {
            "text/plain": [
              "<matplotlib.axes._subplots.AxesSubplot at 0x7fe1eeab1b10>"
            ]
          },
          "metadata": {},
          "execution_count": 44
        },
        {
          "output_type": "display_data",
          "data": {
            "text/plain": [
              "<Figure size 432x288 with 1 Axes>"
            ],
            "image/png": "[encoded data removed]"
          },
          "metadata": {
            "needs_background": "light"
          }
        }
      ]
    },
    {
      "cell_type": "code",
      "source": [
        "#plot actual result\n",
        "sns.countplot(y_test)"
      ],
      "metadata": {
        "colab": {
          "base_uri": "https://localhost:8080/",
          "height": 354
        },
        "id": "5QM-mfxWkO8u",
        "outputId": "0178ec16-c97c-42ee-edb6-8f17992a429d"
      },
      "execution_count": null,
      "outputs": [
        {
          "output_type": "stream",
          "name": "stderr",
          "text": [
            "/usr/local/lib/python3.7/dist-packages/seaborn/_decorators.py:43: FutureWarning: Pass the following variable as a keyword arg: x. From version 0.12, the only valid positional argument will be `data`, and passing other arguments without an explicit keyword will result in an error or misinterpretation.\n",
            "  FutureWarning\n"
          ]
        },
        {
          "output_type": "execute_result",
          "data": {
            "text/plain": [
              "<matplotlib.axes._subplots.AxesSubplot at 0x7fe1eea6cdd0>"
            ]
          },
          "metadata": {},
          "execution_count": 46
        },
        {
          "output_type": "display_data",
          "data": {
            "text/plain": [
              "<Figure size 432x288 with 1 Axes>"
            ],
            "image/png": "[encoded data removed]"
          },
          "metadata": {
            "needs_background": "light"
          }
        }
      ]
    },
    {
      "cell_type": "code",
      "source": [],
      "metadata": {
        "id": "f9nfwI0G0KZK"
      },
      "execution_count": null,
      "outputs": []
    },
    {
      "cell_type": "code",
      "source": [
        "#plot actual and predicted values for random forest\n",
        "\n",
        "ax = sns.histplot(pt.predict(X_test), color=\"r\", label=\"PREDICTED\", kde=True, linewidth = 0)\n",
        "sns.histplot(y_test, color=\"b\", label=\"ACTUAL\", kde=True, linewidth=0)\n",
        "\n",
        "\n",
        "plt.title('Actual vs Predicted Values')\n",
        "\n",
        "\n",
        "plt.show()\n",
        "plt.close()"
      ],
      "metadata": {
        "colab": {
          "base_uri": "https://localhost:8080/",
          "height": 313
        },
        "outputId": "5714ab7a-c952-444c-cfde-5f6f3731427c",
        "id": "IUtJTVgC0LCG"
      },
      "execution_count": null,
      "outputs": [
        {
          "output_type": "execute_result",
          "data": {
            "text/plain": [
              "<matplotlib.axes._subplots.AxesSubplot at 0x7fe9fefb1610>"
            ]
          },
          "metadata": {},
          "execution_count": 45
        },
        {
          "output_type": "execute_result",
          "data": {
            "text/plain": [
              "Text(0.5, 1.0, 'Actual vs Predicted Values')"
            ]
          },
          "metadata": {},
          "execution_count": 45
        },
        {
          "output_type": "display_data",
          "data": {
            "text/plain": [
              "<Figure size 432x288 with 1 Axes>"
            ],
            "image/png": "[encoded data removed]"
          },
          "metadata": {
            "needs_background": "light"
          }
        }
      ]
    },
    {
      "cell_type": "markdown",
      "source": [
        "There is a possibility of overfitting"
      ],
      "metadata": {
        "id": "r5aUiGmPR5SX"
      }
    },
    {
      "cell_type": "code",
      "source": [
        "#plot actual and predicted values for random forest without oversampling\n",
        "\n",
        "ax = sns.histplot(pt_wos.predict(X_test), color=\"r\", label=\"PREDICTED\", kde=True, linewidth = 0)\n",
        "sns.histplot(y_test, color=\"b\", label=\"ACTUAL\", kde=True, linewidth=0)\n",
        "\n",
        "\n",
        "plt.title('Actual vs Predicted Values')\n",
        "\n",
        "\n",
        "plt.show()\n",
        "plt.close()"
      ],
      "metadata": {
        "colab": {
          "base_uri": "https://localhost:8080/",
          "height": 314
        },
        "outputId": "d055a882-c106-418b-e7fd-b5ae9887d6e0",
        "id": "uKoHQyNenUR7"
      },
      "execution_count": 79,
      "outputs": [
        {
          "output_type": "execute_result",
          "data": {
            "text/plain": [
              "<matplotlib.axes._subplots.AxesSubplot at 0x7fdc12479310>"
            ]
          },
          "metadata": {},
          "execution_count": 79
        },
        {
          "output_type": "execute_result",
          "data": {
            "text/plain": [
              "Text(0.5, 1.0, 'Actual vs Predicted Values')"
            ]
          },
          "metadata": {},
          "execution_count": 79
        },
        {
          "output_type": "display_data",
          "data": {
            "text/plain": [
              "<Figure size 432x288 with 1 Axes>"
            ],
            "image/png": "[encoded data removed]"
          },
          "metadata": {
            "needs_background": "light"
          }
        }
      ]
    },
    {
      "cell_type": "markdown",
      "source": [
        "Lesser possibiility of/ no overfitting"
      ],
      "metadata": {
        "id": "K0N7ureBnj97"
      }
    },
    {
      "cell_type": "code",
      "source": [
        "#plot actual and predicted values for decision tree\n",
        "\n",
        "ax = sns.histplot(pt_dt.predict(X_test), color=\"r\", label=\"PREDICTED\", kde=True, linewidth = 0)\n",
        "sns.histplot(y_test, color=\"b\", label=\"ACTUAL\", kde=True, linewidth=0)\n",
        "\n",
        "\n",
        "plt.title('Actual vs Predicted Values')\n",
        "\n",
        "\n",
        "plt.show()\n",
        "plt.close()"
      ],
      "metadata": {
        "colab": {
          "base_uri": "https://localhost:8080/",
          "height": 313
        },
        "id": "ZaeIOVnzkO67",
        "outputId": "592816c7-4cc1-407b-ea21-aa8152450066"
      },
      "execution_count": null,
      "outputs": [
        {
          "output_type": "execute_result",
          "data": {
            "text/plain": [
              "<matplotlib.axes._subplots.AxesSubplot at 0x7fea019af6d0>"
            ]
          },
          "metadata": {},
          "execution_count": 40
        },
        {
          "output_type": "execute_result",
          "data": {
            "text/plain": [
              "Text(0.5, 1.0, 'Actual vs Predicted Values')"
            ]
          },
          "metadata": {},
          "execution_count": 40
        },
        {
          "output_type": "display_data",
          "data": {
            "text/plain": [
              "<Figure size 432x288 with 1 Axes>"
            ],
            "image/png": "[encoded data removed]"
          },
          "metadata": {
            "needs_background": "light"
          }
        }
      ]
    },
    {
      "cell_type": "code",
      "source": [
        "#plot actual and predicted values for decision tree without oversampling\n",
        "\n",
        "ax = sns.histplot(pt_dt_wos.predict(X_test), color=\"r\", label=\"PREDICTED\", kde=True, linewidth = 0)\n",
        "sns.histplot(y_test, color=\"b\", label=\"ACTUAL\", kde=True, linewidth=0)\n",
        "\n",
        "\n",
        "plt.title('Actual vs Predicted Values')\n",
        "\n",
        "\n",
        "plt.show()\n",
        "plt.close()"
      ],
      "metadata": {
        "colab": {
          "base_uri": "https://localhost:8080/",
          "height": 314
        },
        "outputId": "dc0cefcd-5bb7-4c41-bc46-ffef51e5c9df",
        "id": "T0mSUsLjmg7L"
      },
      "execution_count": 74,
      "outputs": [
        {
          "output_type": "execute_result",
          "data": {
            "text/plain": [
              "<matplotlib.axes._subplots.AxesSubplot at 0x7fdc1533ffd0>"
            ]
          },
          "metadata": {},
          "execution_count": 74
        },
        {
          "output_type": "execute_result",
          "data": {
            "text/plain": [
              "Text(0.5, 1.0, 'Actual vs Predicted Values')"
            ]
          },
          "metadata": {},
          "execution_count": 74
        },
        {
          "output_type": "display_data",
          "data": {
            "text/plain": [
              "<Figure size 432x288 with 1 Axes>"
            ],
            "image/png": "[encoded data removed]"
          },
          "metadata": {
            "needs_background": "light"
          }
        }
      ]
    },
    {
      "cell_type": "markdown",
      "source": [
        "Lesser overfitting in decision tree classification"
      ],
      "metadata": {
        "id": "BH2C7ZjhRfIR"
      }
    },
    {
      "cell_type": "markdown",
      "source": [
        "#Cross Validation"
      ],
      "metadata": {
        "id": "CA6m_RNigPqW"
      }
    },
    {
      "cell_type": "code",
      "source": [
        "# Hyperparameter optimization\n",
        "from sklearn.model_selection import GridSearchCV\n",
        "from sklearn.model_selection import RandomizedSearchCV"
      ],
      "metadata": {
        "id": "Y84Vu2iojlMW"
      },
      "execution_count": 48,
      "outputs": []
    },
    {
      "cell_type": "markdown",
      "source": [
        "##Grid Search Cross Validation\n",
        "> Random Forest"
      ],
      "metadata": {
        "id": "xEMFV92RFskg"
      }
    },
    {
      "cell_type": "markdown",
      "source": [
        "### with oversampling"
      ],
      "metadata": {
        "id": "63u8YiL2uY_x"
      }
    },
    {
      "cell_type": "code",
      "source": [
        "#Check the list of available parameters \n",
        "pt.get_params().keys()"
      ],
      "metadata": {
        "colab": {
          "base_uri": "https://localhost:8080/"
        },
        "id": "F_actl9b6wbI",
        "outputId": "7e05cbe0-beba-4292-802c-0f1b0816f04f"
      },
      "execution_count": 54,
      "outputs": [
        {
          "output_type": "execute_result",
          "data": {
            "text/plain": [
              "dict_keys(['memory', 'steps', 'verbose', 'ct', 'sm', 'rf', 'ct__n_jobs', 'ct__remainder', 'ct__sparse_threshold', 'ct__transformer_weights', 'ct__transformers', 'ct__verbose', 'ct__verbose_feature_names_out', 'ct__num', 'ct__cat', 'ct__num__memory', 'ct__num__steps', 'ct__num__verbose', 'ct__num__impute', 'ct__num__scale', 'ct__num__impute__add_indicator', 'ct__num__impute__copy', 'ct__num__impute__fill_value', 'ct__num__impute__missing_values', 'ct__num__impute__strategy', 'ct__num__impute__verbose', 'ct__num__scale__copy', 'ct__num__scale__with_mean', 'ct__num__scale__with_std', 'ct__cat__memory', 'ct__cat__steps', 'ct__cat__verbose', 'ct__cat__impute', 'ct__cat__one-hot', 'ct__cat__impute__add_indicator', 'ct__cat__impute__copy', 'ct__cat__impute__fill_value', 'ct__cat__impute__missing_values', 'ct__cat__impute__strategy', 'ct__cat__impute__verbose', 'ct__cat__one-hot__categories', 'ct__cat__one-hot__drop', 'ct__cat__one-hot__dtype', 'ct__cat__one-hot__handle_unknown', 'ct__cat__one-hot__sparse', 'sm__k_neighbors', 'sm__n_jobs', 'sm__random_state', 'sm__sampling_strategy', 'rf__bootstrap', 'rf__ccp_alpha', 'rf__class_weight', 'rf__criterion', 'rf__max_depth', 'rf__max_features', 'rf__max_leaf_nodes', 'rf__max_samples', 'rf__min_impurity_decrease', 'rf__min_samples_leaf', 'rf__min_samples_split', 'rf__min_weight_fraction_leaf', 'rf__n_estimators', 'rf__n_jobs', 'rf__oob_score', 'rf__random_state', 'rf__verbose', 'rf__warm_start'])"
            ]
          },
          "metadata": {},
          "execution_count": 54
        }
      ]
    },
    {
      "cell_type": "code",
      "source": [
        "# Define dictionary\n",
        "#\n",
        "parameters = { 'rf__n_estimators'     :  [200,300],             # Number of trees in random forest\n",
        "               'rf__max_features'     :  ['auto','sqrt'],       # Number of features to consider at every split\n",
        "               'rf__max_depth'        :  [8,10],                # Maximum number of levels in tree\n",
        "               'rf__min_samples_split':  [10, 15, 20],          # Minimum number of samples required to split a node\n",
        "               'rf__bootstrap'        :  [True]                 # Method of selecting samples for training each tree (WITH OR WITHOUT REPLACEMENT)\n",
        "              \n",
        "               }                               # Total: 2 * 2 * 2 * 3 * 1 = 24\n",
        "\n"
      ],
      "metadata": {
        "id": "BN0I4ld_iTYU"
      },
      "execution_count": 55,
      "outputs": []
    },
    {
      "cell_type": "code",
      "source": [
        "#param_grid = {'classifier__C':[0.001, 0.01, 0.1, 1, 10, 100, 1000]}\n",
        "grid_search = GridSearchCV(estimator=pt,\n",
        "                           param_grid=parameters,\n",
        "                           scoring = ['accuracy'],\n",
        "                           cv=5,\n",
        "                           n_jobs=-1,\n",
        "                           verbose =1,         # Higher the value, more the verbosity\n",
        "                           refit = 'accuracy'\n",
        "                           )\n",
        "\n",
        "start = time.time()\n",
        "grid_search.fit(X_train, y_train)\n",
        "print(\"\\n\\n--Takes time...---\\n\")\n",
        "end = time.time()\n",
        "print()\n",
        "(end - start)/60               # 50 min\n",
        "# grid_search.fit(X_train, y_train)\n"
      ],
      "metadata": {
        "colab": {
          "base_uri": "https://localhost:8080/"
        },
        "id": "BriDCHnhyLc8",
        "outputId": "81ba3e69-75de-4514-f051-27aa0be751b8"
      },
      "execution_count": 56,
      "outputs": [
        {
          "output_type": "stream",
          "name": "stdout",
          "text": [
            "Fitting 5 folds for each of 24 candidates, totalling 120 fits\n"
          ]
        },
        {
          "output_type": "execute_result",
          "data": {
            "text/plain": [
              "GridSearchCV(cv=5,\n",
              "             estimator=Pipeline(steps=[('ct',\n",
              "                                        ColumnTransformer(transformers=[('num',\n",
              "                                                                         Pipeline(steps=[('impute',\n",
              "                                                                                          SimpleImputer()),\n",
              "                                                                                         ('scale',\n",
              "                                                                                          StandardScaler())]),\n",
              "                                                                         ['Estimated_Insects_Count',\n",
              "                                                                          'Number_Doses_Week',\n",
              "                                                                          'Number_Weeks_Used',\n",
              "                                                                          'Number_Weeks_Quit']),\n",
              "                                                                        ('cat',\n",
              "                                                                         Pipeline(steps=[('impute',\n",
              "                                                                                          SimpleImputer(strategy='most_frequent')),\n",
              "                                                                                         ('one-hot',\n",
              "                                                                                          OneHotEncoder())]),\n",
              "                                                                         ['Crop_Type',\n",
              "                                                                          'Soil_Type',\n",
              "                                                                          'Pesticide_Use_Category',\n",
              "                                                                          'Season'])])),\n",
              "                                       ('sm', SMOTE(random_state=42)),\n",
              "                                       ('rf', RandomForestClassifier())]),\n",
              "             n_jobs=-1,\n",
              "             param_grid={'rf__bootstrap': [True], 'rf__max_depth': [8, 10],\n",
              "                         'rf__max_features': ['auto', 'sqrt'],\n",
              "                         'rf__min_samples_split': [10, 15, 20],\n",
              "                         'rf__n_estimators': [200, 300]},\n",
              "             refit='accuracy', scoring=['accuracy'], verbose=1)"
            ]
          },
          "metadata": {},
          "execution_count": 56
        },
        {
          "output_type": "stream",
          "name": "stdout",
          "text": [
            "\n",
            "\n",
            "--Takes time...---\n",
            "\n",
            "\n"
          ]
        },
        {
          "output_type": "execute_result",
          "data": {
            "text/plain": [
              "47.58495284318924"
            ]
          },
          "metadata": {},
          "execution_count": 56
        }
      ]
    },
    {
      "cell_type": "code",
      "source": [
        "cv_score = grid_search.best_score_\n",
        "test_score = grid_search.score(X_test, y_test)\n",
        "print(f'Cross-validation score: {cv_score}\\nTest score: {test_score}')\n"
      ],
      "metadata": {
        "colab": {
          "base_uri": "https://localhost:8080/"
        },
        "id": "hvCoElbNU_VO",
        "outputId": "287d9fff-cb6b-41f4-9414-aa97ccb3145f"
      },
      "execution_count": 57,
      "outputs": [
        {
          "output_type": "stream",
          "name": "stdout",
          "text": [
            "Cross-validation score: 0.682370585269401\n",
            "Test score: 0.679045689849201\n"
          ]
        }
      ]
    },
    {
      "cell_type": "code",
      "source": [
        "grid_search.best_params_"
      ],
      "metadata": {
        "colab": {
          "base_uri": "https://localhost:8080/"
        },
        "id": "tvZV3LHgej_c",
        "outputId": "8493946f-8ab7-43ba-d841-6924271f41f3"
      },
      "execution_count": 58,
      "outputs": [
        {
          "output_type": "execute_result",
          "data": {
            "text/plain": [
              "{'rf__bootstrap': True,\n",
              " 'rf__max_depth': 10,\n",
              " 'rf__max_features': 'sqrt',\n",
              " 'rf__min_samples_split': 15,\n",
              " 'rf__n_estimators': 200}"
            ]
          },
          "metadata": {},
          "execution_count": 58
        }
      ]
    },
    {
      "cell_type": "code",
      "source": [
        "# Make predictions using the best returned model\n",
        "y_pred = grid_search.predict(X_test)\n",
        "print(\"--Few predictions--\\n\")\n",
        "y_pred[:4]\n",
        "\n",
        "# Accuracy score\n",
        "print(\"\\n\\n--Accuracy Score--\\n\")\n",
        "accuracy = accuracy_score(y_test, y_pred)\n",
        "accuracy * 100.0             # 'Accuracy: 68.02835921674544'\n",
        "\n",
        "# Confusion matrix\n",
        "print(\"\\n\\n--Confusion Matrix--\\n\")\n",
        "confusion_matrix( y_test,y_pred)\n",
        "\n",
        "# F1 score\n",
        "print(\"\\n\\n--F1 Score pos-label: 1--\\n\")\n",
        "f1_score(y_test,y_pred, pos_label = 1, average=\"weighted\")      # 0.7322726999126774"
      ],
      "metadata": {
        "colab": {
          "base_uri": "https://localhost:8080/"
        },
        "id": "3ZwlnKWfTzew",
        "outputId": "738317aa-199c-456e-f9b7-42f30ba11fe9"
      },
      "execution_count": 59,
      "outputs": [
        {
          "output_type": "stream",
          "name": "stdout",
          "text": [
            "--Few predictions--\n",
            "\n"
          ]
        },
        {
          "output_type": "execute_result",
          "data": {
            "text/plain": [
              "array([1, 0, 0, 0])"
            ]
          },
          "metadata": {},
          "execution_count": 59
        },
        {
          "output_type": "stream",
          "name": "stdout",
          "text": [
            "\n",
            "\n",
            "--Accuracy Score--\n",
            "\n"
          ]
        },
        {
          "output_type": "execute_result",
          "data": {
            "text/plain": [
              "67.9045689849201"
            ]
          },
          "metadata": {},
          "execution_count": 59
        },
        {
          "output_type": "stream",
          "name": "stdout",
          "text": [
            "\n",
            "\n",
            "--Confusion Matrix--\n",
            "\n"
          ]
        },
        {
          "output_type": "execute_result",
          "data": {
            "text/plain": [
              "array([[11036,  2188,  1631],\n",
              "       [  826,   781,   860],\n",
              "       [   87,   112,   251]])"
            ]
          },
          "metadata": {},
          "execution_count": 59
        },
        {
          "output_type": "stream",
          "name": "stdout",
          "text": [
            "\n",
            "\n",
            "--F1 Score pos-label: 1--\n",
            "\n"
          ]
        },
        {
          "output_type": "execute_result",
          "data": {
            "text/plain": [
              "0.731365248874125"
            ]
          },
          "metadata": {},
          "execution_count": 59
        }
      ]
    },
    {
      "cell_type": "markdown",
      "source": [
        "### without oversampling (smote)\n"
      ],
      "metadata": {
        "id": "qaWIkJtenyoc"
      }
    },
    {
      "cell_type": "code",
      "source": [
        "#Check the list of available parameters \n",
        "pt_wos.get_params().keys()"
      ],
      "metadata": {
        "colab": {
          "base_uri": "https://localhost:8080/"
        },
        "outputId": "2b376d80-d3d1-464a-9e36-3cca1c552e43",
        "id": "JR1h4AtWnyod"
      },
      "execution_count": 80,
      "outputs": [
        {
          "output_type": "execute_result",
          "data": {
            "text/plain": [
              "dict_keys(['memory', 'steps', 'verbose', 'ct', 'rf', 'ct__n_jobs', 'ct__remainder', 'ct__sparse_threshold', 'ct__transformer_weights', 'ct__transformers', 'ct__verbose', 'ct__verbose_feature_names_out', 'ct__num', 'ct__cat', 'ct__num__memory', 'ct__num__steps', 'ct__num__verbose', 'ct__num__impute', 'ct__num__scale', 'ct__num__impute__add_indicator', 'ct__num__impute__copy', 'ct__num__impute__fill_value', 'ct__num__impute__missing_values', 'ct__num__impute__strategy', 'ct__num__impute__verbose', 'ct__num__scale__copy', 'ct__num__scale__with_mean', 'ct__num__scale__with_std', 'ct__cat__memory', 'ct__cat__steps', 'ct__cat__verbose', 'ct__cat__impute', 'ct__cat__one-hot', 'ct__cat__impute__add_indicator', 'ct__cat__impute__copy', 'ct__cat__impute__fill_value', 'ct__cat__impute__missing_values', 'ct__cat__impute__strategy', 'ct__cat__impute__verbose', 'ct__cat__one-hot__categories', 'ct__cat__one-hot__drop', 'ct__cat__one-hot__dtype', 'ct__cat__one-hot__handle_unknown', 'ct__cat__one-hot__sparse', 'rf__bootstrap', 'rf__ccp_alpha', 'rf__class_weight', 'rf__criterion', 'rf__max_depth', 'rf__max_features', 'rf__max_leaf_nodes', 'rf__max_samples', 'rf__min_impurity_decrease', 'rf__min_samples_leaf', 'rf__min_samples_split', 'rf__min_weight_fraction_leaf', 'rf__n_estimators', 'rf__n_jobs', 'rf__oob_score', 'rf__random_state', 'rf__verbose', 'rf__warm_start'])"
            ]
          },
          "metadata": {},
          "execution_count": 80
        }
      ]
    },
    {
      "cell_type": "code",
      "source": [
        "# Define dictionary\n",
        "#\n",
        "parameters_wos = { 'rf__n_estimators'     :  [200,300],             # Number of trees in random forest\n",
        "               'rf__max_features'     :  ['auto','sqrt'],       # Number of features to consider at every split\n",
        "               'rf__max_depth'        :  [8,10],                # Maximum number of levels in tree\n",
        "               'rf__min_samples_split':  [10, 15, 20],          # Minimum number of samples required to split a node\n",
        "               'rf__bootstrap'        :  [True]                 # Method of selecting samples for training each tree (WITH OR WITHOUT REPLACEMENT)\n",
        "              \n",
        "               }                               # Total: 2 * 2 * 2 * 3 * 1 = 24\n",
        "\n"
      ],
      "metadata": {
        "id": "s33H6uJ4nyod"
      },
      "execution_count": 82,
      "outputs": []
    },
    {
      "cell_type": "code",
      "source": [
        "#param_grid = {'classifier__C':[0.001, 0.01, 0.1, 1, 10, 100, 1000]}\n",
        "grid_search_wos = GridSearchCV(estimator=pt_wos,\n",
        "                           param_grid=parameters_wos,\n",
        "                           scoring = ['accuracy'],\n",
        "                           cv=5,\n",
        "                           n_jobs=-1,\n",
        "                           verbose =1,         # Higher the value, more the verbosity\n",
        "                           refit = 'accuracy'\n",
        "                           )\n",
        "\n",
        "start = time.time()\n",
        "grid_search_wos.fit(X_train, y_train)\n",
        "print(\"\\n\\n--Takes time...---\\n\")\n",
        "end = time.time()\n",
        "print()\n",
        "(end - start)/60               # 15 min\n",
        "# grid_search.fit(X_train, y_train)\n"
      ],
      "metadata": {
        "colab": {
          "base_uri": "https://localhost:8080/"
        },
        "outputId": "f62a55a1-bebd-4840-e2c7-64b1d122ed56",
        "id": "oWEQNG-7nyoe"
      },
      "execution_count": 83,
      "outputs": [
        {
          "output_type": "stream",
          "name": "stdout",
          "text": [
            "Fitting 5 folds for each of 24 candidates, totalling 120 fits\n"
          ]
        },
        {
          "output_type": "execute_result",
          "data": {
            "text/plain": [
              "GridSearchCV(cv=5,\n",
              "             estimator=Pipeline(steps=[('ct',\n",
              "                                        ColumnTransformer(transformers=[('num',\n",
              "                                                                         Pipeline(steps=[('impute',\n",
              "                                                                                          SimpleImputer()),\n",
              "                                                                                         ('scale',\n",
              "                                                                                          StandardScaler())]),\n",
              "                                                                         ['Estimated_Insects_Count',\n",
              "                                                                          'Number_Doses_Week',\n",
              "                                                                          'Number_Weeks_Used',\n",
              "                                                                          'Number_Weeks_Quit']),\n",
              "                                                                        ('cat',\n",
              "                                                                         Pipeline(steps=[('impute',\n",
              "                                                                                          SimpleImputer(strategy='most_frequent')),\n",
              "                                                                                         ('one-hot',\n",
              "                                                                                          OneHotEncoder())]),\n",
              "                                                                         ['Crop_Type',\n",
              "                                                                          'Soil_Type',\n",
              "                                                                          'Pesticide_Use_Category',\n",
              "                                                                          'Season'])])),\n",
              "                                       ('rf', RandomForestClassifier())]),\n",
              "             n_jobs=-1,\n",
              "             param_grid={'rf__bootstrap': [True], 'rf__max_depth': [8, 10],\n",
              "                         'rf__max_features': ['auto', 'sqrt'],\n",
              "                         'rf__min_samples_split': [10, 15, 20],\n",
              "                         'rf__n_estimators': [200, 300]},\n",
              "             refit='accuracy', scoring=['accuracy'], verbose=1)"
            ]
          },
          "metadata": {},
          "execution_count": 83
        },
        {
          "output_type": "stream",
          "name": "stdout",
          "text": [
            "\n",
            "\n",
            "--Takes time...---\n",
            "\n",
            "\n"
          ]
        },
        {
          "output_type": "execute_result",
          "data": {
            "text/plain": [
              "12.401381707191467"
            ]
          },
          "metadata": {},
          "execution_count": 83
        }
      ]
    },
    {
      "cell_type": "code",
      "source": [
        "cv_score = grid_search_wos.best_score_\n",
        "test_score = grid_search_wos.score(X_test, y_test)\n",
        "print(f'Cross-validation score: {cv_score}\\nTest score: {test_score}')\n"
      ],
      "metadata": {
        "colab": {
          "base_uri": "https://localhost:8080/"
        },
        "outputId": "cdbd14dc-d3b7-4e79-e2b9-b5cdfc25d516",
        "id": "TvCip6oPnyoe"
      },
      "execution_count": 84,
      "outputs": [
        {
          "output_type": "stream",
          "name": "stdout",
          "text": [
            "Cross-validation score: 0.84264129749508\n",
            "Test score: 0.8431802835921675\n"
          ]
        }
      ]
    },
    {
      "cell_type": "code",
      "source": [
        "grid_search.best_params_"
      ],
      "metadata": {
        "colab": {
          "base_uri": "https://localhost:8080/"
        },
        "outputId": "7bbe7abc-4c68-4e6c-dcab-3a62c75bb535",
        "id": "rwMIflOMnyoe"
      },
      "execution_count": 85,
      "outputs": [
        {
          "output_type": "execute_result",
          "data": {
            "text/plain": [
              "{'rf__bootstrap': True,\n",
              " 'rf__max_depth': 10,\n",
              " 'rf__max_features': 'sqrt',\n",
              " 'rf__min_samples_split': 15,\n",
              " 'rf__n_estimators': 200}"
            ]
          },
          "metadata": {},
          "execution_count": 85
        }
      ]
    },
    {
      "cell_type": "code",
      "source": [
        "# Make predictions using the best returned model\n",
        "y_pred = grid_search_wos.predict(X_test)\n",
        "print(\"--Few predictions--\\n\")\n",
        "y_pred[:4]\n",
        "\n",
        "# Accuracy score\n",
        "print(\"\\n\\n--Accuracy Score--\\n\")\n",
        "accuracy = accuracy_score(y_test, y_pred)\n",
        "accuracy * 100.0             # 'Accuracy: 68.02835921674544'\n",
        "\n",
        "# Confusion matrix\n",
        "print(\"\\n\\n--Confusion Matrix--\\n\")\n",
        "confusion_matrix( y_test,y_pred)\n",
        "\n",
        "# F1 score\n",
        "print(\"\\n\\n--F1 Score pos-label: 1--\\n\")\n",
        "f1_score(y_test,y_pred, pos_label = 1, average=\"weighted\")      # 0.7322726999126774"
      ],
      "metadata": {
        "colab": {
          "base_uri": "https://localhost:8080/"
        },
        "outputId": "41fd86e7-129c-43e9-b421-af6805f9d484",
        "id": "on57EgXVnyoe"
      },
      "execution_count": 87,
      "outputs": [
        {
          "output_type": "stream",
          "name": "stdout",
          "text": [
            "--Few predictions--\n",
            "\n"
          ]
        },
        {
          "output_type": "execute_result",
          "data": {
            "text/plain": [
              "array([0, 0, 0, 0])"
            ]
          },
          "metadata": {},
          "execution_count": 87
        },
        {
          "output_type": "stream",
          "name": "stdout",
          "text": [
            "\n",
            "\n",
            "--Accuracy Score--\n",
            "\n"
          ]
        },
        {
          "output_type": "execute_result",
          "data": {
            "text/plain": [
              "84.31802835921674"
            ]
          },
          "metadata": {},
          "execution_count": 87
        },
        {
          "output_type": "stream",
          "name": "stdout",
          "text": [
            "\n",
            "\n",
            "--Confusion Matrix--\n",
            "\n"
          ]
        },
        {
          "output_type": "execute_result",
          "data": {
            "text/plain": [
              "array([[14755,   100,     0],\n",
              "       [ 2236,   230,     1],\n",
              "       [  381,    69,     0]])"
            ]
          },
          "metadata": {},
          "execution_count": 87
        },
        {
          "output_type": "stream",
          "name": "stdout",
          "text": [
            "\n",
            "\n",
            "--F1 Score pos-label: 1--\n",
            "\n"
          ]
        },
        {
          "output_type": "execute_result",
          "data": {
            "text/plain": [
              "0.7876750720829379"
            ]
          },
          "metadata": {},
          "execution_count": 87
        }
      ]
    },
    {
      "cell_type": "markdown",
      "source": [
        "##Grid Search Cross Validation\n",
        "> Decision Tree"
      ],
      "metadata": {
        "id": "oR9rA4NEjFWS"
      }
    },
    {
      "cell_type": "markdown",
      "source": [
        "### With oversampling"
      ],
      "metadata": {
        "id": "ZCV0oLbUuq1q"
      }
    },
    {
      "cell_type": "code",
      "source": [
        "from sklearn.metrics import accuracy_score, f1_score\n",
        "from sklearn.metrics import plot_roc_curve\n",
        "from sklearn.metrics import confusion_matrix"
      ],
      "metadata": {
        "id": "vwBhBQ7wDJIR"
      },
      "execution_count": 43,
      "outputs": []
    },
    {
      "cell_type": "code",
      "source": [
        "#Check the list of available parameters \n",
        "pt_dt.get_params().keys()"
      ],
      "metadata": {
        "colab": {
          "base_uri": "https://localhost:8080/"
        },
        "outputId": "bf7362a0-8afe-4d9b-b129-fde6caaf5766",
        "id": "-dHvSwR3xa4l"
      },
      "execution_count": 44,
      "outputs": [
        {
          "output_type": "execute_result",
          "data": {
            "text/plain": [
              "dict_keys(['memory', 'steps', 'verbose', 'ct', 'sm', 'dt', 'ct__n_jobs', 'ct__remainder', 'ct__sparse_threshold', 'ct__transformer_weights', 'ct__transformers', 'ct__verbose', 'ct__verbose_feature_names_out', 'ct__num', 'ct__cat', 'ct__num__memory', 'ct__num__steps', 'ct__num__verbose', 'ct__num__impute', 'ct__num__scale', 'ct__num__impute__add_indicator', 'ct__num__impute__copy', 'ct__num__impute__fill_value', 'ct__num__impute__missing_values', 'ct__num__impute__strategy', 'ct__num__impute__verbose', 'ct__num__scale__copy', 'ct__num__scale__with_mean', 'ct__num__scale__with_std', 'ct__cat__memory', 'ct__cat__steps', 'ct__cat__verbose', 'ct__cat__impute', 'ct__cat__one-hot', 'ct__cat__impute__add_indicator', 'ct__cat__impute__copy', 'ct__cat__impute__fill_value', 'ct__cat__impute__missing_values', 'ct__cat__impute__strategy', 'ct__cat__impute__verbose', 'ct__cat__one-hot__categories', 'ct__cat__one-hot__drop', 'ct__cat__one-hot__dtype', 'ct__cat__one-hot__handle_unknown', 'ct__cat__one-hot__sparse', 'sm__k_neighbors', 'sm__n_jobs', 'sm__random_state', 'sm__sampling_strategy', 'dt__ccp_alpha', 'dt__class_weight', 'dt__criterion', 'dt__max_depth', 'dt__max_features', 'dt__max_leaf_nodes', 'dt__min_impurity_decrease', 'dt__min_samples_leaf', 'dt__min_samples_split', 'dt__min_weight_fraction_leaf', 'dt__random_state', 'dt__splitter'])"
            ]
          },
          "metadata": {},
          "execution_count": 44
        }
      ]
    },
    {
      "cell_type": "code",
      "source": [
        "# Define dictionary for decision tree\n",
        "#\n",
        "parameters_dt = { 'dt__criterion'         : ['gini','entropy'],\n",
        "                  'dt__max_depth'         : [10,15],\n",
        "                  'dt__splitter'          : ['random'],\n",
        "                  'dt__min_samples_split' : [15,25]\n",
        "              \n",
        "               }                               # Total: 2 * 2 * 1 * 2 = 8\n"
      ],
      "metadata": {
        "id": "yBt_vLmuxlQo"
      },
      "execution_count": 45,
      "outputs": []
    },
    {
      "cell_type": "code",
      "source": [
        "import time"
      ],
      "metadata": {
        "id": "Igbua2xN93fh"
      },
      "execution_count": 46,
      "outputs": []
    },
    {
      "cell_type": "code",
      "source": [
        "\n",
        "grid_search_dt = GridSearchCV(estimator=pt_dt,\n",
        "                           param_grid=parameters_dt,\n",
        "                           scoring = ['accuracy', 'f1'],\n",
        "                           cv=5,\n",
        "                           n_jobs=-1,\n",
        "                           verbose =1,         # Higher the value, more the verbosity\n",
        "                           refit = 'f1'\n",
        "                           )\n",
        "\n",
        "start = time.time()\n",
        "grid_search_dt.fit(X_train, y_train)\n",
        "print(\"\\n\\n--Takes time...---\\n\")\n",
        "end = time.time()\n",
        "print()\n",
        "(end - start)/60               # 1 minute\n"
      ],
      "metadata": {
        "colab": {
          "base_uri": "https://localhost:8080/"
        },
        "outputId": "fe3594bb-0558-4c91-860a-695938c5a543",
        "id": "yxw2d4_Uxqce"
      },
      "execution_count": 49,
      "outputs": [
        {
          "output_type": "stream",
          "name": "stdout",
          "text": [
            "Fitting 5 folds for each of 8 candidates, totalling 40 fits\n"
          ]
        },
        {
          "output_type": "stream",
          "name": "stderr",
          "text": [
            "/usr/local/lib/python3.7/dist-packages/sklearn/model_selection/_search.py:972: UserWarning: One or more of the test scores are non-finite: [nan nan nan nan nan nan nan nan]\n",
            "  category=UserWarning,\n"
          ]
        },
        {
          "output_type": "execute_result",
          "data": {
            "text/plain": [
              "GridSearchCV(cv=5,\n",
              "             estimator=Pipeline(steps=[('ct',\n",
              "                                        ColumnTransformer(transformers=[('num',\n",
              "                                                                         Pipeline(steps=[('impute',\n",
              "                                                                                          SimpleImputer()),\n",
              "                                                                                         ('scale',\n",
              "                                                                                          StandardScaler())]),\n",
              "                                                                         ['Estimated_Insects_Count',\n",
              "                                                                          'Number_Doses_Week',\n",
              "                                                                          'Number_Weeks_Used',\n",
              "                                                                          'Number_Weeks_Quit']),\n",
              "                                                                        ('cat',\n",
              "                                                                         Pipeline(steps=[('impute',\n",
              "                                                                                          SimpleImputer(strategy='most_frequent')),\n",
              "                                                                                         ('one-hot',\n",
              "                                                                                          OneHotEncoder())]),\n",
              "                                                                         ['Crop_Type',\n",
              "                                                                          'Soil_Type',\n",
              "                                                                          'Pesticide_Use_Category',\n",
              "                                                                          'Season'])])),\n",
              "                                       ('sm', SMOTE(random_state=42)),\n",
              "                                       ('dt', DecisionTreeClassifier())]),\n",
              "             n_jobs=-1,\n",
              "             param_grid={'dt__criterion': ['gini', 'entropy'],\n",
              "                         'dt__max_depth': [10, 15],\n",
              "                         'dt__min_samples_split': [15, 25],\n",
              "                         'dt__splitter': ['random']},\n",
              "             refit='f1', scoring=['accuracy', 'f1'], verbose=1)"
            ]
          },
          "metadata": {},
          "execution_count": 49
        },
        {
          "output_type": "stream",
          "name": "stdout",
          "text": [
            "\n",
            "\n",
            "--Takes time...---\n",
            "\n",
            "\n"
          ]
        },
        {
          "output_type": "execute_result",
          "data": {
            "text/plain": [
              "0.37995573282241824"
            ]
          },
          "metadata": {},
          "execution_count": 49
        }
      ]
    },
    {
      "cell_type": "code",
      "source": [
        "grid_search_dt.best_params_"
      ],
      "metadata": {
        "colab": {
          "base_uri": "https://localhost:8080/"
        },
        "id": "v4b0PNAnkBRu",
        "outputId": "cc0e3eaa-9cf2-44fa-d00e-ff71223c0c9e"
      },
      "execution_count": 50,
      "outputs": [
        {
          "output_type": "execute_result",
          "data": {
            "text/plain": [
              "{'dt__criterion': 'gini',\n",
              " 'dt__max_depth': 10,\n",
              " 'dt__min_samples_split': 15,\n",
              " 'dt__splitter': 'random'}"
            ]
          },
          "metadata": {},
          "execution_count": 50
        }
      ]
    },
    {
      "cell_type": "code",
      "source": [
        "# Make predictions using the best returned model\n",
        "y_pred = grid_search_dt.predict(X_test)\n",
        "print(\"--Few predictions--\\n\")\n",
        "y_pred[:4]\n",
        "\n",
        "# Accuracy score\n",
        "print(\"\\n\\n--Accuracy Score--\\n\")\n",
        "accuracy = accuracy_score(y_test, y_pred)\n",
        "accuracy * 100.0             # 'Accuracy: 64.78730587440918'\n",
        "\n",
        "# Confusion matrix\n",
        "print(\"\\n\\n--Confusion Matrix--\\n\")\n",
        "confusion_matrix( y_test,y_pred)\n",
        "\n",
        "# F1 score\n",
        "print(\"\\n\\n--F1 Score pos-label: 1--\\n\")\n",
        "f1_score(y_test,y_pred, pos_label = 1, average=\"weighted\")      # 0.7104331919025608"
      ],
      "metadata": {
        "id": "-yLOu44MDcrU",
        "colab": {
          "base_uri": "https://localhost:8080/"
        },
        "outputId": "18eae9e9-0b71-4121-e707-60367b366372"
      },
      "execution_count": 51,
      "outputs": [
        {
          "output_type": "stream",
          "name": "stdout",
          "text": [
            "--Few predictions--\n",
            "\n"
          ]
        },
        {
          "output_type": "execute_result",
          "data": {
            "text/plain": [
              "array([1, 0, 0, 0])"
            ]
          },
          "metadata": {},
          "execution_count": 51
        },
        {
          "output_type": "stream",
          "name": "stdout",
          "text": [
            "\n",
            "\n",
            "--Accuracy Score--\n",
            "\n"
          ]
        },
        {
          "output_type": "execute_result",
          "data": {
            "text/plain": [
              "63.23992797659239"
            ]
          },
          "metadata": {},
          "execution_count": 51
        },
        {
          "output_type": "stream",
          "name": "stdout",
          "text": [
            "\n",
            "\n",
            "--Confusion Matrix--\n",
            "\n"
          ]
        },
        {
          "output_type": "execute_result",
          "data": {
            "text/plain": [
              "array([[10323,  2072,  2460],\n",
              "       [  764,   638,  1065],\n",
              "       [   79,    93,   278]])"
            ]
          },
          "metadata": {},
          "execution_count": 51
        },
        {
          "output_type": "stream",
          "name": "stdout",
          "text": [
            "\n",
            "\n",
            "--F1 Score pos-label: 1--\n",
            "\n"
          ]
        },
        {
          "output_type": "execute_result",
          "data": {
            "text/plain": [
              "0.7001263141291102"
            ]
          },
          "metadata": {},
          "execution_count": 51
        }
      ]
    },
    {
      "cell_type": "markdown",
      "source": [
        "### without oversampling"
      ],
      "metadata": {
        "id": "SkXAe2aulhkW"
      }
    },
    {
      "cell_type": "code",
      "source": [
        "from sklearn.metrics import accuracy_score, f1_score\n",
        "from sklearn.metrics import plot_roc_curve\n",
        "from sklearn.metrics import confusion_matrix"
      ],
      "metadata": {
        "id": "duX97DOxlhkW"
      },
      "execution_count": null,
      "outputs": []
    },
    {
      "cell_type": "code",
      "source": [
        "#Check the list of available parameters \n",
        "pt_dt_wos.get_params().keys()"
      ],
      "metadata": {
        "colab": {
          "base_uri": "https://localhost:8080/"
        },
        "outputId": "cfac7e7a-4406-417a-8bc9-3a2b9290d6b3",
        "id": "EdnYEJS2lhkX"
      },
      "execution_count": 69,
      "outputs": [
        {
          "output_type": "execute_result",
          "data": {
            "text/plain": [
              "dict_keys(['memory', 'steps', 'verbose', 'ct', 'dt', 'ct__n_jobs', 'ct__remainder', 'ct__sparse_threshold', 'ct__transformer_weights', 'ct__transformers', 'ct__verbose', 'ct__verbose_feature_names_out', 'ct__num', 'ct__cat', 'ct__num__memory', 'ct__num__steps', 'ct__num__verbose', 'ct__num__impute', 'ct__num__scale', 'ct__num__impute__add_indicator', 'ct__num__impute__copy', 'ct__num__impute__fill_value', 'ct__num__impute__missing_values', 'ct__num__impute__strategy', 'ct__num__impute__verbose', 'ct__num__scale__copy', 'ct__num__scale__with_mean', 'ct__num__scale__with_std', 'ct__cat__memory', 'ct__cat__steps', 'ct__cat__verbose', 'ct__cat__impute', 'ct__cat__one-hot', 'ct__cat__impute__add_indicator', 'ct__cat__impute__copy', 'ct__cat__impute__fill_value', 'ct__cat__impute__missing_values', 'ct__cat__impute__strategy', 'ct__cat__impute__verbose', 'ct__cat__one-hot__categories', 'ct__cat__one-hot__drop', 'ct__cat__one-hot__dtype', 'ct__cat__one-hot__handle_unknown', 'ct__cat__one-hot__sparse', 'dt__ccp_alpha', 'dt__class_weight', 'dt__criterion', 'dt__max_depth', 'dt__max_features', 'dt__max_leaf_nodes', 'dt__min_impurity_decrease', 'dt__min_samples_leaf', 'dt__min_samples_split', 'dt__min_weight_fraction_leaf', 'dt__random_state', 'dt__splitter'])"
            ]
          },
          "metadata": {},
          "execution_count": 69
        }
      ]
    },
    {
      "cell_type": "code",
      "source": [
        "# Define dictionary for decision tree\n",
        "#\n",
        "parameters_dt_wos = { 'dt__criterion'         : ['gini','entropy'],\n",
        "                  'dt__max_depth'         : [10,15],\n",
        "                  'dt__splitter'          : ['random'],\n",
        "                  'dt__min_samples_split' : [15,25]\n",
        "              \n",
        "               }                               # Total: 2 * 2 * 1 * 2 = 8\n"
      ],
      "metadata": {
        "id": "8yv8xV4flhkX"
      },
      "execution_count": 70,
      "outputs": []
    },
    {
      "cell_type": "code",
      "source": [
        "import time"
      ],
      "metadata": {
        "id": "ozsoUKqMlhkX"
      },
      "execution_count": null,
      "outputs": []
    },
    {
      "cell_type": "code",
      "source": [
        "\n",
        "grid_search_dt = GridSearchCV(estimator=pt_dt_wos,\n",
        "                           param_grid=parameters_dt_wos,\n",
        "                           scoring = ['accuracy', 'f1'],\n",
        "                           cv=5,\n",
        "                           n_jobs=-1,\n",
        "                           verbose =1,         # Higher the value, more the verbosity\n",
        "                           refit = 'f1'\n",
        "                           )\n",
        "\n",
        "start = time.time()\n",
        "grid_search_dt.fit(X_train, y_train)\n",
        "print(\"\\n\\n--Takes time...---\\n\")\n",
        "end = time.time()\n",
        "print()\n",
        "(end - start)/60               # 2 sec\n"
      ],
      "metadata": {
        "colab": {
          "base_uri": "https://localhost:8080/"
        },
        "outputId": "9f842231-bd4a-438d-b835-f5c36c23259a",
        "id": "u7699ukZlhkX"
      },
      "execution_count": 71,
      "outputs": [
        {
          "output_type": "stream",
          "name": "stdout",
          "text": [
            "Fitting 5 folds for each of 8 candidates, totalling 40 fits\n"
          ]
        },
        {
          "output_type": "stream",
          "name": "stderr",
          "text": [
            "/usr/local/lib/python3.7/dist-packages/sklearn/model_selection/_search.py:972: UserWarning: One or more of the test scores are non-finite: [nan nan nan nan nan nan nan nan]\n",
            "  category=UserWarning,\n"
          ]
        },
        {
          "output_type": "execute_result",
          "data": {
            "text/plain": [
              "GridSearchCV(cv=5,\n",
              "             estimator=Pipeline(steps=[('ct',\n",
              "                                        ColumnTransformer(transformers=[('num',\n",
              "                                                                         Pipeline(steps=[('impute',\n",
              "                                                                                          SimpleImputer()),\n",
              "                                                                                         ('scale',\n",
              "                                                                                          StandardScaler())]),\n",
              "                                                                         ['Estimated_Insects_Count',\n",
              "                                                                          'Number_Doses_Week',\n",
              "                                                                          'Number_Weeks_Used',\n",
              "                                                                          'Number_Weeks_Quit']),\n",
              "                                                                        ('cat',\n",
              "                                                                         Pipeline(steps=[('impute',\n",
              "                                                                                          SimpleImputer(strategy='most_frequent')),\n",
              "                                                                                         ('one-hot',\n",
              "                                                                                          OneHotEncoder())]),\n",
              "                                                                         ['Crop_Type',\n",
              "                                                                          'Soil_Type',\n",
              "                                                                          'Pesticide_Use_Category',\n",
              "                                                                          'Season'])])),\n",
              "                                       ('dt', DecisionTreeClassifier())]),\n",
              "             n_jobs=-1,\n",
              "             param_grid={'dt__criterion': ['gini', 'entropy'],\n",
              "                         'dt__max_depth': [10, 15],\n",
              "                         'dt__min_samples_split': [15, 25],\n",
              "                         'dt__splitter': ['random']},\n",
              "             refit='f1', scoring=['accuracy', 'f1'], verbose=1)"
            ]
          },
          "metadata": {},
          "execution_count": 71
        },
        {
          "output_type": "stream",
          "name": "stdout",
          "text": [
            "\n",
            "\n",
            "--Takes time...---\n",
            "\n",
            "\n"
          ]
        },
        {
          "output_type": "execute_result",
          "data": {
            "text/plain": [
              "0.12031756639480591"
            ]
          },
          "metadata": {},
          "execution_count": 71
        }
      ]
    },
    {
      "cell_type": "code",
      "source": [
        "grid_search_dt.best_params_"
      ],
      "metadata": {
        "colab": {
          "base_uri": "https://localhost:8080/"
        },
        "outputId": "b604256b-6c34-4941-e306-de806b44e712",
        "id": "eLF-IbdelhkX"
      },
      "execution_count": 72,
      "outputs": [
        {
          "output_type": "execute_result",
          "data": {
            "text/plain": [
              "{'dt__criterion': 'gini',\n",
              " 'dt__max_depth': 10,\n",
              " 'dt__min_samples_split': 15,\n",
              " 'dt__splitter': 'random'}"
            ]
          },
          "metadata": {},
          "execution_count": 72
        }
      ]
    },
    {
      "cell_type": "code",
      "source": [
        "# Make predictions using the best returned model\n",
        "y_pred = grid_search_dt.predict(X_test)\n",
        "print(\"--Few predictions--\\n\")\n",
        "y_pred[:4]\n",
        "\n",
        "# Accuracy score\n",
        "print(\"\\n\\n--Accuracy Score--\\n\")\n",
        "accuracy = accuracy_score(y_test, y_pred)\n",
        "accuracy * 100.0             # 'Accuracy: 64.78730587440918'\n",
        "\n",
        "# Confusion matrix\n",
        "print(\"\\n\\n--Confusion Matrix--\\n\")\n",
        "confusion_matrix( y_test,y_pred)\n",
        "\n",
        "# F1 score\n",
        "print(\"\\n\\n--F1 Score pos-label: 1--\\n\")\n",
        "f1_score(y_test,y_pred, pos_label = 1, average=\"weighted\")      # 0.7104331919025608"
      ],
      "metadata": {
        "colab": {
          "base_uri": "https://localhost:8080/"
        },
        "outputId": "260d8556-4e42-46e1-c008-a8e972b618b4",
        "id": "r5jwGSPrlhkY"
      },
      "execution_count": 73,
      "outputs": [
        {
          "output_type": "stream",
          "name": "stdout",
          "text": [
            "--Few predictions--\n",
            "\n"
          ]
        },
        {
          "output_type": "execute_result",
          "data": {
            "text/plain": [
              "array([0, 0, 0, 0])"
            ]
          },
          "metadata": {},
          "execution_count": 73
        },
        {
          "output_type": "stream",
          "name": "stdout",
          "text": [
            "\n",
            "\n",
            "--Accuracy Score--\n",
            "\n"
          ]
        },
        {
          "output_type": "execute_result",
          "data": {
            "text/plain": [
              "84.05919423812739"
            ]
          },
          "metadata": {},
          "execution_count": 73
        },
        {
          "output_type": "stream",
          "name": "stdout",
          "text": [
            "\n",
            "\n",
            "--Confusion Matrix--\n",
            "\n"
          ]
        },
        {
          "output_type": "execute_result",
          "data": {
            "text/plain": [
              "array([[14609,   243,     3],\n",
              "       [ 2137,   325,     5],\n",
              "       [  369,    76,     5]])"
            ]
          },
          "metadata": {},
          "execution_count": 73
        },
        {
          "output_type": "stream",
          "name": "stdout",
          "text": [
            "\n",
            "\n",
            "--F1 Score pos-label: 1--\n",
            "\n"
          ]
        },
        {
          "output_type": "execute_result",
          "data": {
            "text/plain": [
              "0.7934636286673246"
            ]
          },
          "metadata": {},
          "execution_count": 73
        }
      ]
    },
    {
      "cell_type": "markdown",
      "source": [
        "## Random Search Cross Validation\n",
        "> Random Forest\n",
        "\n"
      ],
      "metadata": {
        "id": "SQkI-ODOCQFZ"
      }
    },
    {
      "cell_type": "markdown",
      "source": [
        "### with oversampling"
      ],
      "metadata": {
        "id": "1mCZXrKku7X0"
      }
    },
    {
      "cell_type": "code",
      "source": [
        "# Tune parameters using random search\n",
        "\n",
        "rs = RandomizedSearchCV(\n",
        "                          pt,\n",
        "                          param_distributions=parameters,\n",
        "                          scoring= ['accuracy'],\n",
        "                          n_iter=4,           # Max combination of\n",
        "                                              # parameter to try. Default = 10\n",
        "                          verbose = 1,\n",
        "                          refit = 'accuracy',\n",
        "                          n_jobs = -1,          # Use parallel cpu threads\n",
        "                          cv = 5               # No of folds.\n",
        "                                              # So n_iter * cv combinations\n",
        "                        )"
      ],
      "metadata": {
        "id": "k2GCXF_Q6v1h"
      },
      "execution_count": null,
      "outputs": []
    },
    {
      "cell_type": "code",
      "source": [
        "start = time.time()\n",
        "rs.fit(X_train, y_train)\n",
        "end = time.time()\n",
        "print()\n",
        "(end - start)/60   # 8 minutes"
      ],
      "metadata": {
        "id": "cuB9GKuWCyqS",
        "colab": {
          "base_uri": "https://localhost:8080/"
        },
        "outputId": "e2df64f3-54ec-48b5-f440-5e469d89e344"
      },
      "execution_count": null,
      "outputs": [
        {
          "output_type": "stream",
          "name": "stdout",
          "text": [
            "Fitting 5 folds for each of 4 candidates, totalling 20 fits\n"
          ]
        },
        {
          "output_type": "execute_result",
          "data": {
            "text/plain": [
              "RandomizedSearchCV(cv=5,\n",
              "                   estimator=Pipeline(steps=[('ct',\n",
              "                                              ColumnTransformer(transformers=[('num',\n",
              "                                                                               Pipeline(steps=[('impute',\n",
              "                                                                                                SimpleImputer()),\n",
              "                                                                                               ('scale',\n",
              "                                                                                                StandardScaler())]),\n",
              "                                                                               ['Estimated_Insects_Count',\n",
              "                                                                                'Number_Doses_Week',\n",
              "                                                                                'Number_Weeks_Used',\n",
              "                                                                                'Number_Weeks_Quit']),\n",
              "                                                                              ('cat',\n",
              "                                                                               Pipeline(steps=[('impute',\n",
              "                                                                                                SimpleImputer(strategy='most_frequent')),\n",
              "                                                                                               ('one-hot',\n",
              "                                                                                                OneHotEnc...\n",
              "                                                                               ['Crop_Type',\n",
              "                                                                                'Soil_Type',\n",
              "                                                                                'Pesticide_Use_Category',\n",
              "                                                                                'Season'])])),\n",
              "                                             ('sm', SMOTE(random_state=42)),\n",
              "                                             ('rf', RandomForestClassifier())]),\n",
              "                   n_iter=4, n_jobs=-1,\n",
              "                   param_distributions={'rf__bootstrap': [True],\n",
              "                                        'rf__max_depth': [8, 10],\n",
              "                                        'rf__max_features': ['auto', 'sqrt'],\n",
              "                                        'rf__min_samples_split': [10, 15, 20],\n",
              "                                        'rf__n_estimators': [200, 300]},\n",
              "                   refit='accuracy', scoring=['accuracy'], verbose=1)"
            ]
          },
          "metadata": {},
          "execution_count": 77
        },
        {
          "output_type": "stream",
          "name": "stdout",
          "text": [
            "\n"
          ]
        },
        {
          "output_type": "execute_result",
          "data": {
            "text/plain": [
              "8.003995803991954"
            ]
          },
          "metadata": {},
          "execution_count": 77
        }
      ]
    },
    {
      "cell_type": "code",
      "source": [
        "# the parameters that gives best learning in random forest\n",
        "rs.best_params_"
      ],
      "metadata": {
        "colab": {
          "base_uri": "https://localhost:8080/"
        },
        "id": "Hkav3v03lF_V",
        "outputId": "bb3dd7bc-2112-481f-f155-3e7bcb6a70c9"
      },
      "execution_count": null,
      "outputs": [
        {
          "output_type": "execute_result",
          "data": {
            "text/plain": [
              "{'rf__n_estimators': 200,\n",
              " 'rf__min_samples_split': 10,\n",
              " 'rf__max_features': 'sqrt',\n",
              " 'rf__max_depth': 10,\n",
              " 'rf__bootstrap': True}"
            ]
          },
          "metadata": {},
          "execution_count": 93
        }
      ]
    },
    {
      "cell_type": "code",
      "source": [
        "# Evaluate\n",
        "f\"Best score: {rs.best_score_} \" ;print()           # 'Best score: 0.6813296245275972  '\n",
        "# f\"Best parameter set: {rs.best_params_} \" ; print()\n",
        "\n",
        "\n",
        "# Make predictions from the best returned model\n",
        "y_pred = rs.predict(X_test)\n",
        "\n",
        "\n",
        "# Accuracy and f1_score\n",
        "accuracy = accuracy_score(y_test, y_pred)\n",
        "f\"Accuracy: {accuracy * 100.0}\"   ; print()      # 'Accuracy: 68.02835921674544'\n",
        "f\"f1 score: {f1_score(y_test,y_pred, pos_label = 1, average='weighted')}\" ; print()     # 0.7319591218626418"
      ],
      "metadata": {
        "id": "GlLFba-QC89L",
        "colab": {
          "base_uri": "https://localhost:8080/",
          "height": 72
        },
        "outputId": "7aca1dc9-619a-494e-b964-8947df6c7221"
      },
      "execution_count": null,
      "outputs": [
        {
          "output_type": "execute_result",
          "data": {
            "text/plain": [
              "'Best score: 0.6813296245275972 '"
            ],
            "application/vnd.google.colaboratory.intrinsic+json": {
              "type": "string"
            }
          },
          "metadata": {},
          "execution_count": 97
        },
        {
          "output_type": "stream",
          "name": "stdout",
          "text": [
            "\n"
          ]
        },
        {
          "output_type": "execute_result",
          "data": {
            "text/plain": [
              "'Accuracy: 68.02835921674544'"
            ],
            "application/vnd.google.colaboratory.intrinsic+json": {
              "type": "string"
            }
          },
          "metadata": {},
          "execution_count": 97
        },
        {
          "output_type": "stream",
          "name": "stdout",
          "text": [
            "\n"
          ]
        },
        {
          "output_type": "execute_result",
          "data": {
            "text/plain": [
              "'f1 score: 0.7319591218626418'"
            ],
            "application/vnd.google.colaboratory.intrinsic+json": {
              "type": "string"
            }
          },
          "metadata": {},
          "execution_count": 97
        },
        {
          "output_type": "stream",
          "name": "stdout",
          "text": [
            "\n"
          ]
        }
      ]
    },
    {
      "cell_type": "markdown",
      "source": [
        "### without oversampling"
      ],
      "metadata": {
        "id": "QiBv1DzLvA8L"
      }
    },
    {
      "cell_type": "code",
      "source": [
        "# Tune parameters using random search\n",
        "\n",
        "rs_ws = RandomizedSearchCV(\n",
        "                          pt_wos,\n",
        "                          param_distributions=parameters_wos,\n",
        "                          scoring= ['accuracy'],\n",
        "                          n_iter=4,           # Max combination of\n",
        "                                              # parameter to try. Default = 10\n",
        "                          verbose = 1,\n",
        "                          refit = 'accuracy',\n",
        "                          n_jobs = -1,          # Use parallel cpu threads\n",
        "                          cv = 5               # No of folds.\n",
        "                                              # So n_iter * cv combinations\n",
        "                        )"
      ],
      "metadata": {
        "id": "RhXMKZaTvA8M"
      },
      "execution_count": 94,
      "outputs": []
    },
    {
      "cell_type": "code",
      "source": [
        "start = time.time()\n",
        "rs_ws.fit(X_train, y_train)\n",
        "end = time.time()\n",
        "print()\n",
        "(end - start)/60   # 3 minutes"
      ],
      "metadata": {
        "colab": {
          "base_uri": "https://localhost:8080/"
        },
        "outputId": "1464d8d4-74ed-4aa4-d58a-34b23f5440ae",
        "id": "vrDFWZokvA8N"
      },
      "execution_count": 95,
      "outputs": [
        {
          "output_type": "stream",
          "name": "stdout",
          "text": [
            "Fitting 5 folds for each of 4 candidates, totalling 20 fits\n"
          ]
        },
        {
          "output_type": "execute_result",
          "data": {
            "text/plain": [
              "RandomizedSearchCV(cv=5,\n",
              "                   estimator=Pipeline(steps=[('ct',\n",
              "                                              ColumnTransformer(transformers=[('num',\n",
              "                                                                               Pipeline(steps=[('impute',\n",
              "                                                                                                SimpleImputer()),\n",
              "                                                                                               ('scale',\n",
              "                                                                                                StandardScaler())]),\n",
              "                                                                               ['Estimated_Insects_Count',\n",
              "                                                                                'Number_Doses_Week',\n",
              "                                                                                'Number_Weeks_Used',\n",
              "                                                                                'Number_Weeks_Quit']),\n",
              "                                                                              ('cat',\n",
              "                                                                               Pipeline(steps=[('impute',\n",
              "                                                                                                SimpleImputer(strategy='most_frequent')),\n",
              "                                                                                               ('one-hot',\n",
              "                                                                                                OneHotEncoder())]),\n",
              "                                                                               ['Crop_Type',\n",
              "                                                                                'Soil_Type',\n",
              "                                                                                'Pesticide_Use_Category',\n",
              "                                                                                'Season'])])),\n",
              "                                             ('rf', RandomForestClassifier())]),\n",
              "                   n_iter=4, n_jobs=-1,\n",
              "                   param_distributions={'rf__bootstrap': [True],\n",
              "                                        'rf__max_depth': [8, 10],\n",
              "                                        'rf__max_features': ['auto', 'sqrt'],\n",
              "                                        'rf__min_samples_split': [10, 15, 20],\n",
              "                                        'rf__n_estimators': [200, 300]},\n",
              "                   refit='accuracy', scoring=['accuracy'], verbose=1)"
            ]
          },
          "metadata": {},
          "execution_count": 95
        },
        {
          "output_type": "stream",
          "name": "stdout",
          "text": [
            "\n"
          ]
        },
        {
          "output_type": "execute_result",
          "data": {
            "text/plain": [
              "2.8120312293370566"
            ]
          },
          "metadata": {},
          "execution_count": 95
        }
      ]
    },
    {
      "cell_type": "code",
      "source": [
        "# the parameters that gives best learning in random forest\n",
        "rs_ws.best_params_"
      ],
      "metadata": {
        "colab": {
          "base_uri": "https://localhost:8080/"
        },
        "outputId": "6f580f11-2227-4c5b-df4b-baeb4adc99b1",
        "id": "oJBrzqGcvA8O"
      },
      "execution_count": 96,
      "outputs": [
        {
          "output_type": "execute_result",
          "data": {
            "text/plain": [
              "{'rf__n_estimators': 300,\n",
              " 'rf__min_samples_split': 10,\n",
              " 'rf__max_features': 'sqrt',\n",
              " 'rf__max_depth': 10,\n",
              " 'rf__bootstrap': True}"
            ]
          },
          "metadata": {},
          "execution_count": 96
        }
      ]
    },
    {
      "cell_type": "code",
      "source": [
        "# Evaluate\n",
        "f\"Best score: {rs_ws.best_score_} \" ;print()           # 'Best score: 0.6813296245275972  '\n",
        "# f\"Best parameter set: {rs.best_params_} \" ; print()\n",
        "\n",
        "\n",
        "# Make predictions from the best returned model\n",
        "y_pred = rs_ws.predict(X_test)\n",
        "\n",
        "\n",
        "# Accuracy and f1_score\n",
        "accuracy = accuracy_score(y_test, y_pred)\n",
        "f\"Accuracy: {accuracy * 100.0}\"   ; print()      # 'Accuracy: 68.02835921674544'\n",
        "f\"f1 score: {f1_score(y_test,y_pred, pos_label = 1, average='weighted')}\" ; print()     # 0.7319591218626418"
      ],
      "metadata": {
        "colab": {
          "base_uri": "https://localhost:8080/",
          "height": 73
        },
        "outputId": "5fa7d9fc-6b12-48e1-f311-4e7ea17beff3",
        "id": "Z37M1Ku2vA8P"
      },
      "execution_count": 97,
      "outputs": [
        {
          "output_type": "execute_result",
          "data": {
            "text/plain": [
              "'Best score: 0.8424021580657655 '"
            ],
            "application/vnd.google.colaboratory.intrinsic+json": {
              "type": "string"
            }
          },
          "metadata": {},
          "execution_count": 97
        },
        {
          "output_type": "stream",
          "name": "stdout",
          "text": [
            "\n"
          ]
        },
        {
          "output_type": "execute_result",
          "data": {
            "text/plain": [
              "'Accuracy: 84.28989421562008'"
            ],
            "application/vnd.google.colaboratory.intrinsic+json": {
              "type": "string"
            }
          },
          "metadata": {},
          "execution_count": 97
        },
        {
          "output_type": "stream",
          "name": "stdout",
          "text": [
            "\n"
          ]
        },
        {
          "output_type": "execute_result",
          "data": {
            "text/plain": [
              "'f1 score: 0.7880623936672897'"
            ],
            "application/vnd.google.colaboratory.intrinsic+json": {
              "type": "string"
            }
          },
          "metadata": {},
          "execution_count": 97
        },
        {
          "output_type": "stream",
          "name": "stdout",
          "text": [
            "\n"
          ]
        }
      ]
    },
    {
      "cell_type": "markdown",
      "source": [
        "## Random Search Cross Validation\n",
        "> Decision Tree"
      ],
      "metadata": {
        "id": "EeRrr9JaklUC"
      }
    },
    {
      "cell_type": "markdown",
      "source": [
        "### With oversampling"
      ],
      "metadata": {
        "id": "FSZgkTFUiPNW"
      }
    },
    {
      "cell_type": "code",
      "source": [
        "# Tune parameters using random search\n",
        "\n",
        "rs_dt = RandomizedSearchCV(\n",
        "                          pt_dt,\n",
        "                          param_distributions=parameters_dt,\n",
        "                          scoring= ['accuracy'],\n",
        "                          n_iter=4,           # Max combination of\n",
        "                                              # parameter to try. Default = 10\n",
        "                          verbose = 1,\n",
        "                          refit = 'accuracy',\n",
        "                          n_jobs = -1,          # Use parallel cpu threads\n",
        "                          cv = 5               # No of folds.\n",
        "                                              # So n_iter * cv combinations\n",
        "                        )"
      ],
      "metadata": {
        "id": "TRrSP-CchR5F"
      },
      "execution_count": 60,
      "outputs": []
    },
    {
      "cell_type": "code",
      "source": [
        "start = time.time()\n",
        "rs_dt.fit(X_train, y_train)\n",
        "end = time.time()\n",
        "print()\n",
        "(end - start)/60   # 3 sec"
      ],
      "metadata": {
        "colab": {
          "base_uri": "https://localhost:8080/"
        },
        "outputId": "6ae8bcfc-3f91-47b0-911f-8e7ef6a6813b",
        "id": "MIOwAUlchWLU"
      },
      "execution_count": 61,
      "outputs": [
        {
          "output_type": "stream",
          "name": "stdout",
          "text": [
            "Fitting 5 folds for each of 4 candidates, totalling 20 fits\n"
          ]
        },
        {
          "output_type": "execute_result",
          "data": {
            "text/plain": [
              "RandomizedSearchCV(cv=5,\n",
              "                   estimator=Pipeline(steps=[('ct',\n",
              "                                              ColumnTransformer(transformers=[('num',\n",
              "                                                                               Pipeline(steps=[('impute',\n",
              "                                                                                                SimpleImputer()),\n",
              "                                                                                               ('scale',\n",
              "                                                                                                StandardScaler())]),\n",
              "                                                                               ['Estimated_Insects_Count',\n",
              "                                                                                'Number_Doses_Week',\n",
              "                                                                                'Number_Weeks_Used',\n",
              "                                                                                'Number_Weeks_Quit']),\n",
              "                                                                              ('cat',\n",
              "                                                                               Pipeline(steps=[('impute',\n",
              "                                                                                                SimpleImputer(strategy='most_frequent')),\n",
              "                                                                                               ('one-hot',\n",
              "                                                                                                OneHotEncoder())]),\n",
              "                                                                               ['Crop_Type',\n",
              "                                                                                'Soil_Type',\n",
              "                                                                                'Pesticide_Use_Category',\n",
              "                                                                                'Season'])])),\n",
              "                                             ('sm', SMOTE(random_state=42)),\n",
              "                                             ('dt', DecisionTreeClassifier())]),\n",
              "                   n_iter=4, n_jobs=-1,\n",
              "                   param_distributions={'dt__criterion': ['gini', 'entropy'],\n",
              "                                        'dt__max_depth': [10, 15],\n",
              "                                        'dt__min_samples_split': [15, 25],\n",
              "                                        'dt__splitter': ['random']},\n",
              "                   refit='accuracy', scoring=['accuracy'], verbose=1)"
            ]
          },
          "metadata": {},
          "execution_count": 61
        },
        {
          "output_type": "stream",
          "name": "stdout",
          "text": [
            "\n"
          ]
        },
        {
          "output_type": "execute_result",
          "data": {
            "text/plain": [
              "0.22560417652130127"
            ]
          },
          "metadata": {},
          "execution_count": 61
        }
      ]
    },
    {
      "cell_type": "code",
      "source": [
        "# the parameters that gives best learning in decision tree\n",
        "rs_dt.best_params_"
      ],
      "metadata": {
        "colab": {
          "base_uri": "https://localhost:8080/"
        },
        "id": "tosXe4qjlhxs",
        "outputId": "b19438f1-81c8-43a2-d2f8-160eea08b39d"
      },
      "execution_count": 62,
      "outputs": [
        {
          "output_type": "execute_result",
          "data": {
            "text/plain": [
              "{'dt__splitter': 'random',\n",
              " 'dt__min_samples_split': 25,\n",
              " 'dt__max_depth': 15,\n",
              " 'dt__criterion': 'gini'}"
            ]
          },
          "metadata": {},
          "execution_count": 62
        }
      ]
    },
    {
      "cell_type": "code",
      "source": [
        "# Evaluate\n",
        "f\"Best score: {rs_dt.best_score_} \" ;print()           # 'Best score: 0.6813296245275972  '\n",
        "# f\"Best parameter set: {rs_dt.best_params_} \" ; print()\n",
        "\n",
        "\n",
        "# Make predictions from the best returned model\n",
        "y_pred = rs_dt.predict(X_test)\n",
        "\n",
        "\n",
        "# Accuracy and f1_score\n",
        "accuracy = accuracy_score(y_test, y_pred)\n",
        "f\"Accuracy: {accuracy * 100.0}\"   ; print()      # 'Accuracy: 66.21089354040063'\n",
        "f\"f1 score: {f1_score(y_test,y_pred, pos_label = 1, average='weighted')}\" ; print()     # f1 score: 0.7182499927132402s"
      ],
      "metadata": {
        "colab": {
          "base_uri": "https://localhost:8080/",
          "height": 72
        },
        "outputId": "7cae7e92-c5e6-4825-bda2-6cfe9dd83d5e",
        "id": "BnqG-3cZhZQa"
      },
      "execution_count": null,
      "outputs": [
        {
          "output_type": "execute_result",
          "data": {
            "text/plain": [
              "'Best score: 0.6626057685759401 '"
            ],
            "application/vnd.google.colaboratory.intrinsic+json": {
              "type": "string"
            }
          },
          "metadata": {},
          "execution_count": 96
        },
        {
          "output_type": "stream",
          "name": "stdout",
          "text": [
            "\n"
          ]
        },
        {
          "output_type": "execute_result",
          "data": {
            "text/plain": [
              "'Accuracy: 66.21089354040063'"
            ],
            "application/vnd.google.colaboratory.intrinsic+json": {
              "type": "string"
            }
          },
          "metadata": {},
          "execution_count": 96
        },
        {
          "output_type": "stream",
          "name": "stdout",
          "text": [
            "\n"
          ]
        },
        {
          "output_type": "execute_result",
          "data": {
            "text/plain": [
              "'f1 score: 0.7182499927132402'"
            ],
            "application/vnd.google.colaboratory.intrinsic+json": {
              "type": "string"
            }
          },
          "metadata": {},
          "execution_count": 96
        },
        {
          "output_type": "stream",
          "name": "stdout",
          "text": [
            "\n"
          ]
        }
      ]
    },
    {
      "cell_type": "code",
      "source": [],
      "metadata": {
        "id": "tq2daHZ-lwaI"
      },
      "execution_count": null,
      "outputs": []
    },
    {
      "cell_type": "markdown",
      "source": [
        "### Without oversampling"
      ],
      "metadata": {
        "id": "1XWi3eLyiTJJ"
      }
    },
    {
      "cell_type": "code",
      "source": [
        "# Hypertuning for decision tree\n",
        "\n",
        "rs_dt_wos = RandomizedSearchCV(\n",
        "                          pt_dt_wos,\n",
        "                          param_distributions=parameters_dt,\n",
        "                          scoring= ['accuracy'],\n",
        "                          n_iter=4,           # Max combination of\n",
        "                                              # parameter to try. Default = 10\n",
        "                          verbose = 1,\n",
        "                          refit = 'accuracy',\n",
        "                          n_jobs = -1,          # Use parallel cpu threads\n",
        "                          cv = 5               # No of folds.\n",
        "                                              # So n_iter * cv combinations\n",
        "                        )"
      ],
      "metadata": {
        "id": "4zbPGzgDsa_4"
      },
      "execution_count": 88,
      "outputs": []
    },
    {
      "cell_type": "code",
      "source": [
        "start = time.time()\n",
        "rs_dt_wos.fit(X_train, y_train)\n",
        "end = time.time()\n",
        "print()\n",
        "(end - start)/60   # 3 sec"
      ],
      "metadata": {
        "colab": {
          "base_uri": "https://localhost:8080/"
        },
        "outputId": "f1462764-77c6-49b6-89c6-75adecbbefc9",
        "id": "EhEbiEn7tTUc"
      },
      "execution_count": 91,
      "outputs": [
        {
          "output_type": "stream",
          "name": "stdout",
          "text": [
            "Fitting 5 folds for each of 4 candidates, totalling 20 fits\n"
          ]
        },
        {
          "output_type": "execute_result",
          "data": {
            "text/plain": [
              "RandomizedSearchCV(cv=5,\n",
              "                   estimator=Pipeline(steps=[('ct',\n",
              "                                              ColumnTransformer(transformers=[('num',\n",
              "                                                                               Pipeline(steps=[('impute',\n",
              "                                                                                                SimpleImputer()),\n",
              "                                                                                               ('scale',\n",
              "                                                                                                StandardScaler())]),\n",
              "                                                                               ['Estimated_Insects_Count',\n",
              "                                                                                'Number_Doses_Week',\n",
              "                                                                                'Number_Weeks_Used',\n",
              "                                                                                'Number_Weeks_Quit']),\n",
              "                                                                              ('cat',\n",
              "                                                                               Pipeline(steps=[('impute',\n",
              "                                                                                                SimpleImputer(strategy='most_frequent')),\n",
              "                                                                                               ('one-hot',\n",
              "                                                                                                OneHotEncoder())]),\n",
              "                                                                               ['Crop_Type',\n",
              "                                                                                'Soil_Type',\n",
              "                                                                                'Pesticide_Use_Category',\n",
              "                                                                                'Season'])])),\n",
              "                                             ('dt', DecisionTreeClassifier())]),\n",
              "                   n_iter=4, n_jobs=-1,\n",
              "                   param_distributions={'dt__criterion': ['gini', 'entropy'],\n",
              "                                        'dt__max_depth': [10, 15],\n",
              "                                        'dt__min_samples_split': [15, 25],\n",
              "                                        'dt__splitter': ['random']},\n",
              "                   refit='accuracy', scoring=['accuracy'], verbose=1)"
            ]
          },
          "metadata": {},
          "execution_count": 91
        },
        {
          "output_type": "stream",
          "name": "stdout",
          "text": [
            "\n"
          ]
        },
        {
          "output_type": "execute_result",
          "data": {
            "text/plain": [
              "0.07606090704600016"
            ]
          },
          "metadata": {},
          "execution_count": 91
        }
      ]
    },
    {
      "cell_type": "code",
      "source": [
        "# the parameters that gives best learning in decision tree\n",
        "rs_dt_wos.best_params_"
      ],
      "metadata": {
        "colab": {
          "base_uri": "https://localhost:8080/"
        },
        "outputId": "75907bfb-2e68-4e38-ff98-4073eaf7d1d4",
        "id": "45haI8AJtaff"
      },
      "execution_count": 92,
      "outputs": [
        {
          "output_type": "execute_result",
          "data": {
            "text/plain": [
              "{'dt__splitter': 'random',\n",
              " 'dt__min_samples_split': 25,\n",
              " 'dt__max_depth': 10,\n",
              " 'dt__criterion': 'gini'}"
            ]
          },
          "metadata": {},
          "execution_count": 92
        }
      ]
    },
    {
      "cell_type": "code",
      "source": [
        "# Evaluate\n",
        "f\"Best score: {rs_dt_wos.best_score_} \" ;print()           # 'Best score: 0.6813296245275972  '\n",
        "# f\"Best parameter set: {rs_dt.best_params_} \" ; print()\n",
        "\n",
        "\n",
        "# Make predictions from the best returned model\n",
        "y_pred = rs_dt_wos.predict(X_test)\n",
        "\n",
        "\n",
        "# Accuracy and f1_score\n",
        "accuracy = accuracy_score(y_test, y_pred)\n",
        "f\"Accuracy: {accuracy * 100.0}\"   ; print()      # 'Accuracy: 66.21089354040063'\n",
        "f\"f1 score: {f1_score(y_test,y_pred, pos_label = 1, average='weighted')}\" ; print()     # f1 score: 0.7182499927132402s"
      ],
      "metadata": {
        "colab": {
          "base_uri": "https://localhost:8080/",
          "height": 73
        },
        "outputId": "3b72e83a-5a6f-4d03-b08e-bd9c5aa69f1c",
        "id": "7s06WCoViOBI"
      },
      "execution_count": 93,
      "outputs": [
        {
          "output_type": "execute_result",
          "data": {
            "text/plain": [
              "'Best score: 0.8397996617210286 '"
            ],
            "application/vnd.google.colaboratory.intrinsic+json": {
              "type": "string"
            }
          },
          "metadata": {},
          "execution_count": 93
        },
        {
          "output_type": "stream",
          "name": "stdout",
          "text": [
            "\n"
          ]
        },
        {
          "output_type": "execute_result",
          "data": {
            "text/plain": [
              "'Accuracy: 84.2111186135494'"
            ],
            "application/vnd.google.colaboratory.intrinsic+json": {
              "type": "string"
            }
          },
          "metadata": {},
          "execution_count": 93
        },
        {
          "output_type": "stream",
          "name": "stdout",
          "text": [
            "\n"
          ]
        },
        {
          "output_type": "execute_result",
          "data": {
            "text/plain": [
              "'f1 score: 0.7944785090782224'"
            ],
            "application/vnd.google.colaboratory.intrinsic+json": {
              "type": "string"
            }
          },
          "metadata": {},
          "execution_count": 93
        },
        {
          "output_type": "stream",
          "name": "stdout",
          "text": [
            "\n"
          ]
        }
      ]
    },
    {
      "cell_type": "code",
      "source": [],
      "metadata": {
        "id": "oE2s7wPiiXn4"
      },
      "execution_count": null,
      "outputs": []
    },
    {
      "cell_type": "markdown",
      "source": [
        "# xgb classification without oversampling"
      ],
      "metadata": {
        "id": "1qe5v3T-5A-W"
      }
    },
    {
      "cell_type": "code",
      "source": [
        "from xgboost.sklearn import XGBClassifier"
      ],
      "metadata": {
        "id": "yHHFGjya4_pY"
      },
      "execution_count": 98,
      "outputs": []
    },
    {
      "cell_type": "code",
      "source": [
        "#creating the final pipeline to oversample the data and then apply XGB classification\n",
        "pt_xg= imbpipeline([\n",
        "              (\"ct\",ct),\n",
        "              # ('sm',SMOTE( random_state=42)),\n",
        "              ('xg',  XGBClassifier(silent = False, n_jobs=3))\n",
        "])"
      ],
      "metadata": {
        "id": "AO62qNc1ChH7"
      },
      "execution_count": 99,
      "outputs": []
    },
    {
      "cell_type": "code",
      "source": [
        "#fitting the training model in xgb\n",
        "pt_xg.fit(X_train, y_train)"
      ],
      "metadata": {
        "colab": {
          "base_uri": "https://localhost:8080/"
        },
        "id": "mlkXtYfi5Qb7",
        "outputId": "0f67cebf-0f32-4d77-88c2-efc663f9c273"
      },
      "execution_count": 100,
      "outputs": [
        {
          "output_type": "execute_result",
          "data": {
            "text/plain": [
              "Pipeline(steps=[('ct',\n",
              "                 ColumnTransformer(transformers=[('num',\n",
              "                                                  Pipeline(steps=[('impute',\n",
              "                                                                   SimpleImputer()),\n",
              "                                                                  ('scale',\n",
              "                                                                   StandardScaler())]),\n",
              "                                                  ['Estimated_Insects_Count',\n",
              "                                                   'Number_Doses_Week',\n",
              "                                                   'Number_Weeks_Used',\n",
              "                                                   'Number_Weeks_Quit']),\n",
              "                                                 ('cat',\n",
              "                                                  Pipeline(steps=[('impute',\n",
              "                                                                   SimpleImputer(strategy='most_frequent')),\n",
              "                                                                  ('one-hot',\n",
              "                                                                   OneHotEncoder())]),\n",
              "                                                  ['Crop_Type', 'Soil_Type',\n",
              "                                                   'Pesticide_Use_Category',\n",
              "                                                   'Season'])])),\n",
              "                ('xg',\n",
              "                 XGBClassifier(n_jobs=3, objective='multi:softprob',\n",
              "                               silent=False))])"
            ]
          },
          "metadata": {},
          "execution_count": 100
        }
      ]
    },
    {
      "cell_type": "code",
      "source": [
        "#predicting the crop damage\n",
        "pt_xg.predict(X_test)"
      ],
      "metadata": {
        "colab": {
          "base_uri": "https://localhost:8080/"
        },
        "id": "Sz100bbD5QZI",
        "outputId": "9eefa2bc-55c6-4de8-d7ea-58723cd00c24"
      },
      "execution_count": 101,
      "outputs": [
        {
          "output_type": "execute_result",
          "data": {
            "text/plain": [
              "array([0, 0, 0, ..., 0, 0, 0])"
            ]
          },
          "metadata": {},
          "execution_count": 101
        }
      ]
    },
    {
      "cell_type": "code",
      "source": [
        "#plot actual and predicted values for decision tree\n",
        "\n",
        "ax = sns.histplot(pt_xg.predict(X_test), color=\"r\", label=\"PREDICTED\", kde=True, linewidth = 0)\n",
        "sns.histplot(y_test, color=\"b\", label=\"ACTUAL\", kde=True, linewidth=0)\n",
        "\n",
        "\n",
        "plt.title('Actual vs Predicted Values')\n",
        "\n",
        "\n",
        "plt.show()\n",
        "plt.close()"
      ],
      "metadata": {
        "colab": {
          "base_uri": "https://localhost:8080/",
          "height": 314
        },
        "id": "hpAv70s65fPD",
        "outputId": "f0865502-c2a7-4615-fae6-7780d5bf93db"
      },
      "execution_count": 102,
      "outputs": [
        {
          "output_type": "execute_result",
          "data": {
            "text/plain": [
              "<matplotlib.axes._subplots.AxesSubplot at 0x7fdc08d3f690>"
            ]
          },
          "metadata": {},
          "execution_count": 102
        },
        {
          "output_type": "execute_result",
          "data": {
            "text/plain": [
              "Text(0.5, 1.0, 'Actual vs Predicted Values')"
            ]
          },
          "metadata": {},
          "execution_count": 102
        },
        {
          "output_type": "display_data",
          "data": {
            "text/plain": [
              "<Figure size 432x288 with 1 Axes>"
            ],
            "image/png": "[encoded data removed]"
          },
          "metadata": {
            "needs_background": "light"
          }
        }
      ]
    },
    {
      "cell_type": "code",
      "source": [
        "#Check the list of available parameters \n",
        "pt_xg.get_params().keys()"
      ],
      "metadata": {
        "colab": {
          "base_uri": "https://localhost:8080/"
        },
        "id": "uL-cohrI5jNA",
        "outputId": "d57246f4-1f19-41c3-fede-868468120890"
      },
      "execution_count": 103,
      "outputs": [
        {
          "output_type": "execute_result",
          "data": {
            "text/plain": [
              "dict_keys(['memory', 'steps', 'verbose', 'ct', 'xg', 'ct__n_jobs', 'ct__remainder', 'ct__sparse_threshold', 'ct__transformer_weights', 'ct__transformers', 'ct__verbose', 'ct__verbose_feature_names_out', 'ct__num', 'ct__cat', 'ct__num__memory', 'ct__num__steps', 'ct__num__verbose', 'ct__num__impute', 'ct__num__scale', 'ct__num__impute__add_indicator', 'ct__num__impute__copy', 'ct__num__impute__fill_value', 'ct__num__impute__missing_values', 'ct__num__impute__strategy', 'ct__num__impute__verbose', 'ct__num__scale__copy', 'ct__num__scale__with_mean', 'ct__num__scale__with_std', 'ct__cat__memory', 'ct__cat__steps', 'ct__cat__verbose', 'ct__cat__impute', 'ct__cat__one-hot', 'ct__cat__impute__add_indicator', 'ct__cat__impute__copy', 'ct__cat__impute__fill_value', 'ct__cat__impute__missing_values', 'ct__cat__impute__strategy', 'ct__cat__impute__verbose', 'ct__cat__one-hot__categories', 'ct__cat__one-hot__drop', 'ct__cat__one-hot__dtype', 'ct__cat__one-hot__handle_unknown', 'ct__cat__one-hot__sparse', 'xg__base_score', 'xg__booster', 'xg__colsample_bylevel', 'xg__colsample_bynode', 'xg__colsample_bytree', 'xg__gamma', 'xg__learning_rate', 'xg__max_delta_step', 'xg__max_depth', 'xg__min_child_weight', 'xg__missing', 'xg__n_estimators', 'xg__n_jobs', 'xg__nthread', 'xg__objective', 'xg__random_state', 'xg__reg_alpha', 'xg__reg_lambda', 'xg__scale_pos_weight', 'xg__seed', 'xg__silent', 'xg__subsample', 'xg__verbosity'])"
            ]
          },
          "metadata": {},
          "execution_count": 103
        }
      ]
    },
    {
      "cell_type": "code",
      "source": [
        "# Define dictionary for xgb\n",
        "#\n",
        "parameters_xg = { 'xg__learning_rate'     : [0.03, 0.05],\n",
        "                  'xg__n_estimators'      : [200,  300],\n",
        "                  'xg__max_depth'         : [4,6],\n",
        "                  'xg__booster'           : ['gbtree','gblinear']\n",
        "              \n",
        "               }                               # Total: 2 * 2 * 2 * 2 = 16\n"
      ],
      "metadata": {
        "id": "rADga3v65of0"
      },
      "execution_count": 104,
      "outputs": []
    },
    {
      "cell_type": "code",
      "source": [
        "\n",
        "grid_search_XG = GridSearchCV(estimator=pt_xg,\n",
        "                           param_grid=parameters_xg,\n",
        "                           scoring = ['accuracy', 'f1'],\n",
        "                           cv=5,\n",
        "                           n_jobs=-1,\n",
        "                           verbose =1,         # Higher the value, more the verbosity\n",
        "                           refit = 'f1'\n",
        "                           )\n",
        "\n",
        "start = time.time()\n",
        "grid_search_XG.fit(X_train, y_train)\n",
        "print(\"\\n\\n--Takes time...---\\n\")\n",
        "end = time.time()\n",
        "print()\n",
        "(end - start)/60               # 26 minute\n"
      ],
      "metadata": {
        "colab": {
          "base_uri": "https://localhost:8080/"
        },
        "id": "-TqZS-_Y5r9W",
        "outputId": "14819a7e-9445-488a-df73-f6f86c710c63"
      },
      "execution_count": 105,
      "outputs": [
        {
          "output_type": "stream",
          "name": "stdout",
          "text": [
            "Fitting 5 folds for each of 16 candidates, totalling 80 fits\n"
          ]
        },
        {
          "output_type": "stream",
          "name": "stderr",
          "text": [
            "/usr/local/lib/python3.7/dist-packages/sklearn/model_selection/_search.py:972: UserWarning: One or more of the test scores are non-finite: [nan nan nan nan nan nan nan nan nan nan nan nan nan nan nan nan]\n",
            "  category=UserWarning,\n"
          ]
        },
        {
          "output_type": "execute_result",
          "data": {
            "text/plain": [
              "GridSearchCV(cv=5,\n",
              "             estimator=Pipeline(steps=[('ct',\n",
              "                                        ColumnTransformer(transformers=[('num',\n",
              "                                                                         Pipeline(steps=[('impute',\n",
              "                                                                                          SimpleImputer()),\n",
              "                                                                                         ('scale',\n",
              "                                                                                          StandardScaler())]),\n",
              "                                                                         ['Estimated_Insects_Count',\n",
              "                                                                          'Number_Doses_Week',\n",
              "                                                                          'Number_Weeks_Used',\n",
              "                                                                          'Number_Weeks_Quit']),\n",
              "                                                                        ('cat',\n",
              "                                                                         Pipeline(steps=[('impute',\n",
              "                                                                                          SimpleImputer(strategy='most_frequent')),\n",
              "                                                                                         ('one-hot',\n",
              "                                                                                          OneHotEncoder())]),\n",
              "                                                                         ['Crop_Type',\n",
              "                                                                          'Soil_Type',\n",
              "                                                                          'Pesticide_Use_Category',\n",
              "                                                                          'Season'])])),\n",
              "                                       ('xg',\n",
              "                                        XGBClassifier(n_jobs=3,\n",
              "                                                      objective='multi:softprob',\n",
              "                                                      silent=False))]),\n",
              "             n_jobs=-1,\n",
              "             param_grid={'xg__booster': ['gbtree', 'gblinear'],\n",
              "                         'xg__learning_rate': [0.03, 0.05],\n",
              "                         'xg__max_depth': [4, 6],\n",
              "                         'xg__n_estimators': [200, 300]},\n",
              "             refit='f1', scoring=['accuracy', 'f1'], verbose=1)"
            ]
          },
          "metadata": {},
          "execution_count": 105
        },
        {
          "output_type": "stream",
          "name": "stdout",
          "text": [
            "\n",
            "\n",
            "--Takes time...---\n",
            "\n",
            "\n"
          ]
        },
        {
          "output_type": "execute_result",
          "data": {
            "text/plain": [
              "26.624250173568726"
            ]
          },
          "metadata": {},
          "execution_count": 105
        }
      ]
    },
    {
      "cell_type": "code",
      "source": [
        "grid_search_XG.best_params_"
      ],
      "metadata": {
        "colab": {
          "base_uri": "https://localhost:8080/"
        },
        "id": "zzvmuISu5wAo",
        "outputId": "602e10dd-10b9-4558-9244-23a31614b520"
      },
      "execution_count": 106,
      "outputs": [
        {
          "output_type": "execute_result",
          "data": {
            "text/plain": [
              "{'xg__booster': 'gbtree',\n",
              " 'xg__learning_rate': 0.03,\n",
              " 'xg__max_depth': 4,\n",
              " 'xg__n_estimators': 200}"
            ]
          },
          "metadata": {},
          "execution_count": 106
        }
      ]
    },
    {
      "cell_type": "code",
      "source": [
        "# Make predictions from the best returned model\n",
        "y_pred = grid_search_XG.predict(X_test)\n",
        "\n",
        "\n",
        "# Accuracy and f1_score\n",
        "accuracy = accuracy_score(y_test, y_pred)\n",
        "f\"Accuracy: {accuracy * 100.0}\"   ; print()      # 'Accuracy: 68.02835921674544'\n",
        "f\"f1 score: {f1_score(y_test,y_pred, pos_label = 1, average='weighted')}\" ; print()     # 0.7319591218626418"
      ],
      "metadata": {
        "colab": {
          "base_uri": "https://localhost:8080/",
          "height": 54
        },
        "id": "RrVQpZ8850rF",
        "outputId": "803123ba-a9e1-4004-d49f-fe4809187471"
      },
      "execution_count": 108,
      "outputs": [
        {
          "output_type": "execute_result",
          "data": {
            "text/plain": [
              "'Accuracy: 84.5937429664641'"
            ],
            "application/vnd.google.colaboratory.intrinsic+json": {
              "type": "string"
            }
          },
          "metadata": {},
          "execution_count": 108
        },
        {
          "output_type": "stream",
          "name": "stdout",
          "text": [
            "\n"
          ]
        },
        {
          "output_type": "execute_result",
          "data": {
            "text/plain": [
              "'f1 score: 0.7941032143495466'"
            ],
            "application/vnd.google.colaboratory.intrinsic+json": {
              "type": "string"
            }
          },
          "metadata": {},
          "execution_count": 108
        },
        {
          "output_type": "stream",
          "name": "stdout",
          "text": [
            "\n"
          ]
        }
      ]
    },
    {
      "cell_type": "code",
      "source": [
        "# Tune parameters using xgb\n",
        "\n",
        "rs_xg = RandomizedSearchCV(\n",
        "                          pt_xg,\n",
        "                          param_distributions=parameters_xg,\n",
        "                          scoring= ['accuracy'],\n",
        "                          n_iter=4,           # Max combination of\n",
        "                                              # parameter to try. Default = 10\n",
        "                          verbose = 1,\n",
        "                          refit = 'accuracy',\n",
        "                          n_jobs = -1,          # Use parallel cpu threads\n",
        "                          cv = 5               # No of folds.\n",
        "                                              # So n_iter * cv combinations\n",
        "                        )"
      ],
      "metadata": {
        "id": "28O8gsCx50ph"
      },
      "execution_count": 109,
      "outputs": []
    },
    {
      "cell_type": "code",
      "source": [
        "start = time.time()\n",
        "rs_xg.fit(X_train, y_train)\n",
        "end = time.time()\n",
        "print()\n",
        "(end - start)/60   # 8 minutes"
      ],
      "metadata": {
        "colab": {
          "base_uri": "https://localhost:8080/"
        },
        "id": "i2ijHXmh6XFz",
        "outputId": "3d875d83-3a83-4cde-aed3-695e00c12945"
      },
      "execution_count": 110,
      "outputs": [
        {
          "output_type": "stream",
          "name": "stdout",
          "text": [
            "Fitting 5 folds for each of 4 candidates, totalling 20 fits\n"
          ]
        },
        {
          "output_type": "execute_result",
          "data": {
            "text/plain": [
              "RandomizedSearchCV(cv=5,\n",
              "                   estimator=Pipeline(steps=[('ct',\n",
              "                                              ColumnTransformer(transformers=[('num',\n",
              "                                                                               Pipeline(steps=[('impute',\n",
              "                                                                                                SimpleImputer()),\n",
              "                                                                                               ('scale',\n",
              "                                                                                                StandardScaler())]),\n",
              "                                                                               ['Estimated_Insects_Count',\n",
              "                                                                                'Number_Doses_Week',\n",
              "                                                                                'Number_Weeks_Used',\n",
              "                                                                                'Number_Weeks_Quit']),\n",
              "                                                                              ('cat',\n",
              "                                                                               Pipeline(steps=[('impute',\n",
              "                                                                                                SimpleImputer(strategy='most_frequent')),\n",
              "                                                                                               ('one-hot',\n",
              "                                                                                                OneHotEnc...))]),\n",
              "                                                                               ['Crop_Type',\n",
              "                                                                                'Soil_Type',\n",
              "                                                                                'Pesticide_Use_Category',\n",
              "                                                                                'Season'])])),\n",
              "                                             ('xg',\n",
              "                                              XGBClassifier(n_jobs=3,\n",
              "                                                            objective='multi:softprob',\n",
              "                                                            silent=False))]),\n",
              "                   n_iter=4, n_jobs=-1,\n",
              "                   param_distributions={'xg__booster': ['gbtree', 'gblinear'],\n",
              "                                        'xg__learning_rate': [0.03, 0.05],\n",
              "                                        'xg__max_depth': [4, 6],\n",
              "                                        'xg__n_estimators': [200, 300]},\n",
              "                   refit='accuracy', scoring=['accuracy'], verbose=1)"
            ]
          },
          "metadata": {},
          "execution_count": 110
        },
        {
          "output_type": "stream",
          "name": "stdout",
          "text": [
            "\n"
          ]
        },
        {
          "output_type": "execute_result",
          "data": {
            "text/plain": [
              "7.066762296358744"
            ]
          },
          "metadata": {},
          "execution_count": 110
        }
      ]
    },
    {
      "cell_type": "code",
      "source": [
        "# the parameters that gives best learning in random forest\n",
        "rs_xg.best_params_"
      ],
      "metadata": {
        "colab": {
          "base_uri": "https://localhost:8080/"
        },
        "id": "Qg9lum3D6c3P",
        "outputId": "f3b69ff0-a8c4-4583-8b36-23fb67fc0aed"
      },
      "execution_count": 111,
      "outputs": [
        {
          "output_type": "execute_result",
          "data": {
            "text/plain": [
              "{'xg__n_estimators': 200,\n",
              " 'xg__max_depth': 6,\n",
              " 'xg__learning_rate': 0.03,\n",
              " 'xg__booster': 'gbtree'}"
            ]
          },
          "metadata": {},
          "execution_count": 111
        }
      ]
    },
    {
      "cell_type": "code",
      "source": [
        "# Evaluate\n",
        "f\"Best score: {rs_xg.best_score_} \" ;print()           # 'Best score: 0.6813296245275972  '\n",
        "# f\"Best parameter set: {rs.best_params_} \" ; print()\n",
        "\n",
        "\n",
        "# Make predictions from the best returned model\n",
        "y_pred = rs_xg.predict(X_test)\n",
        "\n",
        "\n",
        "# Accuracy and f1_score\n",
        "accuracy = accuracy_score(y_test, y_pred)\n",
        "f\"Accuracy: {accuracy * 100.0}\"   ; print()      # 'Accuracy: 68.02835921674544'\n",
        "f\"f1 score: {f1_score(y_test,y_pred, pos_label = 1, average='weighted')}\" ; print()     # 0.7319591218626418"
      ],
      "metadata": {
        "colab": {
          "base_uri": "https://localhost:8080/",
          "height": 73
        },
        "id": "fOiYGVPL6dye",
        "outputId": "423bb955-b7ef-467a-8533-6556856cb904"
      },
      "execution_count": 113,
      "outputs": [
        {
          "output_type": "execute_result",
          "data": {
            "text/plain": [
              "'Best score: 0.8455251412126765 '"
            ],
            "application/vnd.google.colaboratory.intrinsic+json": {
              "type": "string"
            }
          },
          "metadata": {},
          "execution_count": 113
        },
        {
          "output_type": "stream",
          "name": "stdout",
          "text": [
            "\n"
          ]
        },
        {
          "output_type": "execute_result",
          "data": {
            "text/plain": [
              "'Accuracy: 84.6443844249381'"
            ],
            "application/vnd.google.colaboratory.intrinsic+json": {
              "type": "string"
            }
          },
          "metadata": {},
          "execution_count": 113
        },
        {
          "output_type": "stream",
          "name": "stdout",
          "text": [
            "\n"
          ]
        },
        {
          "output_type": "execute_result",
          "data": {
            "text/plain": [
              "'f1 score: 0.8002323781288349'"
            ],
            "application/vnd.google.colaboratory.intrinsic+json": {
              "type": "string"
            }
          },
          "metadata": {},
          "execution_count": 113
        },
        {
          "output_type": "stream",
          "name": "stdout",
          "text": [
            "\n"
          ]
        }
      ]
    },
    {
      "cell_type": "code",
      "source": [],
      "metadata": {
        "id": "AHfywNdwEwy3"
      },
      "execution_count": null,
      "outputs": []
    }
  ]
}